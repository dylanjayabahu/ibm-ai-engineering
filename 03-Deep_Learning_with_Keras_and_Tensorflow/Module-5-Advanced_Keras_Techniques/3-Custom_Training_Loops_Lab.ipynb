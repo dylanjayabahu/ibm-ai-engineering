{
 "cells": [
  {
   "cell_type": "markdown",
   "id": "95e1ed43-b72e-42a0-98cc-c78f4d1dfb6a",
   "metadata": {},
   "source": [
    "<p style=\"text-align:center\">\n",
    "    <a href=\"https://skills.network\" target=\"_blank\">\n",
    "    <img src=\"https://cf-courses-data.s3.us.cloud-object-storage.appdomain.cloud/assets/logos/SN_web_lightmode.png\" width=\"200\" alt=\"Skills Network Logo\"  />\n",
    "    </a>\n",
    "</p>\n"
   ]
  },
  {
   "cell_type": "markdown",
   "id": "d533ca40-8918-439b-ade4-b852959ec7d6",
   "metadata": {},
   "source": [
    "# **Lab: Custom Training Loops in Keras**\n"
   ]
  },
  {
   "cell_type": "markdown",
   "id": "8fb21332-2067-4dc1-9788-6809ed739a6a",
   "metadata": {},
   "source": [
    "Estimated time needed: **30** minutes\n"
   ]
  },
  {
   "cell_type": "markdown",
   "id": "e8e07912-e233-4249-ae1d-18029889caaf",
   "metadata": {},
   "source": [
    "In this lab, you will learn to implement a basic custom training loop in Keras. \n"
   ]
  },
  {
   "cell_type": "markdown",
   "id": "dc472da5-2ee1-457b-b623-5e7541df536b",
   "metadata": {},
   "source": [
    "## Objectives\n",
    "\n",
    "By the end of this lab, you will: \n",
    "\n",
    "- Set up the environment \n",
    "\n",
    "- Define the neural network model \n",
    "\n",
    "- Define the Loss Function and Optimizer \n",
    "\n",
    "- Implement the custom training loop \n",
    "\n",
    "- Enhance the custom training loop by adding an accuracy metric to monitor model performance \n",
    "\n",
    "- Implement a custom callback to log additional metrics and information during training\n"
   ]
  },
  {
   "cell_type": "markdown",
   "id": "fbcc4b26-ad4c-4fc5-99cf-c15b8df5dafb",
   "metadata": {},
   "source": [
    "----\n"
   ]
  },
  {
   "cell_type": "markdown",
   "id": "000a5343-2449-4858-b67b-b2848a1f1e3c",
   "metadata": {},
   "source": [
    "## Step-by-Step Instructions:\n"
   ]
  },
  {
   "cell_type": "markdown",
   "id": "7f05a3c6-920a-4368-a112-0fc707574e40",
   "metadata": {},
   "source": [
    "### Exercise 1: Basic custom training loop: \n",
    "\n",
    "#### 1. Set Up the Environment:\n",
    "\n",
    "- Import necessary libraries. \n",
    "\n",
    "- Load and preprocess the MNIST dataset. \n"
   ]
  },
  {
   "cell_type": "code",
   "execution_count": null,
   "id": "ceaa1ebd-849b-4751-8ca6-34d3dafe5718",
   "metadata": {},
   "outputs": [],
   "source": [
    "# !pip install tensorflow numpy"
   ]
  },
  {
   "cell_type": "code",
   "execution_count": 1,
   "id": "728f25e0-fb12-49a0-a9cb-88312e48f5bf",
   "metadata": {},
   "outputs": [],
   "source": [
    "import os\n",
    "import warnings\n",
    "import tensorflow as tf \n",
    "from tensorflow.keras.models import Sequential, Model\n",
    "from tensorflow.keras.layers import Dense, Flatten, Input\n",
    "from tensorflow.keras.callbacks import Callback\n",
    "import numpy as np\n",
    "\n",
    "# Suppress all Python warnings\n",
    "warnings.filterwarnings('ignore')\n",
    "\n",
    "# Set TensorFlow log level to suppress warnings and info messages\n",
    "os.environ['TF_CPP_MIN_LOG_LEVEL'] = '2'\n",
    "\n",
    "# Step 1: Set Up the Environment\n",
    "(x_train, y_train), (x_test, y_test) = tf.keras.datasets.mnist.load_data() \n",
    "x_train, x_test = x_train / 255.0, x_test / 255.0 \n",
    "train_dataset = tf.data.Dataset.from_tensor_slices((x_train, y_train)).batch(32)\n"
   ]
  },
  {
   "cell_type": "markdown",
   "id": "2233472b-ec3c-45ba-a190-8086c8f61a6a",
   "metadata": {},
   "source": [
    "#### 2. Define the model: \n",
    "\n",
    "Create a simple neural network model with a Flatten layer followed by two Dense layers. \n"
   ]
  },
  {
   "cell_type": "code",
   "execution_count": 2,
   "id": "a9ecb75e-7548-464d-bf40-d7bbff1a64e2",
   "metadata": {},
   "outputs": [],
   "source": [
    "# Step 2: Define the Model\n",
    "\n",
    "model = Sequential([\n",
    "    Flatten(input_shape=(28, 28)),\n",
    "    Dense(128, activation='relu'),\n",
    "    Dense(10)\n",
    "])\n"
   ]
  },
  {
   "cell_type": "markdown",
   "id": "39da66e3-1717-40ed-a8b5-413bb16dad08",
   "metadata": {},
   "source": [
    "#### 3. Define Loss Function and Optimizer: \n",
    "\n",
    "- Use Sparse Categorical Crossentropy for the loss function. \n",
    "- Use the Adam optimizer. \n"
   ]
  },
  {
   "cell_type": "code",
   "execution_count": 3,
   "id": "fb5839c9-2bc1-41bd-a0cd-8b1fe65f2c7f",
   "metadata": {},
   "outputs": [],
   "source": [
    "# Step 3: Define Loss Function and Optimizer\n",
    "\n",
    "loss_fn = tf.keras.losses.SparseCategoricalCrossentropy(from_logits=True) \n",
    "optimizer = tf.keras.optimizers.Adam()\n"
   ]
  },
  {
   "cell_type": "markdown",
   "id": "1c75bf9b-6e3e-4246-a718-51bc4122d618",
   "metadata": {},
   "source": [
    "#### 4. Implement the Custom Training Loop: \n",
    "\n",
    "- Iterate over the dataset for a specified number of epochs. \n",
    "- Compute the loss and apply gradients to update the model's weights. \n"
   ]
  },
  {
   "cell_type": "code",
   "execution_count": null,
   "id": "80afaf2c-1e40-4146-8672-d1b59b32ed91",
   "metadata": {},
   "outputs": [
    {
     "name": "stdout",
     "output_type": "stream",
     "text": [
      "Start of epoch 1\n",
      "Epoch 1 Step 0: Loss = 2.432589530944824\n",
      "Epoch 1 Step 200: Loss = 0.3413095474243164\n",
      "Epoch 1 Step 400: Loss = 0.17241588234901428\n",
      "Epoch 1 Step 600: Loss = 0.17809322476387024\n",
      "Epoch 1 Step 800: Loss = 0.18131816387176514\n",
      "Epoch 1 Step 1000: Loss = 0.48771440982818604\n",
      "Epoch 1 Step 1200: Loss = 0.18720555305480957\n",
      "Epoch 1 Step 1400: Loss = 0.2854861617088318\n",
      "Epoch 1 Step 1600: Loss = 0.21896056830883026\n",
      "Epoch 1 Step 1800: Loss = 0.18403925001621246\n",
      "Start of epoch 2\n",
      "Epoch 2 Step 0: Loss = 0.06867899000644684\n",
      "Epoch 2 Step 200: Loss = 0.15284310281276703\n",
      "Epoch 2 Step 400: Loss = 0.12638379633426666\n",
      "Epoch 2 Step 600: Loss = 0.05956582725048065\n",
      "Epoch 2 Step 800: Loss = 0.11522707343101501\n",
      "Epoch 2 Step 1000: Loss = 0.3289414644241333\n",
      "Epoch 2 Step 1200: Loss = 0.1103236973285675\n",
      "Epoch 2 Step 1400: Loss = 0.16828614473342896\n",
      "Epoch 2 Step 1600: Loss = 0.23138342797756195\n",
      "Epoch 2 Step 1800: Loss = 0.08097072690725327\n"
     ]
    }
   ],
   "source": [
    "# Step 4: Implement the Custom Training Loop\n",
    "\n",
    "epochs = 2\n",
    "# train_dataset = train_dataset.repeat(epochs)\n",
    "train_dataset = tf.data.Dataset.from_tensor_slices((x_train, y_train)).batch(32)\n",
    "for epoch in range(epochs):\n",
    "    print(f'Start of epoch {epoch + 1}')\n",
    "\n",
    "    for step, (x_batch_train, y_batch_train) in enumerate(train_dataset):\n",
    "        with tf.GradientTape() as tape:\n",
    "            logits = model(x_batch_train, training=True)  # Forward pass\n",
    "            loss_value = loss_fn(y_batch_train, logits)  # Compute loss\n",
    "\n",
    "        # Compute gradients and update weights\n",
    "        grads = tape.gradient(loss_value, model.trainable_weights)\n",
    "        optimizer.apply_gradients(zip(grads, model.trainable_weights))\n",
    "\n",
    "        # Logging the loss every 200 steps\n",
    "        if step % 200 == 0:\n",
    "            print(f'Epoch {epoch + 1} Step {step}: Loss = {loss_value.numpy()}')\n"
   ]
  },
  {
   "cell_type": "markdown",
   "id": "238c0013-3e17-4937-a602-217111db3f22",
   "metadata": {},
   "source": [
    "### Exercise 2: Adding Accuracy Metric:\n",
    "\n",
    "Enhance the custom training loop by adding an accuracy metric to monitor model performance. \n",
    "\n",
    "#### 1. Set Up the Environment: \n",
    "\n",
    "Follow the setup from Exercise 1. \n"
   ]
  },
  {
   "cell_type": "code",
   "execution_count": 5,
   "id": "b891a118-9ed8-4806-929c-baf71a646d09",
   "metadata": {},
   "outputs": [],
   "source": [
    "import tensorflow as tf \n",
    "from tensorflow.keras.models import Sequential \n",
    "from tensorflow.keras.layers import Dense, Flatten \n",
    "\n",
    "# Step 1: Set Up the Environment\n",
    "(x_train, y_train), (x_test, y_test) = tf.keras.datasets.mnist.load_data()\n",
    "\n",
    "# Normalize the pixel values to be between 0 and 1\n",
    "x_train, x_test = x_train / 255.0, x_test / 255.0 \n",
    "\n",
    "# Create a batched dataset for training\n",
    "train_dataset = tf.data.Dataset.from_tensor_slices((x_train, y_train)).batch(32)\n"
   ]
  },
  {
   "cell_type": "markdown",
   "id": "a9cfea84-f1df-407d-9f84-0adb91e3bba7",
   "metadata": {},
   "source": [
    "#### 2. Define the Model: \n",
    "Use the same model as in Exercise 1. \n"
   ]
  },
  {
   "cell_type": "code",
   "execution_count": 6,
   "id": "7263943a-fcaf-4b16-b24c-25f80911fe78",
   "metadata": {},
   "outputs": [],
   "source": [
    "# Step 2: Define the Model\n",
    "\n",
    "model = Sequential([ \n",
    "    Flatten(input_shape=(28, 28)),  # Flatten the input to a 1D vector\n",
    "    Dense(128, activation='relu'),  # First hidden layer with 128 neurons and ReLU activation\n",
    "    Dense(10)  # Output layer with 10 neurons for the 10 classes (digits 0-9)\n",
    "])\n"
   ]
  },
  {
   "cell_type": "markdown",
   "id": "37bacfd4-5dbb-4f93-a388-bfdd1da07c59",
   "metadata": {},
   "source": [
    "#### 3. Define the loss function, optimizer, and metric: \n",
    "\n",
    "- Use Sparse Categorical Crossentropy for the loss function and Adam optimizer. \n",
    "\n",
    "- Add Sparse Categorical Accuracy as a metric. \n"
   ]
  },
  {
   "cell_type": "code",
   "execution_count": 7,
   "id": "b425d918-3140-4e52-9e61-14e7b192ae7b",
   "metadata": {},
   "outputs": [],
   "source": [
    "# Step 3: Define Loss Function, Optimizer, and Metric\n",
    "\n",
    "loss_fn = tf.keras.losses.SparseCategoricalCrossentropy(from_logits=True)  # Loss function for multi-class classification\n",
    "optimizer = tf.keras.optimizers.Adam()  # Adam optimizer for efficient training\n",
    "accuracy_metric = tf.keras.metrics.SparseCategoricalAccuracy()  # Metric to track accuracy during training\n"
   ]
  },
  {
   "cell_type": "markdown",
   "id": "bba0bb46-7671-4192-b624-8b40e3bc8a00",
   "metadata": {},
   "source": [
    "#### 4. Implement the custom training loop with accuracy: \n",
    "\n",
    "Track the accuracy during training and print it at regular intervals. \n"
   ]
  },
  {
   "cell_type": "code",
   "execution_count": 8,
   "id": "7bb3041b-89b1-41f5-a557-4b9fad10236a",
   "metadata": {},
   "outputs": [
    {
     "name": "stdout",
     "output_type": "stream",
     "text": [
      "Start of epoch 1\n",
      "Epoch 1 Step 0: Loss = 2.254697322845459 Accuracy = 0.21875\n",
      "Epoch 1 Step 200: Loss = 0.368346631526947 Accuracy = 0.8369091749191284\n",
      "Epoch 1 Step 400: Loss = 0.1845041811466217 Accuracy = 0.868453860282898\n",
      "Epoch 1 Step 600: Loss = 0.20887811481952667 Accuracy = 0.883683443069458\n",
      "Epoch 1 Step 800: Loss = 0.15555763244628906 Accuracy = 0.8969257473945618\n",
      "Epoch 1 Step 1000: Loss = 0.4237102270126343 Accuracy = 0.9040647149085999\n",
      "Epoch 1 Step 1200: Loss = 0.18968802690505981 Accuracy = 0.9104652404785156\n",
      "Epoch 1 Step 1400: Loss = 0.24778926372528076 Accuracy = 0.9154175519943237\n",
      "Epoch 1 Step 1600: Loss = 0.23833373188972473 Accuracy = 0.9186250567436218\n",
      "Epoch 1 Step 1800: Loss = 0.1558755338191986 Accuracy = 0.9228032827377319\n",
      "Start of epoch 2\n",
      "Epoch 2 Step 0: Loss = 0.0843583196401596 Accuracy = 0.96875\n",
      "Epoch 2 Step 200: Loss = 0.17804749310016632 Accuracy = 0.9620646834373474\n",
      "Epoch 2 Step 400: Loss = 0.13428200781345367 Accuracy = 0.9590087532997131\n",
      "Epoch 2 Step 600: Loss = 0.05137854814529419 Accuracy = 0.9607425332069397\n",
      "Epoch 2 Step 800: Loss = 0.0805499255657196 Accuracy = 0.961571455001831\n",
      "Epoch 2 Step 1000: Loss = 0.22759826481342316 Accuracy = 0.9619755148887634\n",
      "Epoch 2 Step 1200: Loss = 0.12794211506843567 Accuracy = 0.9626873731613159\n",
      "Epoch 2 Step 1400: Loss = 0.15055258572101593 Accuracy = 0.9631513357162476\n",
      "Epoch 2 Step 1600: Loss = 0.1482657790184021 Accuracy = 0.963109016418457\n",
      "Epoch 2 Step 1800: Loss = 0.09133311361074448 Accuracy = 0.9639089107513428\n",
      "Start of epoch 3\n",
      "Epoch 3 Step 0: Loss = 0.043482907116413116 Accuracy = 1.0\n",
      "Epoch 3 Step 200: Loss = 0.13527657091617584 Accuracy = 0.9751243591308594\n",
      "Epoch 3 Step 400: Loss = 0.12047098577022552 Accuracy = 0.9721789360046387\n",
      "Epoch 3 Step 600: Loss = 0.03816187009215355 Accuracy = 0.9733257293701172\n",
      "Epoch 3 Step 800: Loss = 0.03667089343070984 Accuracy = 0.9736267328262329\n",
      "Epoch 3 Step 1000: Loss = 0.14351998269557953 Accuracy = 0.9742133021354675\n",
      "Epoch 3 Step 1200: Loss = 0.10678817331790924 Accuracy = 0.9745004177093506\n",
      "Epoch 3 Step 1400: Loss = 0.08503564447164536 Accuracy = 0.974549412727356\n",
      "Epoch 3 Step 1600: Loss = 0.07760324329137802 Accuracy = 0.9744886159896851\n",
      "Epoch 3 Step 1800: Loss = 0.04694867134094238 Accuracy = 0.9749618172645569\n",
      "Start of epoch 4\n",
      "Epoch 4 Step 0: Loss = 0.024219781160354614 Accuracy = 1.0\n",
      "Epoch 4 Step 200: Loss = 0.11106344312429428 Accuracy = 0.9827425479888916\n",
      "Epoch 4 Step 400: Loss = 0.09076129645109177 Accuracy = 0.9803615808486938\n",
      "Epoch 4 Step 600: Loss = 0.025040004402399063 Accuracy = 0.9807612299919128\n",
      "Epoch 4 Step 800: Loss = 0.014538068324327469 Accuracy = 0.9808052182197571\n",
      "Epoch 4 Step 1000: Loss = 0.12609122693538666 Accuracy = 0.9812687039375305\n",
      "Epoch 4 Step 1200: Loss = 0.07683594524860382 Accuracy = 0.9817860126495361\n",
      "Epoch 4 Step 1400: Loss = 0.03258173540234566 Accuracy = 0.9817541241645813\n",
      "Epoch 4 Step 1600: Loss = 0.03986953943967819 Accuracy = 0.98171067237854\n",
      "Epoch 4 Step 1800: Loss = 0.028225300833582878 Accuracy = 0.9821106195449829\n",
      "Start of epoch 5\n",
      "Epoch 5 Step 0: Loss = 0.01570979133248329 Accuracy = 1.0\n",
      "Epoch 5 Step 200: Loss = 0.07137805968523026 Accuracy = 0.9861629605293274\n",
      "Epoch 5 Step 400: Loss = 0.09667043387889862 Accuracy = 0.9862063527107239\n",
      "Epoch 5 Step 600: Loss = 0.022710062563419342 Accuracy = 0.9870008230209351\n",
      "Epoch 5 Step 800: Loss = 0.010020473971962929 Accuracy = 0.9866573214530945\n",
      "Epoch 5 Step 1000: Loss = 0.07731983065605164 Accuracy = 0.9870129823684692\n",
      "Epoch 5 Step 1200: Loss = 0.04257998242974281 Accuracy = 0.9872502088546753\n",
      "Epoch 5 Step 1400: Loss = 0.018903106451034546 Accuracy = 0.9871966242790222\n",
      "Epoch 5 Step 1600: Loss = 0.03879975900053978 Accuracy = 0.9872735738754272\n",
      "Epoch 5 Step 1800: Loss = 0.030358556658029556 Accuracy = 0.9875416159629822\n"
     ]
    }
   ],
   "source": [
    "# Step 4: Implement the Custom Training Loop with Accuracy\n",
    "\n",
    "epochs = 5  # Number of epochs for training\n",
    "\n",
    "for epoch in range(epochs):\n",
    "    print(f'Start of epoch {epoch + 1}')\n",
    "    \n",
    "    for step, (x_batch_train, y_batch_train) in enumerate(train_dataset):\n",
    "        with tf.GradientTape() as tape:\n",
    "            # Forward pass: Compute predictions\n",
    "            logits = model(x_batch_train, training=True)\n",
    "            # Compute loss\n",
    "            loss_value = loss_fn(y_batch_train, logits)\n",
    "        \n",
    "        # Compute gradients\n",
    "        grads = tape.gradient(loss_value, model.trainable_weights)\n",
    "        # Apply gradients to update model weights\n",
    "        optimizer.apply_gradients(zip(grads, model.trainable_weights))\n",
    "        \n",
    "        # Update the accuracy metric\n",
    "        accuracy_metric.update_state(y_batch_train, logits)\n",
    "\n",
    "        # Log the loss and accuracy every 200 steps\n",
    "        if step % 200 == 0:\n",
    "            print(f'Epoch {epoch + 1} Step {step}: Loss = {loss_value.numpy()} Accuracy = {accuracy_metric.result().numpy()}')\n",
    "    \n",
    "    # Reset the metric at the end of each epoch\n",
    "    accuracy_metric.reset_state()\n"
   ]
  },
  {
   "cell_type": "markdown",
   "id": "3aad4044-971c-4c8d-bd28-d8fc21cdaba5",
   "metadata": {},
   "source": [
    "### Exercise 3: Custom Callback for Advanced Logging: \n",
    "\n",
    "Implement a custom callback to log additional metrics and information during training. \n",
    "\n",
    "#### 1. Set Up the Environment: \n",
    "\n",
    "Follow the setup from Exercise 1.\n"
   ]
  },
  {
   "cell_type": "code",
   "execution_count": 9,
   "id": "1dc7593c-59fe-4d2b-ae24-04277b43ba83",
   "metadata": {},
   "outputs": [],
   "source": [
    "import tensorflow as tf \n",
    "from tensorflow.keras.models import Sequential \n",
    "from tensorflow.keras.layers import Dense, Flatten \n",
    "\n",
    "# Step 1: Set Up the Environment\n",
    "(x_train, y_train), (x_test, y_test) = tf.keras.datasets.mnist.load_data()\n",
    "\n",
    "# Normalize the pixel values to be between 0 and 1\n",
    "x_train, x_test = x_train / 255.0, x_test / 255.0 \n",
    "\n",
    "# Create a batched dataset for training\n",
    "train_dataset = tf.data.Dataset.from_tensor_slices((x_train, y_train)).batch(32)\n"
   ]
  },
  {
   "cell_type": "markdown",
   "id": "9e17f468-52d3-4f74-9160-49244766c548",
   "metadata": {},
   "source": [
    "#### 2. Define the Model: \n",
    "\n",
    "Use the same model as in Exercise 1. \n"
   ]
  },
  {
   "cell_type": "code",
   "execution_count": 10,
   "id": "c7322571-c9f4-4ecb-b57a-a2051660692f",
   "metadata": {},
   "outputs": [],
   "source": [
    "# Step 2: Define the Model\n",
    "\n",
    "model = Sequential([\n",
    "    Flatten(input_shape=(28, 28)),  # Flatten the input to a 1D vector\n",
    "    Dense(128, activation='relu'),  # First hidden layer with 128 neurons and ReLU activation\n",
    "    Dense(10)  # Output layer with 10 neurons for the 10 classes (digits 0-9)\n",
    "])\n"
   ]
  },
  {
   "cell_type": "markdown",
   "id": "0f674612-bef3-4945-b39c-c11e7685ac5b",
   "metadata": {},
   "source": [
    "#### 3. Define Loss Function, Optimizer, and Metric: \n",
    "\n",
    "- Use Sparse Categorical Crossentropy for the loss function and Adam optimizer. \n",
    "\n",
    "- Add Sparse Categorical Accuracy as a metric. \n"
   ]
  },
  {
   "cell_type": "code",
   "execution_count": 11,
   "id": "c07e5957-4fca-45ff-aca2-597a30303f1c",
   "metadata": {},
   "outputs": [],
   "source": [
    "# Step 3: Define Loss Function, Optimizer, and Metric\n",
    "\n",
    "loss_fn = tf.keras.losses.SparseCategoricalCrossentropy(from_logits=True)  # Loss function for multi-class classification\n",
    "optimizer = tf.keras.optimizers.Adam()  # Adam optimizer for efficient training\n",
    "accuracy_metric = tf.keras.metrics.SparseCategoricalAccuracy()  # Metric to track accuracy during training\n"
   ]
  },
  {
   "cell_type": "markdown",
   "id": "2e6cf7ff-9484-4bca-a1fe-3dc5641bfdd7",
   "metadata": {},
   "source": [
    "#### 4. Implement the custom training loop with custom callback: \n",
    "\n",
    "Create a custom callback to log additional metrics at the end of each epoch.\n"
   ]
  },
  {
   "cell_type": "code",
   "execution_count": 12,
   "id": "ab211a00-900c-4d4a-bbec-4b189d4152d1",
   "metadata": {},
   "outputs": [],
   "source": [
    "from tensorflow.keras.callbacks import Callback\n",
    "\n",
    "# Step 4: Implement the Custom Callback \n",
    "class CustomCallback(Callback):\n",
    "    def on_epoch_end(self, epoch, logs=None):\n",
    "        logs = logs or {}\n",
    "        print(f'End of epoch {epoch + 1}, loss: {logs.get(\"loss\")}, accuracy: {logs.get(\"accuracy\")}')\n"
   ]
  },
  {
   "cell_type": "code",
   "execution_count": 13,
   "id": "96faf68c-e238-4c03-a37c-0a05e90e15c5",
   "metadata": {},
   "outputs": [
    {
     "name": "stdout",
     "output_type": "stream",
     "text": [
      "Start of epoch 1\n",
      "Epoch 1 Step 0: Loss = 2.2698111534118652 Accuracy = 0.0625\n",
      "Epoch 1 Step 200: Loss = 0.3840010166168213 Accuracy = 0.8286691308021545\n",
      "Epoch 1 Step 400: Loss = 0.18360379338264465 Accuracy = 0.8651807904243469\n",
      "Epoch 1 Step 600: Loss = 0.18435239791870117 Accuracy = 0.8813436031341553\n",
      "Epoch 1 Step 800: Loss = 0.1526513248682022 Accuracy = 0.894311785697937\n",
      "Epoch 1 Step 1000: Loss = 0.4716981053352356 Accuracy = 0.9017544984817505\n",
      "Epoch 1 Step 1200: Loss = 0.1846695989370346 Accuracy = 0.9082015156745911\n",
      "Epoch 1 Step 1400: Loss = 0.2683115303516388 Accuracy = 0.9132985472679138\n",
      "Epoch 1 Step 1600: Loss = 0.23936520516872406 Accuracy = 0.9169464111328125\n",
      "Epoch 1 Step 1800: Loss = 0.14917056262493134 Accuracy = 0.9209467172622681\n",
      "End of epoch 1, loss: 0.03744190186262131, accuracy: 0.9228833317756653\n",
      "Start of epoch 2\n",
      "Epoch 2 Step 0: Loss = 0.08010157942771912 Accuracy = 1.0\n",
      "Epoch 2 Step 200: Loss = 0.1488770991563797 Accuracy = 0.9626865386962891\n",
      "Epoch 2 Step 400: Loss = 0.09994667768478394 Accuracy = 0.9579956531524658\n",
      "Epoch 2 Step 600: Loss = 0.05763597413897514 Accuracy = 0.9602225422859192\n",
      "Epoch 2 Step 800: Loss = 0.08461862057447433 Accuracy = 0.9614934325218201\n",
      "Epoch 2 Step 1000: Loss = 0.30222830176353455 Accuracy = 0.9621628522872925\n",
      "Epoch 2 Step 1200: Loss = 0.09749113023281097 Accuracy = 0.9631036520004272\n",
      "Epoch 2 Step 1400: Loss = 0.1750537008047104 Accuracy = 0.9636866450309753\n",
      "Epoch 2 Step 1600: Loss = 0.15381033718585968 Accuracy = 0.9638311862945557\n",
      "Epoch 2 Step 1800: Loss = 0.10087679326534271 Accuracy = 0.9645683169364929\n",
      "End of epoch 2, loss: 0.025352023541927338, accuracy: 0.9653000235557556\n"
     ]
    }
   ],
   "source": [
    "# Step 5: Implement the Custom Training Loop with Custom Callback\n",
    "\n",
    "epochs = 2\n",
    "custom_callback = CustomCallback()  # Initialize the custom callback\n",
    "\n",
    "for epoch in range(epochs):\n",
    "    print(f'Start of epoch {epoch + 1}')\n",
    "    \n",
    "    for step, (x_batch_train, y_batch_train) in enumerate(train_dataset):\n",
    "        with tf.GradientTape() as tape:\n",
    "            # Forward pass: Compute predictions\n",
    "            logits = model(x_batch_train, training=True)\n",
    "            # Compute loss\n",
    "            loss_value = loss_fn(y_batch_train, logits)\n",
    "        \n",
    "        # Compute gradients\n",
    "        grads = tape.gradient(loss_value, model.trainable_weights)\n",
    "        # Apply gradients to update model weights\n",
    "        optimizer.apply_gradients(zip(grads, model.trainable_weights))\n",
    "        \n",
    "        # Update the accuracy metric\n",
    "        accuracy_metric.update_state(y_batch_train, logits)\n",
    "\n",
    "        # Log the loss and accuracy every 200 steps\n",
    "        if step % 200 == 0:\n",
    "            print(f'Epoch {epoch + 1} Step {step}: Loss = {loss_value.numpy()} Accuracy = {accuracy_metric.result().numpy()}')\n",
    "    \n",
    "    # Call the custom callback at the end of each epoch\n",
    "    custom_callback.on_epoch_end(epoch, logs={'loss': loss_value.numpy(), 'accuracy': accuracy_metric.result().numpy()})\n",
    "    \n",
    "    # Reset the metric at the end of each epoch\n",
    "    accuracy_metric.reset_state()  # Use reset_state() instead of reset_states()\n"
   ]
  },
  {
   "cell_type": "markdown",
   "id": "1ee821e6-3cd8-40f0-ac75-dbfe945d8a61",
   "metadata": {},
   "source": [
    "### Exercise 4: Add Hidden Layers \n",
    "\n",
    "Next, you will add a couple of hidden layers to your model. Hidden layers help the model learn complex patterns in the data. \n"
   ]
  },
  {
   "cell_type": "code",
   "execution_count": 14,
   "id": "b287da11-9d49-4168-b6f2-0bfd700436d9",
   "metadata": {},
   "outputs": [],
   "source": [
    "from tensorflow.keras.layers import Input, Dense\n",
    "\n",
    "# Define the input layer\n",
    "input_layer = Input(shape=(28, 28))  # Input layer with shape (28, 28)\n",
    "\n",
    "# Define hidden layers\n",
    "hidden_layer1 = Dense(64, activation='relu')(input_layer)  # First hidden layer with 64 neurons and ReLU activation\n",
    "hidden_layer2 = Dense(64, activation='relu')(hidden_layer1)  # Second hidden layer with 64 neurons and ReLU activation\n"
   ]
  },
  {
   "cell_type": "markdown",
   "id": "cc8f1d08-049b-48b9-ab13-6fa1e8dbb277",
   "metadata": {},
   "source": [
    "In the above code: \n",
    "\n",
    "`Dense(64, activation='relu')` creates a dense (fully connected) layer with 64 units and ReLU activation function. \n",
    "\n",
    "Each hidden layer takes the output of the previous layer as its input.\n"
   ]
  },
  {
   "cell_type": "markdown",
   "id": "2b18fcbc-2eaa-4bc2-bcb3-9f7de03b6ad6",
   "metadata": {},
   "source": [
    "### Exercise 5: Define the output layer \n",
    "\n",
    "Finally, you will define the output layer. Suppose you are working on a binary classification problem, so the output layer will have one unit with a sigmoid activation function. \n"
   ]
  },
  {
   "cell_type": "code",
   "execution_count": 15,
   "id": "5086b813-b03b-477f-84b3-ab8bb9710092",
   "metadata": {},
   "outputs": [],
   "source": [
    "output_layer = Dense(1, activation='sigmoid')(hidden_layer2)"
   ]
  },
  {
   "cell_type": "markdown",
   "id": "5b8c8f85-6bcf-467f-a2c3-1b673e7e1c48",
   "metadata": {},
   "source": [
    "In the above code: \n",
    "\n",
    "`Dense(1, activation='sigmoid')` creates a dense layer with 1 unit and a sigmoid activation function, suitable for binary classification. \n"
   ]
  },
  {
   "cell_type": "markdown",
   "id": "7ff495f0-981d-47ff-8d39-5472a7e6fc41",
   "metadata": {},
   "source": [
    "### Exercise 6: Create the Model \n",
    "\n",
    "Now, you will create the model by specifying the input and output layers. \n"
   ]
  },
  {
   "cell_type": "code",
   "execution_count": 16,
   "id": "1cfab49b-9c28-4bfb-8b63-b7d948d71720",
   "metadata": {},
   "outputs": [],
   "source": [
    "model = Model(inputs=input_layer, outputs=output_layer)"
   ]
  },
  {
   "cell_type": "markdown",
   "id": "ac3ab09e-86b9-4735-aa26-fe59132510e0",
   "metadata": {},
   "source": [
    "In the above code: \n",
    "\n",
    "`Model(inputs=input_layer, outputs=output_layer)` creates a Keras model that connects the input layer to the output layer through the hidden layers. \n"
   ]
  },
  {
   "cell_type": "markdown",
   "id": "c69cc5f9-f744-4b96-bd64-5dc8e6888d62",
   "metadata": {},
   "source": [
    "### Exercise 7: Compile the Model \n",
    "\n",
    "Before training the model, you need to compile it. You will specify the loss function, optimizer, and evaluation metrics. \n"
   ]
  },
  {
   "cell_type": "code",
   "execution_count": 17,
   "id": "56d0280a-cad5-4baa-ac39-09d61500c54d",
   "metadata": {},
   "outputs": [],
   "source": [
    "model.compile(optimizer='adam', loss='binary_crossentropy', metrics=['accuracy'])"
   ]
  },
  {
   "cell_type": "markdown",
   "id": "a61da84d-5d34-40fa-b58b-c7b5d0f8ffea",
   "metadata": {},
   "source": [
    "In the above code: \n",
    "\n",
    "`optimizer='adam'` specifies the Adam optimizer, a popular choice for training neural networks. \n",
    "\n",
    "`loss='binary_crossentropy'` specifies the loss function for binary classification problems. \n",
    "\n",
    "`metrics=['accuracy']` tells Keras to evaluate the model using accuracy during training. \n"
   ]
  },
  {
   "cell_type": "markdown",
   "id": "c4701696-b4fb-4379-8d66-124b94e66def",
   "metadata": {},
   "source": [
    "### Exercise 8: Train the Model \n",
    "\n",
    "You can now train the model on some training data. For this example, let's assume `X_train` is our training input data and `y_train` is the corresponding labels. \n"
   ]
  },
  {
   "cell_type": "code",
   "execution_count": 18,
   "id": "a897aeb1-e49e-4b02-a912-ff9617024faa",
   "metadata": {},
   "outputs": [
    {
     "name": "stdout",
     "output_type": "stream",
     "text": [
      "Epoch 1/10\n",
      "\u001b[1m32/32\u001b[0m \u001b[32m━━━━━━━━━━━━━━━━━━━━\u001b[0m\u001b[37m\u001b[0m \u001b[1m2s\u001b[0m 22ms/step - accuracy: 0.4981 - loss: 0.7019\n",
      "Epoch 2/10\n",
      "\u001b[1m32/32\u001b[0m \u001b[32m━━━━━━━━━━━━━━━━━━━━\u001b[0m\u001b[37m\u001b[0m \u001b[1m0s\u001b[0m 8ms/step - accuracy: 0.5543 - loss: 0.6850\n",
      "Epoch 3/10\n",
      "\u001b[1m32/32\u001b[0m \u001b[32m━━━━━━━━━━━━━━━━━━━━\u001b[0m\u001b[37m\u001b[0m \u001b[1m0s\u001b[0m 7ms/step - accuracy: 0.5572 - loss: 0.6865\n",
      "Epoch 4/10\n",
      "\u001b[1m32/32\u001b[0m \u001b[32m━━━━━━━━━━━━━━━━━━━━\u001b[0m\u001b[37m\u001b[0m \u001b[1m0s\u001b[0m 7ms/step - accuracy: 0.5650 - loss: 0.6864\n",
      "Epoch 5/10\n",
      "\u001b[1m32/32\u001b[0m \u001b[32m━━━━━━━━━━━━━━━━━━━━\u001b[0m\u001b[37m\u001b[0m \u001b[1m0s\u001b[0m 9ms/step - accuracy: 0.5693 - loss: 0.6757\n",
      "Epoch 6/10\n",
      "\u001b[1m32/32\u001b[0m \u001b[32m━━━━━━━━━━━━━━━━━━━━\u001b[0m\u001b[37m\u001b[0m \u001b[1m0s\u001b[0m 7ms/step - accuracy: 0.5496 - loss: 0.6810\n",
      "Epoch 7/10\n",
      "\u001b[1m32/32\u001b[0m \u001b[32m━━━━━━━━━━━━━━━━━━━━\u001b[0m\u001b[37m\u001b[0m \u001b[1m0s\u001b[0m 7ms/step - accuracy: 0.5420 - loss: 0.6822\n",
      "Epoch 8/10\n",
      "\u001b[1m32/32\u001b[0m \u001b[32m━━━━━━━━━━━━━━━━━━━━\u001b[0m\u001b[37m\u001b[0m \u001b[1m0s\u001b[0m 7ms/step - accuracy: 0.5702 - loss: 0.6793\n",
      "Epoch 9/10\n",
      "\u001b[1m32/32\u001b[0m \u001b[32m━━━━━━━━━━━━━━━━━━━━\u001b[0m\u001b[37m\u001b[0m \u001b[1m0s\u001b[0m 7ms/step - accuracy: 0.5796 - loss: 0.6805\n",
      "Epoch 10/10\n",
      "\u001b[1m32/32\u001b[0m \u001b[32m━━━━━━━━━━━━━━━━━━━━\u001b[0m\u001b[37m\u001b[0m \u001b[1m0s\u001b[0m 7ms/step - accuracy: 0.5412 - loss: 0.6880\n"
     ]
    },
    {
     "data": {
      "text/plain": [
       "<keras.src.callbacks.history.History at 0x31fa3c3d0>"
      ]
     },
     "execution_count": 18,
     "metadata": {},
     "output_type": "execute_result"
    }
   ],
   "source": [
    "from tensorflow.keras.models import Sequential\n",
    "from tensorflow.keras.layers import Dense, Input\n",
    "import numpy as np\n",
    "\n",
    "# Step 1: Redefine the Model for 20 features\n",
    "model = Sequential([\n",
    "    Input(shape=(20,)),  # Adjust input shape to (20,)\n",
    "    Dense(128, activation='relu'),  # Hidden layer with 128 neurons and ReLU activation\n",
    "    Dense(1, activation='sigmoid')  # Output layer for binary classification with sigmoid activation\n",
    "])\n",
    "\n",
    "# Compile the model\n",
    "model.compile(optimizer='adam', loss='binary_crossentropy', metrics=['accuracy'])\n",
    "\n",
    "# Step 2: Generate Example Data\n",
    "X_train = np.random.rand(1000, 20)  # 1000 samples, 20 features each\n",
    "y_train = np.random.randint(2, size=(1000, 1))  # 1000 binary labels (0 or 1)\n",
    "\n",
    "# Step 3: Train the Model\n",
    "model.fit(X_train, y_train, epochs=10, batch_size=32)"
   ]
  },
  {
   "cell_type": "markdown",
   "id": "a0f0abe8-dffd-4a61-b8a3-9cbb7b714b87",
   "metadata": {},
   "source": [
    "In the above code: \n",
    "\n",
    "`X_train` and `y_train` are placeholders for your actual training data. \n",
    "\n",
    "`model.fit` trains the model for a specified number of epochs and batch size. \n"
   ]
  },
  {
   "cell_type": "markdown",
   "id": "73af7f88-da28-4fc1-9baf-24fe46aa1d74",
   "metadata": {},
   "source": [
    "### Exercise 9: Evaluate the Model \n",
    "\n",
    "After training, you can evaluate the model on test data to see how well it performs. \n"
   ]
  },
  {
   "cell_type": "code",
   "execution_count": 19,
   "id": "714c0880-de6d-46d1-baea-f6c906ce1ecb",
   "metadata": {},
   "outputs": [
    {
     "name": "stdout",
     "output_type": "stream",
     "text": [
      "\u001b[1m7/7\u001b[0m \u001b[32m━━━━━━━━━━━━━━━━━━━━\u001b[0m\u001b[37m\u001b[0m \u001b[1m0s\u001b[0m 11ms/step - accuracy: 0.4553 - loss: 0.7291\n",
      "Test loss: 0.7267875075340271\n",
      "Test accuracy: 0.4699999988079071\n"
     ]
    }
   ],
   "source": [
    "# Example test data (in practice, use real dataset)\n",
    "X_test = np.random.rand(200, 20)  # 200 samples, 20 features each\n",
    "y_test = np.random.randint(2, size=(200, 1))  # 200 binary labels (0 or 1)\n",
    "\n",
    "# Evaluate the model on the test data\n",
    "loss, accuracy = model.evaluate(X_test, y_test)\n",
    "\n",
    "# Print test loss and accuracy\n",
    "print(f'Test loss: {loss}')\n",
    "print(f'Test accuracy: {accuracy}')\n"
   ]
  },
  {
   "cell_type": "markdown",
   "id": "9b57a228-968f-4d52-8ba5-ff9f58bd3235",
   "metadata": {},
   "source": [
    "In the above code: \n",
    "\n",
    "`model.evaluate` computes the loss and accuracy of the model on test data. \n",
    "\n",
    "`X_test` and `y_test` are placeholders for your actual test data. \n"
   ]
  },
  {
   "cell_type": "markdown",
   "id": "a3716157-70c1-4ca7-bf20-3761c355cf75",
   "metadata": {},
   "source": [
    "## Practice Exercises \n",
    "\n",
    "### Exercise 1: Basic Custom Training Loop \n",
    "\n",
    "#### Objective: Implement a basic custom training loop to train a simple neural network on the MNIST dataset. \n",
    "\n",
    "#### Instructions: \n",
    "\n",
    "- Set up the environment and load the dataset. \n",
    "\n",
    "- Define the model with a Flatten layer and two Dense layers. \n",
    "\n",
    "- Define the loss function and optimizer. \n",
    "\n",
    "- Implement a custom training loop to iterate over the dataset, compute the loss, and update the model's weights. \n"
   ]
  },
  {
   "cell_type": "code",
   "execution_count": 23,
   "id": "27baa5bc-ab07-4c5b-9fb8-4715f36259f6",
   "metadata": {},
   "outputs": [
    {
     "name": "stdout",
     "output_type": "stream",
     "text": [
      "Start of epoch 1\n",
      "epoch 1 step 0: Loss = 2.496676445007324)\n",
      "epoch 1 step 200: Loss = 0.40214014053344727)\n",
      "epoch 1 step 400: Loss = 0.1762772500514984)\n",
      "epoch 1 step 600: Loss = 0.18505579233169556)\n",
      "epoch 1 step 800: Loss = 0.1737920045852661)\n",
      "epoch 1 step 1000: Loss = 0.3998461961746216)\n",
      "epoch 1 step 1200: Loss = 0.15880902111530304)\n",
      "epoch 1 step 1400: Loss = 0.22872790694236755)\n",
      "epoch 1 step 1600: Loss = 0.22658424079418182)\n",
      "epoch 1 step 1800: Loss = 0.16345593333244324)\n",
      "Start of epoch 2\n",
      "epoch 2 step 0: Loss = 0.09595300257205963)\n",
      "epoch 2 step 200: Loss = 0.21977432072162628)\n",
      "epoch 2 step 400: Loss = 0.10110758990049362)\n",
      "epoch 2 step 600: Loss = 0.046733058989048004)\n",
      "epoch 2 step 800: Loss = 0.0910295769572258)\n",
      "epoch 2 step 1000: Loss = 0.25225746631622314)\n",
      "epoch 2 step 1200: Loss = 0.09943107515573502)\n",
      "epoch 2 step 1400: Loss = 0.15026147663593292)\n",
      "epoch 2 step 1600: Loss = 0.15865467488765717)\n",
      "epoch 2 step 1800: Loss = 0.12033134698867798)\n",
      "Start of epoch 3\n",
      "epoch 3 step 0: Loss = 0.04316161945462227)\n",
      "epoch 3 step 200: Loss = 0.12796522676944733)\n",
      "epoch 3 step 400: Loss = 0.08953429013490677)\n",
      "epoch 3 step 600: Loss = 0.028254272416234016)\n",
      "epoch 3 step 800: Loss = 0.058288779109716415)\n",
      "epoch 3 step 1000: Loss = 0.17767395079135895)\n",
      "epoch 3 step 1200: Loss = 0.07579096406698227)\n",
      "epoch 3 step 1400: Loss = 0.09031066298484802)\n",
      "epoch 3 step 1600: Loss = 0.08749883621931076)\n",
      "epoch 3 step 1800: Loss = 0.06471285969018936)\n",
      "Start of epoch 4\n",
      "epoch 4 step 0: Loss = 0.018299035727977753)\n",
      "epoch 4 step 200: Loss = 0.0979091227054596)\n",
      "epoch 4 step 400: Loss = 0.07090353965759277)\n",
      "epoch 4 step 600: Loss = 0.030230510979890823)\n",
      "epoch 4 step 800: Loss = 0.03993400186300278)\n",
      "epoch 4 step 1000: Loss = 0.11993368715047836)\n",
      "epoch 4 step 1200: Loss = 0.051950935274362564)\n",
      "epoch 4 step 1400: Loss = 0.04277300089597702)\n",
      "epoch 4 step 1600: Loss = 0.049103833734989166)\n",
      "epoch 4 step 1800: Loss = 0.04736033454537392)\n",
      "Start of epoch 5\n",
      "epoch 5 step 0: Loss = 0.010977411642670631)\n",
      "epoch 5 step 200: Loss = 0.071632519364357)\n",
      "epoch 5 step 400: Loss = 0.06751694530248642)\n",
      "epoch 5 step 600: Loss = 0.036405086517333984)\n",
      "epoch 5 step 800: Loss = 0.021703124046325684)\n",
      "epoch 5 step 1000: Loss = 0.09378941357135773)\n",
      "epoch 5 step 1200: Loss = 0.03312288224697113)\n",
      "epoch 5 step 1400: Loss = 0.01496778056025505)\n",
      "epoch 5 step 1600: Loss = 0.03207205981016159)\n",
      "epoch 5 step 1800: Loss = 0.026291577145457268)\n"
     ]
    }
   ],
   "source": [
    "(x_train, y_train), (x_test, y_test) = tf.keras.datasets.mnist.load_data()\n",
    "x_train, x_test = x_train/255.0, x_test/255.0\n",
    "train_dataset = tf.data.Dataset.from_tensor_slices((x_train, y_train)).batch(32)\n",
    "\n",
    "\n",
    "model = Sequential([\n",
    "    Flatten(input_shape=(28, 28)),\n",
    "    Dense(128, activation='relu'),\n",
    "    Dense(10)\n",
    "])\n",
    "\n",
    "\n",
    "\n",
    "loss_fn = tf.keras.losses.SparseCategoricalCrossentropy(from_logits=True) \n",
    "optimizer = tf.keras.optimizers.Adam() \n",
    "\n",
    "\n",
    "\n",
    "epochs=5\n",
    "for epoch in range(epochs):\n",
    "    print(f'Start of epoch {epoch+1}')\n",
    "\n",
    "    for step, (x_batch_train, y_batch_train) in enumerate (train_dataset):\n",
    "        with tf.GradientTape() as tape: # tensorflow api that records operations for autamatic differentiation; \n",
    "            # it 'watches' the operations performed on the forward pass so that it can take the derivatives needed for backprop with respect to each weight\n",
    "\n",
    "\n",
    "            logits = model(x_batch_train, training=True) # compute the logits; logits = unnormalized output of neural net\n",
    "            loss_value = loss_fn(y_batch_train, logits)\n",
    "\n",
    "        gradients = tape.gradient(loss_value, model.trainable_weights)\n",
    "        optimizer.apply_gradients(zip(gradients, model.trainable_weights))\n",
    "\n",
    "        if step%200 == 0:\n",
    "            print(f\"epoch {epoch+1} step {step}: Loss = {loss_value.numpy()})\")\n"
   ]
  },
  {
   "cell_type": "markdown",
   "id": "6e9c5133-f463-4658-8f91-f4a5cb884dce",
   "metadata": {},
   "source": [
    "<details>\n",
    "<summary>Click here for solution</summary> </br>\n",
    "\n",
    "```python\n",
    "# Import necessary libraries\n",
    "import tensorflow as tf \n",
    "from tensorflow.keras.models import Sequential \n",
    "from tensorflow.keras.layers import Dense, Flatten \n",
    "\n",
    "# Step 1: Set Up the Environment\n",
    "(x_train, y_train), (x_test, y_test) = tf.keras.datasets.mnist.load_data() \n",
    "x_train, x_test = x_train / 255.0, x_test / 255.0 \n",
    "train_dataset = tf.data.Dataset.from_tensor_slices((x_train, y_train)).batch(32) \n",
    "\n",
    "# Step 2: Define the Model\n",
    "model = Sequential([ \n",
    "    Flatten(input_shape=(28, 28)), \n",
    "    Dense(128, activation='relu'), \n",
    "    Dense(10) \n",
    "]) \n",
    "\n",
    "# Step 3: Define Loss Function and Optimizer\n",
    "loss_fn = tf.keras.losses.SparseCategoricalCrossentropy(from_logits=True) \n",
    "optimizer = tf.keras.optimizers.Adam() \n",
    "\n",
    "# Step 4: Implement the Custom Training Loop\n",
    "for epoch in range(5): \n",
    "    for x_batch, y_batch in train_dataset: \n",
    "        with tf.GradientTape() as tape: \n",
    "            logits = model(x_batch, training=True) \n",
    "            loss = loss_fn(y_batch, logits) \n",
    "        grads = tape.gradient(loss, model.trainable_weights) \n",
    "        optimizer.apply_gradients(zip(grads, model.trainable_weights)) \n",
    "    print(f'Epoch {epoch + 1}: Loss = {loss.numpy()}')\n"
   ]
  },
  {
   "cell_type": "markdown",
   "id": "dac30c9b-f5ad-402c-8417-292d3f9717bd",
   "metadata": {},
   "source": [
    "### Exercise 2: Adding Accuracy Metric \n",
    "\n",
    "#### Objective: Enhance the custom training loop by adding an accuracy metric to monitor model performance. \n",
    "\n",
    "#### Instructions: \n",
    "\n",
    "1. Set up the environment and define the model, loss function, and optimizer. \n",
    "\n",
    "2. Add Sparse Categorical Accuracy as a metric. \n",
    "\n",
    "3. Implement the custom training loop with accuracy tracking.\n"
   ]
  },
  {
   "cell_type": "code",
   "execution_count": 24,
   "id": "d5ee0f57-de70-4464-8399-d7c78b10cba5",
   "metadata": {},
   "outputs": [
    {
     "name": "stdout",
     "output_type": "stream",
     "text": [
      "Start of epoch 1\n",
      "epoch 1 step 0: Loss = 2.4752578735351562; Accuracy = 0.09375)\n",
      "epoch 1 step 200: Loss = 0.3540235459804535; Accuracy = 0.8268035054206848)\n",
      "epoch 1 step 400: Loss = 0.17408984899520874; Accuracy = 0.8645573854446411)\n",
      "epoch 1 step 600: Loss = 0.17024889588356018; Accuracy = 0.8808236122131348)\n",
      "epoch 1 step 800: Loss = 0.17750132083892822; Accuracy = 0.8939996957778931)\n",
      "epoch 1 step 1000: Loss = 0.46439310908317566; Accuracy = 0.9018481373786926)\n",
      "epoch 1 step 1200: Loss = 0.1946057230234146; Accuracy = 0.908721923828125)\n",
      "epoch 1 step 1400: Loss = 0.25328177213668823; Accuracy = 0.9139677286148071)\n",
      "epoch 1 step 1600: Loss = 0.20129798352718353; Accuracy = 0.9173368215560913)\n",
      "epoch 1 step 1800: Loss = 0.12861576676368713; Accuracy = 0.9214152097702026)\n",
      "Start of epoch 2\n",
      "epoch 2 step 0: Loss = 0.07678493857383728; Accuracy = 0.9233908653259277)\n",
      "epoch 2 step 200: Loss = 0.1905440092086792; Accuracy = 0.9270983934402466)\n",
      "epoch 2 step 400: Loss = 0.12034855037927628; Accuracy = 0.929577648639679)\n",
      "epoch 2 step 600: Loss = 0.04689765349030495; Accuracy = 0.9323253035545349)\n",
      "epoch 2 step 800: Loss = 0.08866105228662491; Accuracy = 0.9348140954971313)\n",
      "epoch 2 step 1000: Loss = 0.3223954141139984; Accuracy = 0.936891496181488)\n",
      "epoch 2 step 1200: Loss = 0.10932514816522598; Accuracy = 0.9390340447425842)\n",
      "epoch 2 step 1400: Loss = 0.15122883021831512; Accuracy = 0.9408673048019409)\n",
      "epoch 2 step 1600: Loss = 0.11889942735433578; Accuracy = 0.9422198534011841)\n",
      "epoch 2 step 1800: Loss = 0.0739302933216095; Accuracy = 0.9438843131065369)\n",
      "Start of epoch 3\n",
      "epoch 3 step 0: Loss = 0.04145289212465286; Accuracy = 0.9446064233779907)\n",
      "epoch 3 step 200: Loss = 0.09872211515903473; Accuracy = 0.9462082386016846)\n",
      "epoch 3 step 400: Loss = 0.1114450991153717; Accuracy = 0.947475016117096)\n",
      "epoch 3 step 600: Loss = 0.031861018389463425; Accuracy = 0.9488407969474792)\n",
      "epoch 3 step 800: Loss = 0.0611971877515316; Accuracy = 0.9500659108161926)\n",
      "epoch 3 step 1000: Loss = 0.19243116676807404; Accuracy = 0.9511944651603699)\n",
      "epoch 3 step 1200: Loss = 0.08266949653625488; Accuracy = 0.9522760510444641)\n",
      "epoch 3 step 1400: Loss = 0.07449734210968018; Accuracy = 0.9532979130744934)\n",
      "epoch 3 step 1600: Loss = 0.05914100259542465; Accuracy = 0.9541323781013489)\n",
      "epoch 3 step 1800: Loss = 0.042085252702236176; Accuracy = 0.9551038146018982)\n",
      "Start of epoch 4\n",
      "epoch 4 step 0: Loss = 0.034905992448329926; Accuracy = 0.9555357098579407)\n",
      "epoch 4 step 200: Loss = 0.08078467100858688; Accuracy = 0.9564934968948364)\n",
      "epoch 4 step 400: Loss = 0.08967294543981552; Accuracy = 0.9573307037353516)\n",
      "epoch 4 step 600: Loss = 0.03686011582612991; Accuracy = 0.958159327507019)\n",
      "epoch 4 step 800: Loss = 0.03333438187837601; Accuracy = 0.9589266180992126)\n",
      "epoch 4 step 1000: Loss = 0.1307172030210495; Accuracy = 0.9596759080886841)\n",
      "epoch 4 step 1200: Loss = 0.07558401674032211; Accuracy = 0.9603766798973083)\n",
      "epoch 4 step 1400: Loss = 0.0395258292555809; Accuracy = 0.9611087441444397)\n",
      "epoch 4 step 1600: Loss = 0.03790606930851936; Accuracy = 0.9616402387619019)\n",
      "epoch 4 step 1800: Loss = 0.02408858761191368; Accuracy = 0.9622988700866699)\n",
      "Start of epoch 5\n",
      "epoch 5 step 0: Loss = 0.025678202509880066; Accuracy = 0.9626091718673706)\n",
      "epoch 5 step 200: Loss = 0.0576167032122612; Accuracy = 0.9632393717765808)\n",
      "epoch 5 step 400: Loss = 0.06878587603569031; Accuracy = 0.9638257622718811)\n",
      "epoch 5 step 600: Loss = 0.03579379990696907; Accuracy = 0.964421808719635)\n",
      "epoch 5 step 800: Loss = 0.024938104674220085; Accuracy = 0.9649590253829956)\n",
      "epoch 5 step 1000: Loss = 0.09106505662202835; Accuracy = 0.9655224680900574)\n",
      "epoch 5 step 1200: Loss = 0.06468513607978821; Accuracy = 0.9660240411758423)\n",
      "epoch 5 step 1400: Loss = 0.023440511897206306; Accuracy = 0.9665241241455078)\n",
      "epoch 5 step 1600: Loss = 0.028910629451274872; Accuracy = 0.9669404625892639)\n",
      "epoch 5 step 1800: Loss = 0.01825488731265068; Accuracy = 0.9674161672592163)\n"
     ]
    }
   ],
   "source": [
    "(x_train, y_train), (x_test, y_test) = tf.keras.datasets.mnist.load_data()\n",
    "x_train, x_test = x_train/255.0, x_test/255.0\n",
    "train_dataset = tf.data.Dataset.from_tensor_slices((x_train, y_train)).batch(32)\n",
    "\n",
    "\n",
    "model = Sequential([\n",
    "    Flatten(input_shape=(28, 28)),\n",
    "    Dense(128, activation='relu'),\n",
    "    Dense(10)\n",
    "])\n",
    "\n",
    "\n",
    "\n",
    "loss_fn = tf.keras.losses.SparseCategoricalCrossentropy(from_logits=True) \n",
    "optimizer = tf.keras.optimizers.Adam() \n",
    "train_acc_metric = tf.keras.metrics.SparseCategoricalAccuracy()\n",
    "\n",
    "\n",
    "\n",
    "epochs=5\n",
    "for epoch in range(epochs):\n",
    "    print(f'Start of epoch {epoch+1}')\n",
    "\n",
    "    for step, (x_batch_train, y_batch_train) in enumerate (train_dataset):\n",
    "        with tf.GradientTape() as tape: # tensorflow api that records operations for autamatic differentiation; \n",
    "            # it 'watches' the operations performed on the forward pass so that it can take the derivatives needed for backprop with respect to each weight\n",
    "\n",
    "\n",
    "            logits = model(x_batch_train, training=True) # compute the logits; logits = unnormalized output of neural net\n",
    "            loss_value = loss_fn(y_batch_train, logits)\n",
    "\n",
    "        gradients = tape.gradient(loss_value, model.trainable_weights)\n",
    "        optimizer.apply_gradients(zip(gradients, model.trainable_weights))\n",
    "        train_acc_metric.update_state(y_batch_train, logits)\n",
    "\n",
    "        if step%200 == 0:\n",
    "            print(f\"epoch {epoch+1} step {step}: Loss = {loss_value.numpy()}; Accuracy = {train_acc_metric.result().numpy()}\")\n"
   ]
  },
  {
   "cell_type": "markdown",
   "id": "b979395e-b915-4d6f-824d-872e355c433c",
   "metadata": {},
   "source": [
    "<details>\n",
    "<summary>Click here for solution</summary><br>\n",
    "\n",
    "```python\n",
    "# Import necessary libraries\n",
    "import tensorflow as tf \n",
    "from tensorflow.keras.models import Sequential \n",
    "from tensorflow.keras.layers import Dense, Flatten \n",
    "\n",
    "# Step 1: Set Up the Environment\n",
    "(x_train, y_train), _ = tf.keras.datasets.mnist.load_data() \n",
    "x_train = x_train / 255.0 \n",
    "train_dataset = tf.data.Dataset.from_tensor_slices((x_train, y_train)).batch(32) \n",
    "\n",
    "# Step 2: Define the Model\n",
    "model = Sequential([ \n",
    "    Flatten(input_shape=(28, 28)), \n",
    "    Dense(128, activation='relu'), \n",
    "    Dense(10) \n",
    "]) \n",
    "\n",
    "# Step 3: Define Loss Function, Optimizer, and Metric\n",
    "loss_fn = tf.keras.losses.SparseCategoricalCrossentropy(from_logits=True) \n",
    "optimizer = tf.keras.optimizers.Adam() \n",
    "accuracy_metric = tf.keras.metrics.SparseCategoricalAccuracy() \n",
    "\n",
    "# Step 4: Implement the Custom Training Loop with Accuracy Tracking\n",
    "epochs = 5 \n",
    "for epoch in range(epochs): \n",
    "    for x_batch, y_batch in train_dataset: \n",
    "        with tf.GradientTape() as tape: \n",
    "            logits = model(x_batch, training=True) \n",
    "            loss = loss_fn(y_batch, logits) \n",
    "        grads = tape.gradient(loss, model.trainable_weights) \n",
    "        optimizer.apply_gradients(zip(grads, model.trainable_weights)) \n",
    "        accuracy_metric.update_state(y_batch, logits) \n",
    "    print(f'Epoch {epoch + 1}: Loss = {loss.numpy()} Accuracy = {accuracy_metric.result().numpy()}') \n",
    "    accuracy_metric.reset_state() \n"
   ]
  },
  {
   "cell_type": "markdown",
   "id": "9ff1a85e-8fe1-4d92-a580-076b8cc0f0eb",
   "metadata": {},
   "source": [
    "### Exercise 3: Custom Callback for Advanced Logging \n",
    "\n",
    "#### Objective: Implement a custom callback to log additional metrics and information during training. \n",
    "\n",
    "#### Instructions: \n",
    "\n",
    "1. Set up the environment and define the model, loss function, optimizer, and metric. \n",
    "\n",
    "2. Create a custom callback to log additional metrics at the end of each epoch. \n",
    "\n",
    "3. Implement the custom training loop with the custom callback. \n"
   ]
  },
  {
   "cell_type": "code",
   "execution_count": 25,
   "id": "ccf29a1a-8e71-4571-9a0a-7a1d51aaff89",
   "metadata": {},
   "outputs": [
    {
     "name": "stdout",
     "output_type": "stream",
     "text": [
      "Start of epoch 1\n",
      "Epoch 1 Step 0: Loss = 2.3980116844177246 Accuracy = 0.125\n",
      "Epoch 1 Step 200: Loss = 0.44660237431526184 Accuracy = 0.8277363181114197\n",
      "Epoch 1 Step 400: Loss = 0.16936543583869934 Accuracy = 0.8633104562759399\n",
      "Epoch 1 Step 600: Loss = 0.15486499667167664 Accuracy = 0.87941974401474\n",
      "Epoch 1 Step 800: Loss = 0.1532256305217743 Accuracy = 0.8922440409660339\n",
      "Epoch 1 Step 1000: Loss = 0.4541098475456238 Accuracy = 0.9001623392105103\n",
      "Epoch 1 Step 1200: Loss = 0.14952126145362854 Accuracy = 0.9069785475730896\n",
      "Epoch 1 Step 1400: Loss = 0.22891351580619812 Accuracy = 0.9122501611709595\n",
      "Epoch 1 Step 1600: Loss = 0.19146157801151276 Accuracy = 0.9156972169876099\n",
      "Epoch 1 Step 1800: Loss = 0.16935087740421295 Accuracy = 0.9200097322463989\n",
      "End of epoch 1, loss: 0.029338330030441284, accuracy: 0.9219666719436646\n",
      "Start of epoch 2\n",
      "Epoch 2 Step 0: Loss = 0.07206082344055176 Accuracy = 1.0\n",
      "Epoch 2 Step 200: Loss = 0.17234764993190765 Accuracy = 0.9601989984512329\n",
      "Epoch 2 Step 400: Loss = 0.08305167406797409 Accuracy = 0.9575280547142029\n",
      "Epoch 2 Step 600: Loss = 0.07433192431926727 Accuracy = 0.9594426155090332\n",
      "Epoch 2 Step 800: Loss = 0.06795546412467957 Accuracy = 0.9602450132369995\n",
      "Epoch 2 Step 1000: Loss = 0.2719021737575531 Accuracy = 0.9607579708099365\n",
      "Epoch 2 Step 1200: Loss = 0.07424812763929367 Accuracy = 0.9615684747695923\n",
      "Epoch 2 Step 1400: Loss = 0.1490882933139801 Accuracy = 0.9624598622322083\n",
      "Epoch 2 Step 1600: Loss = 0.14714054763317108 Accuracy = 0.9623087048530579\n",
      "Epoch 2 Step 1800: Loss = 0.07811655104160309 Accuracy = 0.9632148742675781\n",
      "End of epoch 2, loss: 0.030616989359259605, accuracy: 0.9639333486557007\n"
     ]
    }
   ],
   "source": [
    "\n",
    "model = Sequential([\n",
    "    Flatten(input_shape=(28, 28)),  # Flatten the input to a 1D vector\n",
    "    Dense(128, activation='relu'),  # First hidden layer with 128 neurons and ReLU activation\n",
    "    Dense(10)  # Output layer with 10 neurons for the 10 classes (digits 0-9)\n",
    "])\n",
    "\n",
    "class CustomCallback(Callback):\n",
    "    def on_epoch_end(self, epoch, logs=None):\n",
    "        logs = logs or {}\n",
    "        print(f'End of epoch {epoch + 1}, loss: {logs.get(\"loss\")}, accuracy: {logs.get(\"accuracy\")}')\n",
    "\n",
    "loss_fn = tf.keras.losses.SparseCategoricalCrossentropy(from_logits=True)  # Loss function for multi-class classification\n",
    "optimizer = tf.keras.optimizers.Adam()  # Adam optimizer for efficient training\n",
    "accuracy_metric = tf.keras.metrics.SparseCategoricalAccuracy()  # Metric to track accuracy during training\n",
    "\n",
    "epochs = 2\n",
    "custom_callback = CustomCallback()  # Initialize the custom callback\n",
    "\n",
    "for epoch in range(epochs):\n",
    "    print(f'Start of epoch {epoch + 1}')\n",
    "    \n",
    "    for step, (x_batch_train, y_batch_train) in enumerate(train_dataset):\n",
    "        with tf.GradientTape() as tape:\n",
    "            logits = model(x_batch_train, training=True)\n",
    "            loss_value = loss_fn(y_batch_train, logits)\n",
    "        \n",
    "        grads = tape.gradient(loss_value, model.trainable_weights)\n",
    "        optimizer.apply_gradients(zip(grads, model.trainable_weights))\n",
    "        \n",
    "        # Update the accuracy metric\n",
    "        accuracy_metric.update_state(y_batch_train, logits)\n",
    "\n",
    "        # Log the loss and accuracy every 200 steps\n",
    "        if step % 200 == 0:\n",
    "            print(f'Epoch {epoch + 1} Step {step}: Loss = {loss_value.numpy()} Accuracy = {accuracy_metric.result().numpy()}')\n",
    "    \n",
    "    # Call the custom callback at the end of each epoch\n",
    "    custom_callback.on_epoch_end(epoch, logs={'loss': loss_value.numpy(), 'accuracy': accuracy_metric.result().numpy()})\n",
    "    \n",
    "    # Reset the metric at the end of each epoch\n",
    "    accuracy_metric.reset_state()  # Use reset_state() instead of reset_states()\n"
   ]
  },
  {
   "cell_type": "markdown",
   "id": "0059837f-303a-42a9-b7a7-2189486d998f",
   "metadata": {},
   "source": [
    "<details>\n",
    "<summary>Click here for solution</summary> </br>\n",
    "\n",
    "```python\n",
    "# Import necessary libraries\n",
    "import tensorflow as tf \n",
    "from tensorflow.keras.models import Sequential \n",
    "from tensorflow.keras.layers import Dense, Flatten \n",
    "from tensorflow.keras.callbacks import Callback \n",
    "\n",
    "# Step 1: Set Up the Environment\n",
    "(x_train, y_train), (x_test, y_test) = tf.keras.datasets.mnist.load_data() \n",
    "x_train = x_train / 255.0 \n",
    "train_dataset = tf.data.Dataset.from_tensor_slices((x_train, y_train)).batch(32) \n",
    "\n",
    "# Step 2: Define the Model\n",
    "model = Sequential([ \n",
    "    tf.keras.Input(shape=(28, 28)),  # Updated Input layer syntax\n",
    "    Flatten(), \n",
    "    Dense(128, activation='relu'), \n",
    "    Dense(10) \n",
    "]) \n",
    "\n",
    "# Step 3: Define Loss Function, Optimizer, and Metric\n",
    "loss_fn = tf.keras.losses.SparseCategoricalCrossentropy(from_logits=True) \n",
    "optimizer = tf.keras.optimizers.Adam() \n",
    "accuracy_metric = tf.keras.metrics.SparseCategoricalAccuracy() \n",
    "\n",
    "# Step 4: Implement the Custom Callback\n",
    "class CustomCallback(Callback): \n",
    "    def on_epoch_end(self, epoch, logs=None): \n",
    "        print(f'End of epoch {epoch + 1}, loss: {logs.get(\"loss\")}, accuracy: {logs.get(\"accuracy\")}') \n",
    "\n",
    "# Step 5: Implement the Custom Training Loop with Custom Callback\n",
    "custom_callback = CustomCallback() \n",
    "\n",
    "for epoch in range(5): \n",
    "    for x_batch, y_batch in train_dataset: \n",
    "        with tf.GradientTape() as tape: \n",
    "            logits = model(x_batch, training=True) \n",
    "            loss = loss_fn(y_batch, logits) \n",
    "        grads = tape.gradient(loss, model.trainable_weights) \n",
    "        optimizer.apply_gradients(zip(grads, model.trainable_weights)) \n",
    "        accuracy_metric.update_state(y_batch, logits) \n",
    "    custom_callback.on_epoch_end(epoch, logs={'loss': loss.numpy(), 'accuracy': accuracy_metric.result().numpy()}) \n",
    "    accuracy_metric.reset_state()  # Updated method\n",
    "\n"
   ]
  },
  {
   "cell_type": "markdown",
   "id": "fdaa30a2-3560-4d90-b4d2-53346de3bc48",
   "metadata": {},
   "source": [
    "### Exercise 4: Lab - Hyperparameter Tuning \n",
    "\n",
    "#### Enhancement: Add functionality to save the results of each hyperparameter tuning iteration as JSON files in a specified directory. \n",
    "\n",
    "#### Additional Instructions:\n",
    "\n",
    "Modify the tuning loop to save each iteration's results as JSON files.\n",
    "\n",
    "Specify the directory where these JSON files will be stored for easier retrieval and analysis of tuning results.\n"
   ]
  },
  {
   "cell_type": "code",
   "execution_count": null,
   "id": "80eb3640-4655-4c5e-8b91-e577e68b8b01",
   "metadata": {},
   "outputs": [],
   "source": [
    "# note - watch hyperparameter tuning (next video) before attempting this"
   ]
  },
  {
   "cell_type": "markdown",
   "id": "749161c1-b272-4289-bc9e-538b01f37046",
   "metadata": {},
   "source": [
    "<details>\n",
    "<summary>Click here for solution</summary> </br>\n",
    "\n",
    "```python\n",
    "!pip install keras-tuner\n",
    "!pip install scikit-learn\n",
    "\n",
    "import json\n",
    "import os\n",
    "import keras_tuner as kt\n",
    "from tensorflow.keras import Sequential\n",
    "from tensorflow.keras.layers import Dense\n",
    "from tensorflow.keras.optimizers import Adam\n",
    "from sklearn.model_selection import train_test_split\n",
    "from sklearn.datasets import make_classification\n",
    "\n",
    "# Step 1: Load your dataset\n",
    "X, y = make_classification(n_samples=1000, n_features=20, n_classes=2)\n",
    "X_train, X_val, y_train, y_val = train_test_split(X, y, test_size=0.2)\n",
    "\n",
    "# Step 2: Define the model-building function\n",
    "def build_model(hp):\n",
    "    model = Sequential()\n",
    "    # Tune the number of units in the first Dense layer\n",
    "    model.add(Dense(units=hp.Int('units', min_value=32, max_value=512, step=32),\n",
    "                    activation='relu'))\n",
    "    model.add(Dense(1, activation='sigmoid'))  # Binary classification example\n",
    "    model.compile(optimizer=Adam(hp.Float('learning_rate', 1e-4, 1e-2, sampling='LOG')),\n",
    "                  loss='binary_crossentropy',\n",
    "                  metrics=['accuracy'])\n",
    "    return model\n",
    "\n",
    "# Step 3: Initialize a Keras Tuner RandomSearch tuner\n",
    "tuner = kt.RandomSearch(\n",
    "    build_model,\n",
    "    objective='val_accuracy',\n",
    "    max_trials=10,  # Set the number of trials\n",
    "    executions_per_trial=1,  # Set how many executions per trial\n",
    "    directory='tuner_results',  # Directory for saving logs\n",
    "    project_name='hyperparam_tuning'\n",
    ")\n",
    "\n",
    "# Step 4: Run the tuner search (make sure the data is correct)\n",
    "tuner.search(X_train, y_train, validation_data=(X_val, y_val), epochs=5)\n",
    "\n",
    "# Step 5: Save the tuning results as JSON files\n",
    "try:\n",
    "    for i in range(10):\n",
    "        # Fetch the best hyperparameters from the tuner\n",
    "        best_hps = tuner.get_best_hyperparameters(num_trials=1)[0]\n",
    "        \n",
    "        # Results dictionary to save hyperparameters and score\n",
    "        results = {\n",
    "            \"trial\": i + 1,\n",
    "            \"hyperparameters\": best_hps.values,  # Hyperparameters tuned in this trial\n",
    "            \"score\": None  # Add any score or metrics if available\n",
    "        }\n",
    "\n",
    "        # Save the results as JSON\n",
    "        with open(os.path.join('tuning_results', f\"trial_{i + 1}.json\"), \"w\") as f:\n",
    "            json.dump(results, f)\n",
    "\n",
    "except IndexError:\n",
    "    print(\"Tuning process has not completed or no results available.\")\n",
    " ```   \n",
    "\n",
    "</details>\n"
   ]
  },
  {
   "cell_type": "markdown",
   "id": "87767081-4566-4f33-9e70-33ece4894793",
   "metadata": {},
   "source": [
    "### Exercise 5: Explanation of Hyperparameter Tuning\n",
    "\n",
    "**Addition to Explanation:** Add a note explaining the purpose of num_trials in the hyperparameter tuning context:\n"
   ]
  },
  {
   "cell_type": "code",
   "execution_count": null,
   "id": "5ff5d626-21e2-49b4-91a8-e0669d8cde39",
   "metadata": {},
   "outputs": [],
   "source": [
    "# Write your code here\n"
   ]
  },
  {
   "cell_type": "markdown",
   "id": "92df4870-fa52-4b32-bfe1-382280d8e645",
   "metadata": {},
   "source": [
    "<details>\n",
    "<summary>Click here for solution</summary> </br>\n",
    "\n",
    "```python\n",
    "Explanation: \"num_trials specifies the number of top hyperparameter sets to return. Setting num_trials=1 means that it will return only the best set of hyperparameters found during the tuning process.\"\n",
    " ```   \n",
    "\n",
    "</details>\n"
   ]
  },
  {
   "cell_type": "markdown",
   "id": "0e579e35-aa44-4d80-be3f-f72112a76ab4",
   "metadata": {},
   "source": [
    "### Conclusion: \n",
    "\n",
    "Congratulations on completing this lab! You have now successfully created, trained, and evaluated a simple neural network model using the Keras Functional API. This foundational knowledge will allow you to build more complex models and explore advanced functionalities in Keras. \n"
   ]
  },
  {
   "cell_type": "markdown",
   "id": "2d5f8b86-5f72-4904-aa74-b8323e22a484",
   "metadata": {},
   "source": [
    "Copyright © IBM Corporation. All rights reserved.\n"
   ]
  }
 ],
 "metadata": {
  "kernelspec": {
   "display_name": "tensorflow",
   "language": "python",
   "name": "python3"
  },
  "language_info": {
   "codemirror_mode": {
    "name": "ipython",
    "version": 3
   },
   "file_extension": ".py",
   "mimetype": "text/x-python",
   "name": "python",
   "nbconvert_exporter": "python",
   "pygments_lexer": "ipython3",
   "version": "3.10.14"
  },
  "prev_pub_hash": "48a1eb2565c8b635156cd21708473ccadb84e292e93f3530a9d5223b7590344e"
 },
 "nbformat": 4,
 "nbformat_minor": 4
}
