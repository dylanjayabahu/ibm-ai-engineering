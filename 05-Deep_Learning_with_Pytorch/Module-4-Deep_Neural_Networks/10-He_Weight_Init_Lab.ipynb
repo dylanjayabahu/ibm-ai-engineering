{
 "cells": [
  {
   "cell_type": "markdown",
   "id": "d3bba8b2-9d95-455f-bdab-a98d42b4183b",
   "metadata": {},
   "source": [
    "<p style=\"text-align:center\">\n",
    "    <a href=\"https://skills.network\" target=\"_blank\">\n",
    "    <img src=\"https://cf-courses-data.s3.us.cloud-object-storage.appdomain.cloud/assets/logos/SN_web_lightmode.png\" width=\"200\" alt=\"Skills Network Logo\">\n",
    "    </a>\n",
    "</p>\n"
   ]
  },
  {
   "cell_type": "markdown",
   "id": "937b774c-bc14-48b2-a468-b6fe8e5265a4",
   "metadata": {},
   "source": [
    "<h1>Test Uniform, Default and He Initialization on MNIST Dataset with Relu Activation</h1>\n"
   ]
  },
  {
   "cell_type": "markdown",
   "id": "f81df16c-3951-4756-a04c-9b46cb759690",
   "metadata": {},
   "source": [
    "\n",
    "<h3>Objective for this Notebook<h3>    \n",
    "<h5> 1. Learn how to Define Several Neural Network, Criterion function, Optimizer.</h5>\n",
    "<h5> 2. Test Uniform, Default and He Initialization </h5>   \n",
    "\n"
   ]
  },
  {
   "cell_type": "markdown",
   "id": "7d3263ba-4047-4e6a-8a02-dfb4217aaf40",
   "metadata": {},
   "source": [
    "<h2>Table of Contents</h2>\n",
    "<p>In this lab, you will test the Uniform Initialization, Default Initialization and He Initialization on the MNIST dataset with Relu Activation</p>\n",
    "\n",
    "<ul>\n",
    "    <li><a href=\"#Model\">Neural Network Module and Training Function</a></li>\n",
    "    <li><a href=\"#Makeup_Data\">Make Some Data</a></li>\n",
    "    <li><a href=\"#Cost\">Define Several Neural Network, Criterion function, Optimizer</a></li>\n",
    "    <li><a href=\"#Train\">Test Uniform, Default and He Initialization</a></li>\n",
    "    <li><a href=\"#Result\">Analyze Results</a></li>\n",
    "</ul>\n",
    "<p>Estimated Time Needed: <strong>25 min</strong></p>\n",
    "\n",
    "<hr>\n"
   ]
  },
  {
   "cell_type": "markdown",
   "id": "b9939d86-146c-423f-b11a-e69d42211fa3",
   "metadata": {},
   "source": [
    "<h2>Preparation</h2>\n"
   ]
  },
  {
   "cell_type": "markdown",
   "id": "401acfb1-b861-4146-9f92-442b84cde9b3",
   "metadata": {},
   "source": [
    "We'll need the following libraries:  \n"
   ]
  },
  {
   "cell_type": "code",
   "execution_count": 1,
   "id": "c30b0215-8aca-4487-bca0-f754776c3f49",
   "metadata": {},
   "outputs": [
    {
     "name": "stderr",
     "output_type": "stream",
     "text": [
      "/opt/anaconda3/envs/pytorch/lib/python3.10/site-packages/torchvision/io/image.py:14: UserWarning: Failed to load image Python extension: 'dlopen(/opt/anaconda3/envs/pytorch/lib/python3.10/site-packages/torchvision/image.so, 0x0006): Library not loaded: @rpath/libjpeg.9.dylib\n",
      "  Referenced from: <0B7EB158-53DC-3403-8A49-22178CAB4612> /opt/anaconda3/envs/pytorch/lib/python3.10/site-packages/torchvision/image.so\n",
      "  Reason: tried: '/opt/anaconda3/envs/pytorch/lib/python3.10/site-packages/torchvision/../../../libjpeg.9.dylib' (no such file), '/opt/anaconda3/envs/pytorch/lib/python3.10/site-packages/torchvision/../../../libjpeg.9.dylib' (no such file), '/opt/anaconda3/envs/pytorch/lib/python3.10/lib-dynload/../../libjpeg.9.dylib' (no such file), '/opt/anaconda3/envs/pytorch/bin/../lib/libjpeg.9.dylib' (no such file)'If you don't plan on using image functionality from `torchvision.io`, you can ignore this warning. Otherwise, there might be something wrong with your environment. Did you have `libjpeg` or `libpng` installed before building `torchvision` from source?\n",
      "  warn(\n"
     ]
    },
    {
     "data": {
      "text/plain": [
       "<torch._C.Generator at 0x10f1bae70>"
      ]
     },
     "execution_count": 1,
     "metadata": {},
     "output_type": "execute_result"
    }
   ],
   "source": [
    "# Import the libraries we need to use in this lab\n",
    "\n",
    "# Using the following line code to install the torchvision library\n",
    "# !mamba install -y torchvision\n",
    "\n",
    "import torch \n",
    "import torch.nn as nn\n",
    "import torchvision.transforms as transforms\n",
    "import torchvision.datasets as dsets\n",
    "import torch.nn.functional as F\n",
    "import matplotlib.pylab as plt\n",
    "import numpy as np\n",
    "\n",
    "torch.manual_seed(0)"
   ]
  },
  {
   "cell_type": "markdown",
   "id": "9a5c3a7b-dc82-48cf-b03e-9551e458ea27",
   "metadata": {},
   "source": [
    "<!--Empty Space for separating topics-->\n"
   ]
  },
  {
   "cell_type": "markdown",
   "id": "57ced914-4d1f-4d36-9546-f9efa2e5459c",
   "metadata": {},
   "source": [
    "<a name=\"Model\"><h2 id=\"Model\">Neural Network Module and Training Function</h2></a>\n"
   ]
  },
  {
   "cell_type": "markdown",
   "id": "4c539bda-5eb1-4689-b79d-61c6200d6f47",
   "metadata": {},
   "source": [
    "Define the neural network module or class with He Initialization\n"
   ]
  },
  {
   "cell_type": "code",
   "execution_count": 2,
   "id": "e8017b4c-bdc5-42d5-8d83-75b612d25bc7",
   "metadata": {},
   "outputs": [],
   "source": [
    "# Define the class for neural network model with He Initialization\n",
    "\n",
    "class Net_He(nn.Module):\n",
    "    \n",
    "    # Constructor\n",
    "    def __init__(self, Layers):\n",
    "        super(Net_He, self).__init__()\n",
    "        self.hidden = nn.ModuleList()\n",
    "\n",
    "        for input_size, output_size in zip(Layers, Layers[1:]):\n",
    "            linear = nn.Linear(input_size, output_size)\n",
    "            torch.nn.init.kaiming_uniform_(linear.weight, nonlinearity='relu')\n",
    "            self.hidden.append(linear)\n",
    "\n",
    "    # Prediction\n",
    "    def forward(self, x):\n",
    "        L = len(self.hidden)\n",
    "        for (l, linear_transform) in zip(range(L), self.hidden):\n",
    "            if l < L - 1:\n",
    "                x = F.relu(linear_transform(x))\n",
    "            else:\n",
    "                x = linear_transform(x)\n",
    "        return x"
   ]
  },
  {
   "cell_type": "markdown",
   "id": "82587231-d600-41b1-b18c-1627640389ec",
   "metadata": {},
   "source": [
    "Define the class or neural network with Uniform Initialization\n"
   ]
  },
  {
   "cell_type": "code",
   "execution_count": 3,
   "id": "fe4aab3a-7c53-4fa6-bc85-28c8fab8e5c8",
   "metadata": {},
   "outputs": [],
   "source": [
    "# Define the class for neural network model with Uniform Initialization\n",
    "\n",
    "class Net_Uniform(nn.Module):\n",
    "    \n",
    "    # Constructor\n",
    "    def __init__(self, Layers):\n",
    "        super(Net_Uniform, self).__init__()\n",
    "        self.hidden = nn.ModuleList()\n",
    "\n",
    "        for input_size, output_size in zip(Layers, Layers[1:]):\n",
    "            linear = nn.Linear(input_size,output_size)\n",
    "            linear.weight.data.uniform_(0, 1)\n",
    "            self.hidden.append(linear)\n",
    "    \n",
    "    # Prediction\n",
    "    def forward(self, x):\n",
    "        L = len(self.hidden)\n",
    "        for (l, linear_transform) in zip(range(L), self.hidden):\n",
    "            if l < L - 1:\n",
    "                x = F.relu(linear_transform(x))\n",
    "            else:\n",
    "                x = linear_transform(x)\n",
    "                \n",
    "        return x"
   ]
  },
  {
   "cell_type": "markdown",
   "id": "f1d359fe-7670-4359-b304-a4eff965380e",
   "metadata": {},
   "source": [
    "Class or Neural Network with PyTorch Default Initialization\n"
   ]
  },
  {
   "cell_type": "code",
   "execution_count": 4,
   "id": "625e2ffd-dd99-4e44-9123-a0ef506d54e0",
   "metadata": {},
   "outputs": [],
   "source": [
    "# Define the class for neural network model with PyTorch Default Initialization\n",
    "\n",
    "class Net(nn.Module):\n",
    "    \n",
    "    # Constructor\n",
    "    def __init__(self, Layers):\n",
    "        super(Net, self).__init__()\n",
    "        self.hidden = nn.ModuleList()\n",
    "\n",
    "        for input_size, output_size in zip(Layers, Layers[1:]):\n",
    "            linear = nn.Linear(input_size, output_size)\n",
    "            self.hidden.append(linear)\n",
    "        \n",
    "    def forward(self, x):\n",
    "        L=len(self.hidden)\n",
    "        for (l, linear_transform) in zip(range(L), self.hidden):\n",
    "            if l < L - 1:\n",
    "                x = F.relu(linear_transform(x))\n",
    "            else:\n",
    "                x = linear_transform(x)\n",
    "                \n",
    "        return x"
   ]
  },
  {
   "cell_type": "markdown",
   "id": "c8f40509-ab27-459c-993c-c1e6f512022c",
   "metadata": {},
   "source": [
    "Define a function to train the model, in this case the function returns a Python dictionary to store the training loss and accuracy on the validation data \n"
   ]
  },
  {
   "cell_type": "code",
   "execution_count": 5,
   "id": "41b3ccb9-aa77-4683-ac0b-93d3390242a8",
   "metadata": {},
   "outputs": [],
   "source": [
    "# Define function to  train model\n",
    "\n",
    "def train(model, criterion, train_loader, validation_loader, optimizer, epochs = 100):\n",
    "    i = 0\n",
    "    loss_accuracy = {'training_loss': [], 'validation_accuracy': []}  \n",
    "    \n",
    "    #n_epochs\n",
    "    for epoch in range(epochs):\n",
    "        for i, (x, y) in enumerate(train_loader):\n",
    "            optimizer.zero_grad()\n",
    "            z = model(x.view(-1, 28 * 28))\n",
    "            loss = criterion(z, y)\n",
    "            loss.backward()\n",
    "            optimizer.step()\n",
    "            loss_accuracy['training_loss'].append(loss.data.item())\n",
    "        \n",
    "        correct = 0\n",
    "        for x, y in validation_loader:\n",
    "            yhat = model(x.view(-1, 28 * 28))\n",
    "            _, label = torch.max(yhat, 1)\n",
    "            correct += (label == y).sum().item()\n",
    "        accuracy = 100 * (correct / len(validation_dataset))\n",
    "        loss_accuracy['validation_accuracy'].append(accuracy)\n",
    "    \n",
    "    return loss_accuracy"
   ]
  },
  {
   "cell_type": "markdown",
   "id": "80cc74f4-69da-422a-980b-94beed43c8b8",
   "metadata": {},
   "source": [
    "<!--Empty Space for separating topics-->\n"
   ]
  },
  {
   "cell_type": "markdown",
   "id": "85d8746a-e653-4375-9eac-d5c7da8c99fa",
   "metadata": {},
   "source": [
    "<a name=\"Makeup_Data\"><h2 id=\"Makeup_Data\">Make some Data</h2></a>\n"
   ]
  },
  {
   "cell_type": "markdown",
   "id": "a4286160-ba27-45a7-91dc-ebf097a3a7ee",
   "metadata": {},
   "source": [
    "Load the training dataset by setting the parameters <code>train </code> to <code>True</code> and convert it to a tensor  by placing a transform object int the argument <code>transform</code>\n"
   ]
  },
  {
   "cell_type": "code",
   "execution_count": 6,
   "id": "cdbd81c2-8970-49c0-a7b9-8b9aad672697",
   "metadata": {},
   "outputs": [],
   "source": [
    "# Create the training dataset\n",
    "\n",
    "train_dataset = dsets.MNIST(root='./data', train=True, download=True, transform=transforms.ToTensor())"
   ]
  },
  {
   "cell_type": "markdown",
   "id": "6ab01bc7-3cec-40e1-90a7-ad5037b194c7",
   "metadata": {},
   "source": [
    "Load the testing dataset by setting the parameters train  <code>False</code> and convert it to a tensor  by placing a transform object int the argument <code>transform</code>\n"
   ]
  },
  {
   "cell_type": "code",
   "execution_count": 7,
   "id": "284b10d9-413a-4442-99f1-64a636826071",
   "metadata": {},
   "outputs": [],
   "source": [
    "# Create the validation dataset\n",
    "\n",
    "validation_dataset = dsets.MNIST(root='./data', train=False, download=True, transform=transforms.ToTensor())"
   ]
  },
  {
   "cell_type": "markdown",
   "id": "d0d21f12-30a6-494f-91f1-893c3c74bec9",
   "metadata": {},
   "source": [
    "Create the training-data loader and the validation-data loader object \n"
   ]
  },
  {
   "cell_type": "code",
   "execution_count": 8,
   "id": "90088947-388f-4cf5-90e2-8b09a2c4c300",
   "metadata": {},
   "outputs": [],
   "source": [
    "# Create the data loader for training and validation\n",
    "\n",
    "train_loader = torch.utils.data.DataLoader(dataset=train_dataset, batch_size=2000, shuffle=True)\n",
    "validation_loader = torch.utils.data.DataLoader(dataset=validation_dataset, batch_size=5000, shuffle=False)"
   ]
  },
  {
   "cell_type": "markdown",
   "id": "21d5327d-4ae9-4ca4-9568-5aad25bb644c",
   "metadata": {},
   "source": [
    "<!--Empty Space for separating topics-->\n"
   ]
  },
  {
   "cell_type": "markdown",
   "id": "4178b866-9111-4a5d-a86d-d8f7f48d6c8a",
   "metadata": {},
   "source": [
    "<a name=\"Cost\"><h2 id=\"Cost\">Define Neural Network, Criterion function, Optimizer and Train the Model</h2></a> \n"
   ]
  },
  {
   "cell_type": "markdown",
   "id": "a7efecb3-7b84-4951-ae27-5b3458348295",
   "metadata": {},
   "source": [
    "Create the criterion function  \n"
   ]
  },
  {
   "cell_type": "code",
   "execution_count": 9,
   "id": "4cb8e969-c088-4b03-adcd-67f9806acbf4",
   "metadata": {},
   "outputs": [],
   "source": [
    "# Create the criterion function\n",
    "\n",
    "criterion = nn.CrossEntropyLoss()"
   ]
  },
  {
   "cell_type": "markdown",
   "id": "3cbc67d6-2b15-465f-8a9b-7bbd480cd577",
   "metadata": {},
   "source": [
    "Create a list that contains layer size \n"
   ]
  },
  {
   "cell_type": "code",
   "execution_count": 10,
   "id": "8aa4f82a-a43d-4320-9663-e260d7c8981e",
   "metadata": {},
   "outputs": [],
   "source": [
    "# Create the parameters\n",
    "\n",
    "input_dim = 28 * 28\n",
    "output_dim = 10\n",
    "layers = [input_dim, 100, 200, 100, output_dim]"
   ]
  },
  {
   "cell_type": "markdown",
   "id": "e74dcd63-14df-4965-a6cb-c5e9ba95f9e2",
   "metadata": {},
   "source": [
    "<!--Empty Space for separating topics-->\n"
   ]
  },
  {
   "cell_type": "markdown",
   "id": "b34821f4-56b3-4941-9606-adbd910e936f",
   "metadata": {},
   "source": [
    "<a name=\"Train\"><h2 id=\"Train\">Test PyTorch Default Initialization, Xavier Initialization and Uniform Initialization</h2></a> \n"
   ]
  },
  {
   "cell_type": "markdown",
   "id": "2ef68c84-5ee5-4cb4-a043-21f1b32a126c",
   "metadata": {},
   "source": [
    "Train the network using PyTorch Default Initialization\n"
   ]
  },
  {
   "cell_type": "code",
   "execution_count": 11,
   "id": "5daec531-2048-486d-901f-9418dc4a8f46",
   "metadata": {},
   "outputs": [],
   "source": [
    "# Train the model with the default initialization\n",
    "\n",
    "model = Net(layers)\n",
    "learning_rate = 0.01\n",
    "optimizer = torch.optim.SGD(model.parameters(), lr=learning_rate)\n",
    "training_results = train(model, criterion, train_loader,validation_loader, optimizer, epochs=30)"
   ]
  },
  {
   "cell_type": "markdown",
   "id": "c1bbb881-82af-4932-a3e8-cb48d828c7cf",
   "metadata": {},
   "source": [
    "Train the network using He Initialization function\n"
   ]
  },
  {
   "cell_type": "code",
   "execution_count": 12,
   "id": "1911a4c9-27e6-471e-86a9-3ef10aa71a0d",
   "metadata": {},
   "outputs": [],
   "source": [
    "# Train the model with the He initialization\n",
    "\n",
    "model_He = Net_He(layers)\n",
    "optimizer = torch.optim.SGD(model_He.parameters(), lr=learning_rate)\n",
    "training_results_He = train(model_He, criterion, train_loader, validation_loader, optimizer, epochs=30)"
   ]
  },
  {
   "cell_type": "markdown",
   "id": "9af205a5-a15d-4220-88c6-9ef440a38041",
   "metadata": {},
   "source": [
    "Train the network using Uniform Initialization function\n"
   ]
  },
  {
   "cell_type": "code",
   "execution_count": 13,
   "id": "83f203aa-b5a3-4c37-95f2-5de6386642e2",
   "metadata": {},
   "outputs": [],
   "source": [
    "# Train the model with the Uniform initialization\n",
    "\n",
    "model_Uniform = Net_Uniform(layers)\n",
    "optimizer = torch.optim.SGD(model_Uniform.parameters(), lr=learning_rate)\n",
    "training_results_Uniform = train(model_Uniform, criterion, train_loader, validation_loader, optimizer, epochs=30)"
   ]
  },
  {
   "cell_type": "markdown",
   "id": "ce319446-206c-4d56-9f3b-de23d2a98f3c",
   "metadata": {},
   "source": [
    "<!--Empty Space for separating topics-->\n"
   ]
  },
  {
   "cell_type": "markdown",
   "id": "87442820-e70c-4f77-9003-2af2fc5260ac",
   "metadata": {},
   "source": [
    "<a name=\"Result\"><h2 id=\"Result\">Analyze Results</h2></a>\n"
   ]
  },
  {
   "cell_type": "markdown",
   "id": "d3b5925e-c55d-4b57-a107-037210251eb8",
   "metadata": {},
   "source": [
    "Compare the training loss for each activation \n"
   ]
  },
  {
   "cell_type": "code",
   "execution_count": 16,
   "id": "2cae67c6-bd91-4ce7-94aa-3d843b74af5b",
   "metadata": {},
   "outputs": [
    {
     "data": {
      "text/plain": [
       "<matplotlib.legend.Legend at 0x177a62ef0>"
      ]
     },
     "execution_count": 16,
     "metadata": {},
     "output_type": "execute_result"
    },
    {
     "data": {
      "image/png": "[encoded data removed]",
      "text/plain": [
       "<Figure size 640x480 with 1 Axes>"
      ]
     },
     "metadata": {},
     "output_type": "display_data"
    }
   ],
   "source": [
    "# Plot the loss\n",
    "\n",
    "plt.plot(training_results_He['training_loss'], label='He')\n",
    "plt.plot(training_results['training_loss'], label='Default')\n",
    "plt.plot(training_results_Uniform['training_loss'], label='Uniform')\n",
    "plt.ylabel('loss')\n",
    "plt.xlabel('iteration ') \n",
    "plt.title('training loss iterations')\n",
    "plt.legend()"
   ]
  },
  {
   "cell_type": "markdown",
   "id": "152e7546-5120-45f6-b36f-df94a49d74cd",
   "metadata": {},
   "source": [
    "Compare the validation loss for each model  \n"
   ]
  },
  {
   "cell_type": "code",
   "execution_count": 17,
   "id": "64c37270-c6c5-45e7-b516-c8e20b7119a0",
   "metadata": {},
   "outputs": [
    {
     "data": {
      "image/png": "[encoded data removed]",
      "text/plain": [
       "<Figure size 640x480 with 1 Axes>"
      ]
     },
     "metadata": {},
     "output_type": "display_data"
    }
   ],
   "source": [
    "# Plot the accuracy\n",
    "\n",
    "plt.plot(training_results_He['validation_accuracy'], label='He')\n",
    "plt.plot(training_results['validation_accuracy'], label='Default')\n",
    "plt.plot(training_results_Uniform['validation_accuracy'], label='Uniform') \n",
    "plt.ylabel('validation accuracy')\n",
    "plt.xlabel('epochs ')   \n",
    "plt.legend()\n",
    "plt.show()"
   ]
  },
  {
   "cell_type": "markdown",
   "id": "7209ac2d-e20a-46b0-b448-c795bcc93348",
   "metadata": {},
   "source": [
    "\n",
    "<a href=\"https://dataplatform.cloud.ibm.com/registration/stepone?utm_source=skills_network&utm_content=in_lab_content_link&utm_id=Lab-IBMDeveloperSkillsNetwork-DL0110EN-SkillsNetwork&context=cpdaas&apps=data_science_experience%2Cwatson_machine_learning\"><img src=\"https://cf-courses-data.s3.us.cloud-object-storage.appdomain.cloud/IBMDeveloperSkillsNetwork-DL0110EN-SkillsNetwork/Template/module%201/images/Watson_Studio.png\"></a>\n"
   ]
  },
  {
   "cell_type": "markdown",
   "id": "bc71564c-e4d6-42e0-b323-131661936890",
   "metadata": {},
   "source": [
    "<!--Empty Space for separating topics-->\n"
   ]
  },
  {
   "cell_type": "markdown",
   "id": "561f3fff-93d9-441a-beb2-7bcc24720f3d",
   "metadata": {},
   "source": [
    "<h2>About the Authors:</h2> \n",
    "\n",
    "<a href=\"https://www.linkedin.com/in/joseph-s-50398b136/\">Joseph Santarcangelo</a> has a PhD in Electrical Engineering, his research focused on using machine learning, signal processing, and computer vision to determine how videos impact human cognition. Joseph has been working for IBM since he completed his PhD. \n"
   ]
  },
  {
   "cell_type": "markdown",
   "id": "bfe145e6-7cf0-4440-8664-4219f89ed8ed",
   "metadata": {},
   "source": [
    "Other contributors: <a href=\"https://www.linkedin.com/in/michelleccarey/\">Michelle Carey</a>, <a href=\"www.linkedin.com/in/jiahui-mavis-zhou-a4537814a\">Mavis Zhou</a>\n"
   ]
  },
  {
   "cell_type": "markdown",
   "id": "0df8f9d7-8328-4a07-ab12-b0c096831998",
   "metadata": {},
   "source": [
    "<!--\n",
    "## Change Log\n",
    "\n",
    "|  Date (YYYY-MM-DD) |  Version | Changed By  |  Change Description |\n",
    "|---|---|---|---|\n",
    "| 2020-09-23  | 2.0  | Srishti  |  Migrated Lab to Markdown and added to course repo in GitLab |\n",
    "\n",
    "\n",
    "\n",
    "<hr>\n",
    "-->\n",
    "## <h3 align=\"center\"> &#169; IBM Corporation. All rights reserved. <h3/>\n"
   ]
  }
 ],
 "metadata": {
  "kernelspec": {
   "display_name": "pytorch",
   "language": "python",
   "name": "python3"
  },
  "language_info": {
   "codemirror_mode": {
    "name": "ipython",
    "version": 3
   },
   "file_extension": ".py",
   "mimetype": "text/x-python",
   "name": "python",
   "nbconvert_exporter": "python",
   "pygments_lexer": "ipython3",
   "version": "3.10.18"
  },
  "prev_pub_hash": "a90c080fb8d24c940ab0c9470dfc863f9af82485626d0e072fc7e925f90ab387"
 },
 "nbformat": 4,
 "nbformat_minor": 4
}
