{
 "cells": [
  {
   "cell_type": "markdown",
   "id": "0a8ab66b-f1ce-47e1-94c8-ed5b3f46f530",
   "metadata": {},
   "source": [
    "<p style=\"text-align:center\">\n",
    "    <a href=\"https://skills.network\" target=\"_blank\">\n",
    "    <img src=\"https://cf-courses-data.s3.us.cloud-object-storage.appdomain.cloud/assets/logos/SN_web_lightmode.png\" width=\"200\" alt=\"Skills Network Logo\"  />\n",
    "    </a>\n",
    "</p>\n"
   ]
  },
  {
   "cell_type": "markdown",
   "id": "41220868-fe77-475f-b412-411f5d869476",
   "metadata": {},
   "source": [
    "# <a id='toc1_'></a>[Deep Neural Network for Breast Cancer Classification](#toc0_)\n"
   ]
  },
  {
   "cell_type": "markdown",
   "id": "adf3ca37-59a0-4edb-96eb-d7287b00db87",
   "metadata": {},
   "source": [
    "Estimated time needed: **30** minutes\n"
   ]
  },
  {
   "cell_type": "markdown",
   "id": "42b24186-d8fa-4fd1-b40b-3b78003986f4",
   "metadata": {},
   "source": [
    "This tutorial demonstrates how to build and train a deep neural network for classification using the PyTorch library. The dataset used is the Breast Cancer Wisconsin (Diagnostic) Data Set.\n"
   ]
  },
  {
   "cell_type": "markdown",
   "id": "f3855a5f-1add-477c-9649-c5f557d88488",
   "metadata": {},
   "source": [
    "**Table of contents**<a id='toc0_'></a>    \n",
    "- [Deep Neural Network for Breast Cancer Classification](#toc1_)    \n",
    "  - [Objectives](#toc1_1_)    \n",
    "  - [Background](#toc1_2_)    \n",
    "    - [What is PyTorch](#toc1_2_1_)    \n",
    "  - [Setup](#toc1_3_)    \n",
    "    - [Installing Required Libraries](#toc1_3_1_)    \n",
    "  - [Load the Data](#toc1_4_)    \n",
    "    - [Breast Cancer Wisconsin (Diagnostic)](#toc1_4_1_)    \n",
    "  - [Data Preprocessing](#toc1_5_)    \n",
    "  - [Build and Train the Neural Network Model](#toc1_6_)    \n",
    "  - [Visualize the Training and Test Loss](#toc1_7_)    \n",
    "  - [Exercises](#toc1_8_)    \n",
    "    - [Exercise 1 - Change to different optimizer: SGD](#toc1_8_1_)    \n",
    "    - [Exercise 2 - Change the number of neurons](#toc1_8_2_)    \n",
    "    - [Exercise 3 - Try different dataset - Iris Dataset](#toc1_8_3_)    \n",
    "  - [Authors](#toc1_9_)    \n",
    "  - [Contributors](#toc1_10_)    \n"
   ]
  },
  {
   "cell_type": "markdown",
   "id": "715c1cc7-9e9e-46b6-b85b-b78b62678563",
   "metadata": {},
   "source": [
    "## <a id='toc1_1_'></a>[Objectives](#toc0_)\n",
    "\n",
    "After completing this lab you will be able to:\n",
    "\n",
    " - Use PyTorch to build and train a deep neural network for classification.\n"
   ]
  },
  {
   "cell_type": "markdown",
   "id": "f6da2170-8643-4e92-9c00-96a7a5fee154",
   "metadata": {},
   "source": [
    "## <a id='toc1_2_'></a>[Background](#toc0_)\n",
    "\n",
    "### <a id='toc1_2_1_'></a>[What is PyTorch](#toc0_)\n",
    "\n",
    "[PyTorch](https://pytorch.org/) is an open-source machine learning library, developed by Facebook's AI Research lab (FAIR). It is primarily used for applications in areas such as computer vision and natural language processing.\n",
    "\n",
    "**Common Uses of PyTorch**\n",
    "\n",
    "- **Developing Deep Learning Models**: From standard feed-forward networks to complex neural networks like CNNs and RNNs.\n",
    "- **Research and Experimentation**: Facilitates rapid prototyping, which is highly valued in academic and research settings.\n",
    "- **Production Deployment**: With the support of TorchServe, PyTorch models can be easily transitioned from research to production environments.\n"
   ]
  },
  {
   "cell_type": "markdown",
   "id": "29be1181-718c-408f-9ef1-5bfe050d0cbb",
   "metadata": {},
   "source": [
    "----\n"
   ]
  },
  {
   "cell_type": "markdown",
   "id": "989e56e6-2cb5-46e0-bf0f-7d75b2f2eaa5",
   "metadata": {},
   "source": [
    "## <a id='toc1_3_'></a>[Setup](#toc0_)\n",
    "\n",
    "For this lab, we will be using the following libraries:\n",
    "\n",
    "*   [`pandas`](https://pandas.pydata.org/) for managing the data.\n",
    "*   [`numpy`](https://numpy.org/) for mathematical operations.\n",
    "*   [`matplotlib`](https://matplotlib.org/) for additional plotting tools.\n",
    "*   [`sklearn`](https://scikit-learn.org/stable/) for machine learning and machine-learning-pipeline related functions.\n",
    "*   [`torch`](https://pytorch.org/) for building and training the deep neural network.\n",
    "*   [`ucimlrepo`](https://pypi.org/project/ucimlrepo/) for loading the dataset.\n"
   ]
  },
  {
   "cell_type": "markdown",
   "id": "59002b11-5f0d-4bda-9884-c4b4a22e0b1a",
   "metadata": {},
   "source": [
    "### <a id='toc1_3_1_'></a>[Installing Required Libraries](#toc0_)\n"
   ]
  },
  {
   "cell_type": "code",
   "execution_count": 8,
   "id": "d3ed4aa9-19b2-47cd-a3d9-e9aaa110a879",
   "metadata": {},
   "outputs": [
    {
     "name": "stdout",
     "output_type": "stream",
     "text": [
      "Collecting scikit-learn==1.5.0\n",
      "  Downloading scikit_learn-1.5.0-cp310-cp310-macosx_12_0_arm64.whl.metadata (11 kB)\n",
      "Requirement already satisfied: numpy>=1.19.5 in /opt/anaconda3/envs/pytorch/lib/python3.10/site-packages (from scikit-learn==1.5.0) (2.2.6)\n",
      "Collecting scipy>=1.6.0 (from scikit-learn==1.5.0)\n",
      "  Downloading scipy-1.15.3-cp310-cp310-macosx_14_0_arm64.whl.metadata (61 kB)\n",
      "Collecting joblib>=1.2.0 (from scikit-learn==1.5.0)\n",
      "  Downloading joblib-1.5.2-py3-none-any.whl.metadata (5.6 kB)\n",
      "Collecting threadpoolctl>=3.1.0 (from scikit-learn==1.5.0)\n",
      "  Using cached threadpoolctl-3.6.0-py3-none-any.whl.metadata (13 kB)\n",
      "Downloading scikit_learn-1.5.0-cp310-cp310-macosx_12_0_arm64.whl (11.0 MB)\n",
      "\u001b[2K   \u001b[90m━━━━━━━━━━━━━━━━━━━━━━━━━━━━━━━━━━━━━━━━\u001b[0m \u001b[32m11.0/11.0 MB\u001b[0m \u001b[31m12.3 MB/s\u001b[0m  \u001b[33m0:00:00\u001b[0m eta \u001b[36m0:00:01\u001b[0m\n",
      "\u001b[?25hDownloading joblib-1.5.2-py3-none-any.whl (308 kB)\n",
      "Downloading scipy-1.15.3-cp310-cp310-macosx_14_0_arm64.whl (22.4 MB)\n",
      "\u001b[2K   \u001b[90m━━━━━━━━━━━━━━━━━━━━━━━━━━━━━━━━━━━━━━━━\u001b[0m \u001b[32m22.4/22.4 MB\u001b[0m \u001b[31m12.0 MB/s\u001b[0m  \u001b[33m0:00:01\u001b[0m eta \u001b[36m0:00:01\u001b[0m\n",
      "\u001b[?25hUsing cached threadpoolctl-3.6.0-py3-none-any.whl (18 kB)\n",
      "Installing collected packages: threadpoolctl, scipy, joblib, scikit-learn\n",
      "\u001b[2K   \u001b[90m━━━━━━━━━━━━━━━━━━━━━━━━━━━━━━━━━━━━━━━━\u001b[0m \u001b[32m4/4\u001b[0m [scikit-learn][0m [scikit-learn]\n",
      "\u001b[1A\u001b[2KSuccessfully installed joblib-1.5.2 scikit-learn-1.5.0 scipy-1.15.3 threadpoolctl-3.6.0\n",
      "Note: you may need to restart the kernel to use updated packages.\n",
      "Requirement already satisfied: ucimlrepo==0.0.7 in /opt/anaconda3/envs/pytorch/lib/python3.10/site-packages (0.0.7)\n",
      "Requirement already satisfied: pandas>=1.0.0 in /opt/anaconda3/envs/pytorch/lib/python3.10/site-packages (from ucimlrepo==0.0.7) (2.3.2)\n",
      "Requirement already satisfied: certifi>=2020.12.5 in /opt/anaconda3/envs/pytorch/lib/python3.10/site-packages (from ucimlrepo==0.0.7) (2025.8.3)\n",
      "Requirement already satisfied: numpy>=1.22.4 in /opt/anaconda3/envs/pytorch/lib/python3.10/site-packages (from pandas>=1.0.0->ucimlrepo==0.0.7) (2.2.6)\n",
      "Requirement already satisfied: python-dateutil>=2.8.2 in /opt/anaconda3/envs/pytorch/lib/python3.10/site-packages (from pandas>=1.0.0->ucimlrepo==0.0.7) (2.9.0.post0)\n",
      "Requirement already satisfied: pytz>=2020.1 in /opt/anaconda3/envs/pytorch/lib/python3.10/site-packages (from pandas>=1.0.0->ucimlrepo==0.0.7) (2025.2)\n",
      "Requirement already satisfied: tzdata>=2022.7 in /opt/anaconda3/envs/pytorch/lib/python3.10/site-packages (from pandas>=1.0.0->ucimlrepo==0.0.7) (2025.2)\n",
      "Requirement already satisfied: six>=1.5 in /opt/anaconda3/envs/pytorch/lib/python3.10/site-packages (from python-dateutil>=2.8.2->pandas>=1.0.0->ucimlrepo==0.0.7) (1.17.0)\n",
      "Note: you may need to restart the kernel to use updated packages.\n"
     ]
    }
   ],
   "source": [
    "# %pip install pandas==2.2.2\n",
    "# %pip install numpy==1.26.4\n",
    "# %pip install matplotlib==3.8.0\n",
    "%pip install scikit-learn==1.5.0\n",
    "# %pip install torch==2.3.1\n",
    "%pip install ucimlrepo==0.0.7"
   ]
  },
  {
   "cell_type": "markdown",
   "id": "6254c330-7b6c-4dba-868f-e5a6d921d8a7",
   "metadata": {},
   "source": [
    "## <a id='toc1_4_'></a>[Load the Data](#toc0_)\n",
    "\n",
    "### <a id='toc1_4_1_'></a>[Breast Cancer Wisconsin (Diagnostic)](#toc0_)\n",
    "\n",
    "The [Breast Cancer Wisconsin (Diagnostic) dataset](https://archive.ics.uci.edu/ml/datasets/Breast+Cancer+Wisconsin+(Diagnostic)) is a classic dataset used for classification tasks. It contains 569 samples of breast cancer cells, each with 30 features. The dataset is divided into two classes: benign and malignant. The goal is to classify the breast cancer cells into one of the two classes.\n",
    "\n",
    "This dataset is free to use and is licensed under a Creative Commons Attribution 4.0 International (CC BY 4.0) license.\n",
    "\n",
    "First, we need to load our dataset and take a look at its structure.\n"
   ]
  },
  {
   "cell_type": "code",
   "execution_count": 3,
   "id": "9ce9fcb1-dee5-492e-a611-b86438efe0a9",
   "metadata": {},
   "outputs": [
    {
     "data": {
      "text/html": [
       "<div>\n",
       "<style scoped>\n",
       "    .dataframe tbody tr th:only-of-type {\n",
       "        vertical-align: middle;\n",
       "    }\n",
       "\n",
       "    .dataframe tbody tr th {\n",
       "        vertical-align: top;\n",
       "    }\n",
       "\n",
       "    .dataframe thead th {\n",
       "        text-align: right;\n",
       "    }\n",
       "</style>\n",
       "<table border=\"1\" class=\"dataframe\">\n",
       "  <thead>\n",
       "    <tr style=\"text-align: right;\">\n",
       "      <th></th>\n",
       "      <th>radius1</th>\n",
       "      <th>texture1</th>\n",
       "      <th>perimeter1</th>\n",
       "      <th>area1</th>\n",
       "      <th>smoothness1</th>\n",
       "      <th>compactness1</th>\n",
       "      <th>concavity1</th>\n",
       "      <th>concave_points1</th>\n",
       "      <th>symmetry1</th>\n",
       "      <th>fractal_dimension1</th>\n",
       "      <th>...</th>\n",
       "      <th>radius3</th>\n",
       "      <th>texture3</th>\n",
       "      <th>perimeter3</th>\n",
       "      <th>area3</th>\n",
       "      <th>smoothness3</th>\n",
       "      <th>compactness3</th>\n",
       "      <th>concavity3</th>\n",
       "      <th>concave_points3</th>\n",
       "      <th>symmetry3</th>\n",
       "      <th>fractal_dimension3</th>\n",
       "    </tr>\n",
       "  </thead>\n",
       "  <tbody>\n",
       "    <tr>\n",
       "      <th>0</th>\n",
       "      <td>17.99</td>\n",
       "      <td>10.38</td>\n",
       "      <td>122.80</td>\n",
       "      <td>1001.0</td>\n",
       "      <td>0.11840</td>\n",
       "      <td>0.27760</td>\n",
       "      <td>0.3001</td>\n",
       "      <td>0.14710</td>\n",
       "      <td>0.2419</td>\n",
       "      <td>0.07871</td>\n",
       "      <td>...</td>\n",
       "      <td>25.38</td>\n",
       "      <td>17.33</td>\n",
       "      <td>184.60</td>\n",
       "      <td>2019.0</td>\n",
       "      <td>0.1622</td>\n",
       "      <td>0.6656</td>\n",
       "      <td>0.7119</td>\n",
       "      <td>0.2654</td>\n",
       "      <td>0.4601</td>\n",
       "      <td>0.11890</td>\n",
       "    </tr>\n",
       "    <tr>\n",
       "      <th>1</th>\n",
       "      <td>20.57</td>\n",
       "      <td>17.77</td>\n",
       "      <td>132.90</td>\n",
       "      <td>1326.0</td>\n",
       "      <td>0.08474</td>\n",
       "      <td>0.07864</td>\n",
       "      <td>0.0869</td>\n",
       "      <td>0.07017</td>\n",
       "      <td>0.1812</td>\n",
       "      <td>0.05667</td>\n",
       "      <td>...</td>\n",
       "      <td>24.99</td>\n",
       "      <td>23.41</td>\n",
       "      <td>158.80</td>\n",
       "      <td>1956.0</td>\n",
       "      <td>0.1238</td>\n",
       "      <td>0.1866</td>\n",
       "      <td>0.2416</td>\n",
       "      <td>0.1860</td>\n",
       "      <td>0.2750</td>\n",
       "      <td>0.08902</td>\n",
       "    </tr>\n",
       "    <tr>\n",
       "      <th>2</th>\n",
       "      <td>19.69</td>\n",
       "      <td>21.25</td>\n",
       "      <td>130.00</td>\n",
       "      <td>1203.0</td>\n",
       "      <td>0.10960</td>\n",
       "      <td>0.15990</td>\n",
       "      <td>0.1974</td>\n",
       "      <td>0.12790</td>\n",
       "      <td>0.2069</td>\n",
       "      <td>0.05999</td>\n",
       "      <td>...</td>\n",
       "      <td>23.57</td>\n",
       "      <td>25.53</td>\n",
       "      <td>152.50</td>\n",
       "      <td>1709.0</td>\n",
       "      <td>0.1444</td>\n",
       "      <td>0.4245</td>\n",
       "      <td>0.4504</td>\n",
       "      <td>0.2430</td>\n",
       "      <td>0.3613</td>\n",
       "      <td>0.08758</td>\n",
       "    </tr>\n",
       "    <tr>\n",
       "      <th>3</th>\n",
       "      <td>11.42</td>\n",
       "      <td>20.38</td>\n",
       "      <td>77.58</td>\n",
       "      <td>386.1</td>\n",
       "      <td>0.14250</td>\n",
       "      <td>0.28390</td>\n",
       "      <td>0.2414</td>\n",
       "      <td>0.10520</td>\n",
       "      <td>0.2597</td>\n",
       "      <td>0.09744</td>\n",
       "      <td>...</td>\n",
       "      <td>14.91</td>\n",
       "      <td>26.50</td>\n",
       "      <td>98.87</td>\n",
       "      <td>567.7</td>\n",
       "      <td>0.2098</td>\n",
       "      <td>0.8663</td>\n",
       "      <td>0.6869</td>\n",
       "      <td>0.2575</td>\n",
       "      <td>0.6638</td>\n",
       "      <td>0.17300</td>\n",
       "    </tr>\n",
       "    <tr>\n",
       "      <th>4</th>\n",
       "      <td>20.29</td>\n",
       "      <td>14.34</td>\n",
       "      <td>135.10</td>\n",
       "      <td>1297.0</td>\n",
       "      <td>0.10030</td>\n",
       "      <td>0.13280</td>\n",
       "      <td>0.1980</td>\n",
       "      <td>0.10430</td>\n",
       "      <td>0.1809</td>\n",
       "      <td>0.05883</td>\n",
       "      <td>...</td>\n",
       "      <td>22.54</td>\n",
       "      <td>16.67</td>\n",
       "      <td>152.20</td>\n",
       "      <td>1575.0</td>\n",
       "      <td>0.1374</td>\n",
       "      <td>0.2050</td>\n",
       "      <td>0.4000</td>\n",
       "      <td>0.1625</td>\n",
       "      <td>0.2364</td>\n",
       "      <td>0.07678</td>\n",
       "    </tr>\n",
       "  </tbody>\n",
       "</table>\n",
       "<p>5 rows × 30 columns</p>\n",
       "</div>"
      ],
      "text/plain": [
       "   radius1  texture1  perimeter1   area1  smoothness1  compactness1  \\\n",
       "0    17.99     10.38      122.80  1001.0      0.11840       0.27760   \n",
       "1    20.57     17.77      132.90  1326.0      0.08474       0.07864   \n",
       "2    19.69     21.25      130.00  1203.0      0.10960       0.15990   \n",
       "3    11.42     20.38       77.58   386.1      0.14250       0.28390   \n",
       "4    20.29     14.34      135.10  1297.0      0.10030       0.13280   \n",
       "\n",
       "   concavity1  concave_points1  symmetry1  fractal_dimension1  ...  radius3  \\\n",
       "0      0.3001          0.14710     0.2419             0.07871  ...    25.38   \n",
       "1      0.0869          0.07017     0.1812             0.05667  ...    24.99   \n",
       "2      0.1974          0.12790     0.2069             0.05999  ...    23.57   \n",
       "3      0.2414          0.10520     0.2597             0.09744  ...    14.91   \n",
       "4      0.1980          0.10430     0.1809             0.05883  ...    22.54   \n",
       "\n",
       "   texture3  perimeter3   area3  smoothness3  compactness3  concavity3  \\\n",
       "0     17.33      184.60  2019.0       0.1622        0.6656      0.7119   \n",
       "1     23.41      158.80  1956.0       0.1238        0.1866      0.2416   \n",
       "2     25.53      152.50  1709.0       0.1444        0.4245      0.4504   \n",
       "3     26.50       98.87   567.7       0.2098        0.8663      0.6869   \n",
       "4     16.67      152.20  1575.0       0.1374        0.2050      0.4000   \n",
       "\n",
       "   concave_points3  symmetry3  fractal_dimension3  \n",
       "0           0.2654     0.4601             0.11890  \n",
       "1           0.1860     0.2750             0.08902  \n",
       "2           0.2430     0.3613             0.08758  \n",
       "3           0.2575     0.6638             0.17300  \n",
       "4           0.1625     0.2364             0.07678  \n",
       "\n",
       "[5 rows x 30 columns]"
      ]
     },
     "metadata": {},
     "output_type": "display_data"
    },
    {
     "data": {
      "text/html": [
       "<div>\n",
       "<style scoped>\n",
       "    .dataframe tbody tr th:only-of-type {\n",
       "        vertical-align: middle;\n",
       "    }\n",
       "\n",
       "    .dataframe tbody tr th {\n",
       "        vertical-align: top;\n",
       "    }\n",
       "\n",
       "    .dataframe thead th {\n",
       "        text-align: right;\n",
       "    }\n",
       "</style>\n",
       "<table border=\"1\" class=\"dataframe\">\n",
       "  <thead>\n",
       "    <tr style=\"text-align: right;\">\n",
       "      <th></th>\n",
       "      <th>Diagnosis</th>\n",
       "    </tr>\n",
       "  </thead>\n",
       "  <tbody>\n",
       "    <tr>\n",
       "      <th>0</th>\n",
       "      <td>M</td>\n",
       "    </tr>\n",
       "    <tr>\n",
       "      <th>1</th>\n",
       "      <td>M</td>\n",
       "    </tr>\n",
       "    <tr>\n",
       "      <th>2</th>\n",
       "      <td>M</td>\n",
       "    </tr>\n",
       "    <tr>\n",
       "      <th>3</th>\n",
       "      <td>M</td>\n",
       "    </tr>\n",
       "    <tr>\n",
       "      <th>4</th>\n",
       "      <td>M</td>\n",
       "    </tr>\n",
       "  </tbody>\n",
       "</table>\n",
       "</div>"
      ],
      "text/plain": [
       "  Diagnosis\n",
       "0         M\n",
       "1         M\n",
       "2         M\n",
       "3         M\n",
       "4         M"
      ]
     },
     "metadata": {},
     "output_type": "display_data"
    }
   ],
   "source": [
    "from ucimlrepo import fetch_ucirepo \n",
    "  \n",
    "# fetch dataset \n",
    "breast_cancer_wisconsin_diagnostic = fetch_ucirepo(id=17) \n",
    "  \n",
    "# data (as pandas dataframes) \n",
    "X = breast_cancer_wisconsin_diagnostic.data.features \n",
    "y = breast_cancer_wisconsin_diagnostic.data.targets \n",
    "\n",
    "# print the first few rows of the data\n",
    "display(X.head())\n",
    "\n",
    "# print the first few rows of the target\n",
    "display(y.head())"
   ]
  },
  {
   "cell_type": "markdown",
   "id": "e89f38cc-e284-43ba-8904-d0e5018ae3a2",
   "metadata": {},
   "source": [
    "Then let us check the shape of the dataset.\n"
   ]
  },
  {
   "cell_type": "code",
   "execution_count": 4,
   "id": "d0f7c8ae-f92b-44cd-855f-1a886513074d",
   "metadata": {},
   "outputs": [
    {
     "data": {
      "text/plain": [
       "'X shape: (569, 30)'"
      ]
     },
     "metadata": {},
     "output_type": "display_data"
    },
    {
     "data": {
      "text/plain": [
       "'y shape: (569, 1)'"
      ]
     },
     "metadata": {},
     "output_type": "display_data"
    }
   ],
   "source": [
    "display(f'X shape: {X.shape}')\n",
    "display(f'y shape: {y.shape}')"
   ]
  },
  {
   "cell_type": "markdown",
   "id": "f3c6bc43-fd2d-4bd0-8a86-4d24e90164b0",
   "metadata": {},
   "source": [
    "As we can see, the dataset has 569 samples and 30 features. The target variable is the diagnosis column, which contains the class labels for each sample. The class labels are either 'M' (malignant) or 'B' (benign).\n",
    "\n",
    "We will then check the distribution of the target variable.\n"
   ]
  },
  {
   "cell_type": "code",
   "execution_count": 5,
   "id": "a531bd87-9c58-461e-89d8-dee5f9bb8169",
   "metadata": {},
   "outputs": [
    {
     "data": {
      "text/plain": [
       "Diagnosis\n",
       "B    357\n",
       "M    212\n",
       "Name: count, dtype: int64"
      ]
     },
     "metadata": {},
     "output_type": "display_data"
    }
   ],
   "source": [
    "display(y['Diagnosis'].value_counts())"
   ]
  },
  {
   "cell_type": "markdown",
   "id": "0c0626c7-a41f-42b7-b165-879cdff85215",
   "metadata": {},
   "source": [
    "Note that the dataset is **imbalanced**, with more benign samples than malignant samples. \n",
    "\n",
    "We will now process the data. Randomly choose 200 samples in 'M' (malignant) and 200 samples in 'B' (benign).\n"
   ]
  },
  {
   "cell_type": "code",
   "execution_count": 6,
   "id": "aa64a93d-759a-48c1-bd1a-e1c9b887db5d",
   "metadata": {},
   "outputs": [
    {
     "data": {
      "text/plain": [
       "Diagnosis\n",
       "B    200\n",
       "M    200\n",
       "Name: count, dtype: int64"
      ]
     },
     "metadata": {},
     "output_type": "display_data"
    }
   ],
   "source": [
    "import pandas as pd\n",
    "\n",
    "# Combine features and target into a single DataFrame for easier manipulation\n",
    "data = pd.concat([X, y], axis=1)\n",
    "\n",
    "# Separate the two classes\n",
    "data_B = data[data['Diagnosis'] == 'B']\n",
    "data_M = data[data['Diagnosis'] == 'M']\n",
    "\n",
    "# Select 200 samples from each class\n",
    "data_B = data_B.sample(n=200, random_state=42)\n",
    "data_M = data_M.sample(n=200, random_state=42)\n",
    "\n",
    "# Combine the two classes\n",
    "balanced_data = pd.concat([data_B, data_M])\n",
    "\n",
    "display(balanced_data['Diagnosis'].value_counts())"
   ]
  },
  {
   "cell_type": "markdown",
   "id": "947594ba-dc9c-466c-a837-bcef11937b23",
   "metadata": {},
   "source": [
    "There are 200 samples in each class, with a total of 400 samples. It means that the dataset is balanced.\n",
    "\n",
    "We will use 80% of the samples for training and 20% for testing.\n"
   ]
  },
  {
   "cell_type": "markdown",
   "id": "549fb4aa-56f8-49ba-8398-6b9ef787308f",
   "metadata": {},
   "source": [
    "## <a id='toc1_5_'></a>[Data Preprocessing](#toc0_)\n",
    "\n",
    "Before feeding the data into our neural network, we need to preprocess it. This involves separating the features and labels, splitting the data into training and test sets, and standardizing the feature values.\n"
   ]
  },
  {
   "cell_type": "code",
   "execution_count": 9,
   "id": "45564caf-4924-45a7-b1a8-e87f3066132c",
   "metadata": {},
   "outputs": [
    {
     "data": {
      "text/html": [
       "<div>\n",
       "<style scoped>\n",
       "    .dataframe tbody tr th:only-of-type {\n",
       "        vertical-align: middle;\n",
       "    }\n",
       "\n",
       "    .dataframe tbody tr th {\n",
       "        vertical-align: top;\n",
       "    }\n",
       "\n",
       "    .dataframe thead th {\n",
       "        text-align: right;\n",
       "    }\n",
       "</style>\n",
       "<table border=\"1\" class=\"dataframe\">\n",
       "  <thead>\n",
       "    <tr style=\"text-align: right;\">\n",
       "      <th></th>\n",
       "      <th>radius1</th>\n",
       "      <th>texture1</th>\n",
       "      <th>perimeter1</th>\n",
       "      <th>area1</th>\n",
       "      <th>smoothness1</th>\n",
       "      <th>compactness1</th>\n",
       "      <th>concavity1</th>\n",
       "      <th>concave_points1</th>\n",
       "      <th>symmetry1</th>\n",
       "      <th>fractal_dimension1</th>\n",
       "      <th>...</th>\n",
       "      <th>radius3</th>\n",
       "      <th>texture3</th>\n",
       "      <th>perimeter3</th>\n",
       "      <th>area3</th>\n",
       "      <th>smoothness3</th>\n",
       "      <th>compactness3</th>\n",
       "      <th>concavity3</th>\n",
       "      <th>concave_points3</th>\n",
       "      <th>symmetry3</th>\n",
       "      <th>fractal_dimension3</th>\n",
       "    </tr>\n",
       "  </thead>\n",
       "  <tbody>\n",
       "    <tr>\n",
       "      <th>395</th>\n",
       "      <td>14.060</td>\n",
       "      <td>17.18</td>\n",
       "      <td>89.75</td>\n",
       "      <td>609.1</td>\n",
       "      <td>0.08045</td>\n",
       "      <td>0.05361</td>\n",
       "      <td>0.026810</td>\n",
       "      <td>0.03251</td>\n",
       "      <td>0.1641</td>\n",
       "      <td>0.05764</td>\n",
       "      <td>...</td>\n",
       "      <td>14.92</td>\n",
       "      <td>25.34</td>\n",
       "      <td>96.42</td>\n",
       "      <td>684.5</td>\n",
       "      <td>0.10660</td>\n",
       "      <td>0.12310</td>\n",
       "      <td>0.08460</td>\n",
       "      <td>0.07911</td>\n",
       "      <td>0.2523</td>\n",
       "      <td>0.06609</td>\n",
       "    </tr>\n",
       "    <tr>\n",
       "      <th>110</th>\n",
       "      <td>9.777</td>\n",
       "      <td>16.99</td>\n",
       "      <td>62.50</td>\n",
       "      <td>290.2</td>\n",
       "      <td>0.10370</td>\n",
       "      <td>0.08404</td>\n",
       "      <td>0.043340</td>\n",
       "      <td>0.01778</td>\n",
       "      <td>0.1584</td>\n",
       "      <td>0.07065</td>\n",
       "      <td>...</td>\n",
       "      <td>11.05</td>\n",
       "      <td>21.47</td>\n",
       "      <td>71.68</td>\n",
       "      <td>367.0</td>\n",
       "      <td>0.14670</td>\n",
       "      <td>0.17650</td>\n",
       "      <td>0.13000</td>\n",
       "      <td>0.05334</td>\n",
       "      <td>0.2533</td>\n",
       "      <td>0.08468</td>\n",
       "    </tr>\n",
       "    <tr>\n",
       "      <th>481</th>\n",
       "      <td>13.900</td>\n",
       "      <td>19.24</td>\n",
       "      <td>88.73</td>\n",
       "      <td>602.9</td>\n",
       "      <td>0.07991</td>\n",
       "      <td>0.05326</td>\n",
       "      <td>0.029950</td>\n",
       "      <td>0.02070</td>\n",
       "      <td>0.1579</td>\n",
       "      <td>0.05594</td>\n",
       "      <td>...</td>\n",
       "      <td>16.41</td>\n",
       "      <td>26.42</td>\n",
       "      <td>104.40</td>\n",
       "      <td>830.5</td>\n",
       "      <td>0.10640</td>\n",
       "      <td>0.14150</td>\n",
       "      <td>0.16730</td>\n",
       "      <td>0.08150</td>\n",
       "      <td>0.2356</td>\n",
       "      <td>0.07603</td>\n",
       "    </tr>\n",
       "    <tr>\n",
       "      <th>493</th>\n",
       "      <td>12.460</td>\n",
       "      <td>12.83</td>\n",
       "      <td>78.83</td>\n",
       "      <td>477.3</td>\n",
       "      <td>0.07372</td>\n",
       "      <td>0.04043</td>\n",
       "      <td>0.007173</td>\n",
       "      <td>0.01149</td>\n",
       "      <td>0.1613</td>\n",
       "      <td>0.06013</td>\n",
       "      <td>...</td>\n",
       "      <td>13.19</td>\n",
       "      <td>16.36</td>\n",
       "      <td>83.24</td>\n",
       "      <td>534.0</td>\n",
       "      <td>0.09439</td>\n",
       "      <td>0.06477</td>\n",
       "      <td>0.01674</td>\n",
       "      <td>0.02680</td>\n",
       "      <td>0.2280</td>\n",
       "      <td>0.07028</td>\n",
       "    </tr>\n",
       "    <tr>\n",
       "      <th>136</th>\n",
       "      <td>11.710</td>\n",
       "      <td>16.67</td>\n",
       "      <td>74.72</td>\n",
       "      <td>423.6</td>\n",
       "      <td>0.10510</td>\n",
       "      <td>0.06095</td>\n",
       "      <td>0.035920</td>\n",
       "      <td>0.02600</td>\n",
       "      <td>0.1339</td>\n",
       "      <td>0.05945</td>\n",
       "      <td>...</td>\n",
       "      <td>13.33</td>\n",
       "      <td>25.48</td>\n",
       "      <td>86.16</td>\n",
       "      <td>546.7</td>\n",
       "      <td>0.12710</td>\n",
       "      <td>0.10280</td>\n",
       "      <td>0.10460</td>\n",
       "      <td>0.06968</td>\n",
       "      <td>0.1712</td>\n",
       "      <td>0.07343</td>\n",
       "    </tr>\n",
       "    <tr>\n",
       "      <th>...</th>\n",
       "      <td>...</td>\n",
       "      <td>...</td>\n",
       "      <td>...</td>\n",
       "      <td>...</td>\n",
       "      <td>...</td>\n",
       "      <td>...</td>\n",
       "      <td>...</td>\n",
       "      <td>...</td>\n",
       "      <td>...</td>\n",
       "      <td>...</td>\n",
       "      <td>...</td>\n",
       "      <td>...</td>\n",
       "      <td>...</td>\n",
       "      <td>...</td>\n",
       "      <td>...</td>\n",
       "      <td>...</td>\n",
       "      <td>...</td>\n",
       "      <td>...</td>\n",
       "      <td>...</td>\n",
       "      <td>...</td>\n",
       "      <td>...</td>\n",
       "    </tr>\n",
       "    <tr>\n",
       "      <th>257</th>\n",
       "      <td>15.320</td>\n",
       "      <td>17.27</td>\n",
       "      <td>103.20</td>\n",
       "      <td>713.3</td>\n",
       "      <td>0.13350</td>\n",
       "      <td>0.22840</td>\n",
       "      <td>0.244800</td>\n",
       "      <td>0.12420</td>\n",
       "      <td>0.2398</td>\n",
       "      <td>0.07596</td>\n",
       "      <td>...</td>\n",
       "      <td>17.73</td>\n",
       "      <td>22.66</td>\n",
       "      <td>119.80</td>\n",
       "      <td>928.8</td>\n",
       "      <td>0.17650</td>\n",
       "      <td>0.45030</td>\n",
       "      <td>0.44290</td>\n",
       "      <td>0.22290</td>\n",
       "      <td>0.3258</td>\n",
       "      <td>0.11910</td>\n",
       "    </tr>\n",
       "    <tr>\n",
       "      <th>328</th>\n",
       "      <td>16.270</td>\n",
       "      <td>20.71</td>\n",
       "      <td>106.90</td>\n",
       "      <td>813.7</td>\n",
       "      <td>0.11690</td>\n",
       "      <td>0.13190</td>\n",
       "      <td>0.147800</td>\n",
       "      <td>0.08488</td>\n",
       "      <td>0.1948</td>\n",
       "      <td>0.06277</td>\n",
       "      <td>...</td>\n",
       "      <td>19.28</td>\n",
       "      <td>30.38</td>\n",
       "      <td>129.80</td>\n",
       "      <td>1121.0</td>\n",
       "      <td>0.15900</td>\n",
       "      <td>0.29470</td>\n",
       "      <td>0.35970</td>\n",
       "      <td>0.15830</td>\n",
       "      <td>0.3103</td>\n",
       "      <td>0.08200</td>\n",
       "    </tr>\n",
       "    <tr>\n",
       "      <th>199</th>\n",
       "      <td>14.450</td>\n",
       "      <td>20.22</td>\n",
       "      <td>94.49</td>\n",
       "      <td>642.7</td>\n",
       "      <td>0.09872</td>\n",
       "      <td>0.12060</td>\n",
       "      <td>0.118000</td>\n",
       "      <td>0.05980</td>\n",
       "      <td>0.1950</td>\n",
       "      <td>0.06466</td>\n",
       "      <td>...</td>\n",
       "      <td>18.33</td>\n",
       "      <td>30.12</td>\n",
       "      <td>117.90</td>\n",
       "      <td>1044.0</td>\n",
       "      <td>0.15520</td>\n",
       "      <td>0.40560</td>\n",
       "      <td>0.49670</td>\n",
       "      <td>0.18380</td>\n",
       "      <td>0.4753</td>\n",
       "      <td>0.10130</td>\n",
       "    </tr>\n",
       "    <tr>\n",
       "      <th>194</th>\n",
       "      <td>14.860</td>\n",
       "      <td>23.21</td>\n",
       "      <td>100.40</td>\n",
       "      <td>671.4</td>\n",
       "      <td>0.10440</td>\n",
       "      <td>0.19800</td>\n",
       "      <td>0.169700</td>\n",
       "      <td>0.08878</td>\n",
       "      <td>0.1737</td>\n",
       "      <td>0.06672</td>\n",
       "      <td>...</td>\n",
       "      <td>16.08</td>\n",
       "      <td>27.78</td>\n",
       "      <td>118.60</td>\n",
       "      <td>784.7</td>\n",
       "      <td>0.13160</td>\n",
       "      <td>0.46480</td>\n",
       "      <td>0.45890</td>\n",
       "      <td>0.17270</td>\n",
       "      <td>0.3000</td>\n",
       "      <td>0.08701</td>\n",
       "    </tr>\n",
       "    <tr>\n",
       "      <th>223</th>\n",
       "      <td>15.750</td>\n",
       "      <td>20.25</td>\n",
       "      <td>102.60</td>\n",
       "      <td>761.3</td>\n",
       "      <td>0.10250</td>\n",
       "      <td>0.12040</td>\n",
       "      <td>0.114700</td>\n",
       "      <td>0.06462</td>\n",
       "      <td>0.1935</td>\n",
       "      <td>0.06303</td>\n",
       "      <td>...</td>\n",
       "      <td>19.56</td>\n",
       "      <td>30.29</td>\n",
       "      <td>125.90</td>\n",
       "      <td>1088.0</td>\n",
       "      <td>0.15520</td>\n",
       "      <td>0.44800</td>\n",
       "      <td>0.39760</td>\n",
       "      <td>0.14790</td>\n",
       "      <td>0.3993</td>\n",
       "      <td>0.10640</td>\n",
       "    </tr>\n",
       "  </tbody>\n",
       "</table>\n",
       "<p>400 rows × 30 columns</p>\n",
       "</div>"
      ],
      "text/plain": [
       "     radius1  texture1  perimeter1  area1  smoothness1  compactness1  \\\n",
       "395   14.060     17.18       89.75  609.1      0.08045       0.05361   \n",
       "110    9.777     16.99       62.50  290.2      0.10370       0.08404   \n",
       "481   13.900     19.24       88.73  602.9      0.07991       0.05326   \n",
       "493   12.460     12.83       78.83  477.3      0.07372       0.04043   \n",
       "136   11.710     16.67       74.72  423.6      0.10510       0.06095   \n",
       "..       ...       ...         ...    ...          ...           ...   \n",
       "257   15.320     17.27      103.20  713.3      0.13350       0.22840   \n",
       "328   16.270     20.71      106.90  813.7      0.11690       0.13190   \n",
       "199   14.450     20.22       94.49  642.7      0.09872       0.12060   \n",
       "194   14.860     23.21      100.40  671.4      0.10440       0.19800   \n",
       "223   15.750     20.25      102.60  761.3      0.10250       0.12040   \n",
       "\n",
       "     concavity1  concave_points1  symmetry1  fractal_dimension1  ...  radius3  \\\n",
       "395    0.026810          0.03251     0.1641             0.05764  ...    14.92   \n",
       "110    0.043340          0.01778     0.1584             0.07065  ...    11.05   \n",
       "481    0.029950          0.02070     0.1579             0.05594  ...    16.41   \n",
       "493    0.007173          0.01149     0.1613             0.06013  ...    13.19   \n",
       "136    0.035920          0.02600     0.1339             0.05945  ...    13.33   \n",
       "..          ...              ...        ...                 ...  ...      ...   \n",
       "257    0.244800          0.12420     0.2398             0.07596  ...    17.73   \n",
       "328    0.147800          0.08488     0.1948             0.06277  ...    19.28   \n",
       "199    0.118000          0.05980     0.1950             0.06466  ...    18.33   \n",
       "194    0.169700          0.08878     0.1737             0.06672  ...    16.08   \n",
       "223    0.114700          0.06462     0.1935             0.06303  ...    19.56   \n",
       "\n",
       "     texture3  perimeter3   area3  smoothness3  compactness3  concavity3  \\\n",
       "395     25.34       96.42   684.5      0.10660       0.12310     0.08460   \n",
       "110     21.47       71.68   367.0      0.14670       0.17650     0.13000   \n",
       "481     26.42      104.40   830.5      0.10640       0.14150     0.16730   \n",
       "493     16.36       83.24   534.0      0.09439       0.06477     0.01674   \n",
       "136     25.48       86.16   546.7      0.12710       0.10280     0.10460   \n",
       "..        ...         ...     ...          ...           ...         ...   \n",
       "257     22.66      119.80   928.8      0.17650       0.45030     0.44290   \n",
       "328     30.38      129.80  1121.0      0.15900       0.29470     0.35970   \n",
       "199     30.12      117.90  1044.0      0.15520       0.40560     0.49670   \n",
       "194     27.78      118.60   784.7      0.13160       0.46480     0.45890   \n",
       "223     30.29      125.90  1088.0      0.15520       0.44800     0.39760   \n",
       "\n",
       "     concave_points3  symmetry3  fractal_dimension3  \n",
       "395          0.07911     0.2523             0.06609  \n",
       "110          0.05334     0.2533             0.08468  \n",
       "481          0.08150     0.2356             0.07603  \n",
       "493          0.02680     0.2280             0.07028  \n",
       "136          0.06968     0.1712             0.07343  \n",
       "..               ...        ...                 ...  \n",
       "257          0.22290     0.3258             0.11910  \n",
       "328          0.15830     0.3103             0.08200  \n",
       "199          0.18380     0.4753             0.10130  \n",
       "194          0.17270     0.3000             0.08701  \n",
       "223          0.14790     0.3993             0.10640  \n",
       "\n",
       "[400 rows x 30 columns]"
      ]
     },
     "metadata": {},
     "output_type": "display_data"
    },
    {
     "data": {
      "text/plain": [
       "395    0\n",
       "110    0\n",
       "481    0\n",
       "493    0\n",
       "136    0\n",
       "      ..\n",
       "257    1\n",
       "328    1\n",
       "199    1\n",
       "194    1\n",
       "223    1\n",
       "Name: Diagnosis, Length: 400, dtype: int64"
      ]
     },
     "metadata": {},
     "output_type": "display_data"
    }
   ],
   "source": [
    "from sklearn.model_selection import train_test_split\n",
    "from sklearn.preprocessing import StandardScaler\n",
    "import torch\n",
    "\n",
    "# Separate features and targets\n",
    "X = balanced_data.drop('Diagnosis', axis=1)\n",
    "y = balanced_data['Diagnosis']\n",
    "\n",
    "# Convert the targets to binary labels\n",
    "y = y.map({'B': 0, 'M': 1})\n",
    "\n",
    "display(X)\n",
    "display(y)"
   ]
  },
  {
   "cell_type": "markdown",
   "id": "45cc78c3-dd50-4f3e-99cc-5ca876fa1864",
   "metadata": {},
   "source": [
    "The data will be split into **80%** training and **20%** test sets.\n",
    "\n",
    "We then print the shapes of the training and test sets to verify that the data has been split correctly.\n"
   ]
  },
  {
   "cell_type": "code",
   "execution_count": 10,
   "id": "1ab0226d-4604-4c7d-bb12-3f5ccfd0df78",
   "metadata": {},
   "outputs": [
    {
     "data": {
      "text/plain": [
       "'X_train shape: (320, 30)'"
      ]
     },
     "metadata": {},
     "output_type": "display_data"
    },
    {
     "data": {
      "text/plain": [
       "'y_train shape: (320,)'"
      ]
     },
     "metadata": {},
     "output_type": "display_data"
    },
    {
     "data": {
      "text/plain": [
       "'X_test shape: (80, 30)'"
      ]
     },
     "metadata": {},
     "output_type": "display_data"
    },
    {
     "data": {
      "text/plain": [
       "'y_test shape: (80,)'"
      ]
     },
     "metadata": {},
     "output_type": "display_data"
    }
   ],
   "source": [
    "# Split the data into training and test sets\n",
    "X_train, X_test, y_train, y_test = train_test_split(X, y, test_size=0.2, random_state=42, stratify=y)\n",
    "\n",
    "display(f'X_train shape: {X_train.shape}')\n",
    "display(f'y_train shape: {y_train.shape}')\n",
    "display(f'X_test shape: {X_test.shape}')\n",
    "display(f'y_test shape: {y_test.shape}')"
   ]
  },
  {
   "cell_type": "markdown",
   "id": "e74e8a52-ff60-4baf-b84b-4d70a0bef3e7",
   "metadata": {},
   "source": [
    "Then we standardize the feature values using the `StandardScaler` from scikit-learn.\n",
    "\n",
    "Standardizing the data involves transforming the features so that they have a mean of 0 and a standard deviation of 1. This helps in ensuring that all features contribute equally to the result and helps the model converge faster during training.\n",
    "\n",
    "1. **Fitting the Scaler**: We calculate the mean and standard deviation for each feature in the training set using the `fit` method of the `StandardScaler`.\n",
    "2. **Transforming the Training Data**: We apply the standardization to the training data using the `transform` method, which scales the features accordingly.\n",
    "3. **Transforming the Test Data**: We apply the same transformation to the test data using the same scaler. This ensures that both training and test sets are standardized in the same way.\n",
    "\n",
    "By standardizing the data, we make sure that each feature contributes equally to the training process, which helps in achieving better performance and faster convergence of the neural network model.\n",
    "\n",
    "Finally, we convert the NumPy arrays to PyTorch tensors.\n"
   ]
  },
  {
   "cell_type": "code",
   "execution_count": 11,
   "id": "a32404b4-bfc7-44cc-a2c6-e80b264f8725",
   "metadata": {},
   "outputs": [],
   "source": [
    "from torch.utils.data import DataLoader, TensorDataset\n",
    "\n",
    "# Standardize the data\n",
    "# Initialize the StandardScaler\n",
    "scaler = StandardScaler()\n",
    "# Fit the scaler on the training data and transform it\n",
    "X_train = scaler.fit_transform(X_train)\n",
    "# Transform the test data using the same scaler\n",
    "X_test = scaler.transform(X_test)\n",
    "\n",
    "# Convert to PyTorch tensors\n",
    "X_train = torch.tensor(X_train, dtype=torch.float32)\n",
    "X_test = torch.tensor(X_test, dtype=torch.float32)\n",
    "y_train = torch.tensor(y_train.values, dtype=torch.long)\n",
    "y_test = torch.tensor(y_test.values, dtype=torch.long)\n",
    "\n",
    "# Create DataLoader for training and test sets\n",
    "train_dataset = TensorDataset(X_train, y_train)\n",
    "test_dataset = TensorDataset(X_test, y_test)\n",
    "\n",
    "train_loader = DataLoader(train_dataset, batch_size=2, shuffle=True)\n",
    "test_loader = DataLoader(test_dataset, batch_size=2, shuffle=False)"
   ]
  },
  {
   "cell_type": "markdown",
   "id": "6c5183b4-04d0-4350-a0f9-3129f22dbd46",
   "metadata": {},
   "source": [
    "## <a id='toc1_6_'></a>[Build and Train the Neural Network Model](#toc0_)\n",
    "\n",
    "We will define our neural network architecture, specify the loss function and optimizer, and then train the model.\n",
    "\n",
    "First, we define the neural network architecture using the `nn.Module` class in PyTorch. Our model consists of an input layer, one hidden layer, and an output layer with 2 neurons corresponding to the 2 classes.\n",
    "\n",
    "Below is an example of the neural network model, it has 8 neurons in the input layer, 8 neurons in the hidden layer, and 2 neurons in the output layer.\n",
    "\n",
    "<img src=\"https://cf-courses-data.s3.us.cloud-object-storage.appdomain.cloud/j-MFHvfzhrY04qVMsClOGA/8-8-2.jpg\" alt=\"image\" width=\"50%\">\n"
   ]
  },
  {
   "cell_type": "code",
   "execution_count": 12,
   "id": "01a32b40-9194-453c-acbd-884ae4cc1861",
   "metadata": {},
   "outputs": [],
   "source": [
    "import torch.nn as nn\n",
    "\n",
    "class ClassificationNet(nn.Module):\n",
    "    def __init__(self, input_units=30, hidden_units=64, output_units=2):\n",
    "        super(ClassificationNet, self).__init__()\n",
    "        self.fc1 = nn.Linear(input_units, hidden_units)\n",
    "        self.fc2 = nn.Linear(hidden_units, output_units)\n",
    "\n",
    "    def forward(self, x):\n",
    "        x = torch.relu(self.fc1(x))\n",
    "        x = self.fc2(x)\n",
    "        return x\n",
    "\n",
    "# Instantiate the model\n",
    "model = ClassificationNet(input_units=30, hidden_units=64, output_units=2)"
   ]
  },
  {
   "cell_type": "markdown",
   "id": "2908aff1-1c13-43c6-a1c5-7c0875f5acfc",
   "metadata": {},
   "source": [
    "Let us visualize the neural network architecture.\n"
   ]
  },
  {
   "cell_type": "code",
   "execution_count": 13,
   "id": "5a91a3b0-413e-45ac-b117-fd346ce45dbf",
   "metadata": {},
   "outputs": [
    {
     "name": "stdout",
     "output_type": "stream",
     "text": [
      "ClassificationNet(\n",
      "  (fc1): Linear(in_features=30, out_features=64, bias=True)\n",
      "  (fc2): Linear(in_features=64, out_features=2, bias=True)\n",
      ")\n"
     ]
    }
   ],
   "source": [
    "print(model)"
   ]
  },
  {
   "cell_type": "markdown",
   "id": "908c2069-ea5d-4b51-ab99-8d3f741a07b1",
   "metadata": {},
   "source": [
    "Then we define the loss function and optimizer. We use the `CrossEntropyLoss` loss function, which is commonly used for multi-class classification problems. The `Adam` optimizer is used to update the weights of the neural network during training.\n"
   ]
  },
  {
   "cell_type": "code",
   "execution_count": 14,
   "id": "f76a39ef-f257-4c3e-b567-bac7f8ee09a9",
   "metadata": {},
   "outputs": [],
   "source": [
    "import torch.optim as optim\n",
    "\n",
    "# Define the loss function and optimizer\n",
    "criterion = nn.CrossEntropyLoss()\n",
    "optimizer = optim.Adam(model.parameters(), lr=0.001)\n"
   ]
  },
  {
   "cell_type": "markdown",
   "id": "94e7862b-8b83-4e3d-b11a-b4f4094a4ec0",
   "metadata": {},
   "source": [
    "Then we can train the model using the training data. We iterate over the training data for a specified number of epochs and update the weights of the neural network using backpropagation.\n",
    "\n",
    "During training, we calculate the loss at each epoch and print it to monitor the training progress. The loss should **decrease** over time as the model learns to classify the classes correctly.\n",
    "\n",
    "Finally, we evaluate the model on the test data to see how well it performs on unseen data.\n"
   ]
  },
  {
   "cell_type": "code",
   "execution_count": 15,
   "id": "df827c58-fd2b-4bd8-9be5-32e3308acca9",
   "metadata": {},
   "outputs": [
    {
     "name": "stdout",
     "output_type": "stream",
     "text": [
      "Epoch [1/10], Train Loss: 0.2959, Test Loss: 0.2017\n",
      "Epoch [2/10], Train Loss: 0.1208, Test Loss: 0.1408\n",
      "Epoch [3/10], Train Loss: 0.0910, Test Loss: 0.1214\n",
      "Epoch [4/10], Train Loss: 0.0787, Test Loss: 0.1113\n",
      "Epoch [5/10], Train Loss: 0.0722, Test Loss: 0.1097\n",
      "Epoch [6/10], Train Loss: 0.0649, Test Loss: 0.1022\n",
      "Epoch [7/10], Train Loss: 0.0593, Test Loss: 0.1011\n",
      "Epoch [8/10], Train Loss: 0.0544, Test Loss: 0.1013\n",
      "Epoch [9/10], Train Loss: 0.0511, Test Loss: 0.1018\n",
      "Epoch [10/10], Train Loss: 0.0460, Test Loss: 0.1012\n"
     ]
    }
   ],
   "source": [
    "epochs = 10\n",
    "train_losses = []\n",
    "test_losses = []\n",
    "\n",
    "for epoch in range(epochs):\n",
    "    # Training phase\n",
    "    model.train()\n",
    "    running_loss = 0.0\n",
    "    for X_batch, y_batch in train_loader:\n",
    "        optimizer.zero_grad()\n",
    "        outputs = model(X_batch)\n",
    "        loss = criterion(outputs, y_batch)\n",
    "        loss.backward()\n",
    "        optimizer.step()\n",
    "        running_loss += loss.item()\n",
    "\n",
    "    train_loss = running_loss / len(train_loader)\n",
    "    train_losses.append(train_loss)\n",
    "    \n",
    "    # Evaluation phase on test set\n",
    "    model.eval()\n",
    "    test_loss = 0.0\n",
    "    with torch.no_grad():\n",
    "        for X_batch, y_batch in test_loader:\n",
    "            test_outputs = model(X_batch)\n",
    "            loss = criterion(test_outputs, y_batch)\n",
    "            test_loss += loss.item()\n",
    "\n",
    "    test_loss /= len(test_loader)\n",
    "    test_losses.append(test_loss)\n",
    "    \n",
    "    print(f'Epoch [{epoch + 1}/{epochs}], Train Loss: {train_loss:.4f}, Test Loss: {test_loss:.4f}')"
   ]
  },
  {
   "cell_type": "markdown",
   "id": "ef5901e2-8d97-4ed8-abaf-5d211d276395",
   "metadata": {},
   "source": [
    "## <a id='toc1_7_'></a>[Visualize the Training and Test Loss](#toc0_)\n",
    "\n",
    "Plotting the loss curves helps us understand the training dynamics of our model.\n"
   ]
  },
  {
   "cell_type": "code",
   "execution_count": 16,
   "id": "a1b14991-352d-44db-9c43-77973b42d77f",
   "metadata": {},
   "outputs": [
    {
     "data": {
      "image/png": "[encoded data removed]",
      "text/plain": [
       "<Figure size 1000x600 with 1 Axes>"
      ]
     },
     "metadata": {},
     "output_type": "display_data"
    }
   ],
   "source": [
    "import matplotlib.pyplot as plt\n",
    "\n",
    "# Plot the loss curves\n",
    "plt.figure(figsize=(10, 6))\n",
    "plt.plot(range(1, epochs + 1), train_losses, label='Training Loss')\n",
    "plt.plot(range(1, epochs + 1), test_losses, label='Test Loss', linestyle='--')\n",
    "plt.xlabel('Epoch')\n",
    "plt.ylabel('Loss')\n",
    "plt.title('Training and Test Loss Curve')\n",
    "plt.legend()\n",
    "plt.grid(True)\n",
    "plt.show()"
   ]
  },
  {
   "cell_type": "markdown",
   "id": "a1f3dadc-d308-4d08-8f04-067053808281",
   "metadata": {},
   "source": [
    "## <a id='toc1_8_'></a>[Exercises](#toc0_)\n"
   ]
  },
  {
   "cell_type": "markdown",
   "id": "bee5b699-4b22-406a-ac1c-6e6e1064cb33",
   "metadata": {},
   "source": [
    "### <a id='toc1_8_1_'></a>[Exercise 1 - Change to different optimizer: SGD](#toc0_)\n",
    "\n",
    "Stochastic Gradient Descent (SGD) is a widely used optimization algorithm in machine learning and deep learning for training models. It is an iterative method for optimizing a loss function by making small updates to the model parameters in the direction of the negative gradient.\n",
    "\n",
    "**How SGD Works**\n",
    "\n",
    "SGD updates the model's parameters iteratively. The update rule for each parameter $\\theta$ is as follows:\n",
    "\n",
    "$$ \\theta = \\theta - \\eta \\cdot \\nabla_\\theta J(\\theta) $$\n",
    "\n",
    "where:\n",
    "- $\\theta$ represents the model parameters.\n",
    "- $\\eta$ (eta) is the learning rate, which controls the step size of each update.\n",
    "- $\\nabla_\\theta J(\\theta)$ is the gradient of the loss function with respect to the parameter $\\theta$.\n",
    "\n",
    "**PyTorch's `torch.optim.SGD`**\n",
    "\n",
    "In PyTorch, the `torch.optim.SGD` optimizer provides several parameters to configure its behavior.\n",
    "\n",
    "**Parameters**\n",
    "\n",
    "1. **`params`**: \n",
    "   - The model parameters to optimize.\n",
    "   - Typically provided as `model.parameters()`.\n",
    "\n",
    "2. **`lr` (learning rate)**: \n",
    "   - A positive float value that controls the step size for each parameter update.\n",
    "   - Example: `lr=0.01`.\n",
    "\n",
    "3. **`momentum`** (optional): \n",
    "   - A float value that accelerates SGD in the relevant direction and dampens oscillations.\n",
    "   - Example: `momentum=0.9`.\n",
    "\n",
    "4. **`weight_decay`** (optional): \n",
    "   - A float value representing the L2 penalty (regularization term) to prevent overfitting.\n",
    "   - Example: `weight_decay=0.0001`.\n",
    "\n",
    "5. **`dampening`** (optional): \n",
    "   - A float value that reduces the effect of the momentum.\n",
    "   - Default is `0`.\n",
    "\n",
    "**Example Usage**\n",
    "\n",
    "Here’s how you can use `torch.optim.SGD` with some of these parameters:\n",
    "\n",
    "```python\n",
    "import torch.optim as optim\n",
    "\n",
    "# Define the SGD optimizer\n",
    "optimizer = optim.SGD(model.parameters(), lr=0.001, momentum=0.9, weight_decay=0.0001)\n",
    "```\n"
   ]
  },
  {
   "cell_type": "code",
   "execution_count": 18,
   "id": "42115c68-364b-4bee-88f2-71e57dc9809c",
   "metadata": {},
   "outputs": [
    {
     "name": "stdout",
     "output_type": "stream",
     "text": [
      "Epoch [1/10], Train Loss: 0.3425, Test Loss: 0.2611\n",
      "Epoch [2/10], Train Loss: 0.1725, Test Loss: 0.1987\n",
      "Epoch [3/10], Train Loss: 0.1297, Test Loss: 0.1642\n",
      "Epoch [4/10], Train Loss: 0.1092, Test Loss: 0.1498\n",
      "Epoch [5/10], Train Loss: 0.0975, Test Loss: 0.1377\n",
      "Epoch [6/10], Train Loss: 0.0897, Test Loss: 0.1301\n",
      "Epoch [7/10], Train Loss: 0.0841, Test Loss: 0.1244\n",
      "Epoch [8/10], Train Loss: 0.0797, Test Loss: 0.1200\n",
      "Epoch [9/10], Train Loss: 0.0759, Test Loss: 0.1165\n",
      "Epoch [10/10], Train Loss: 0.0729, Test Loss: 0.1139\n"
     ]
    },
    {
     "data": {
      "image/png": "[encoded data removed]",
      "text/plain": [
       "<Figure size 1000x600 with 1 Axes>"
      ]
     },
     "metadata": {},
     "output_type": "display_data"
    }
   ],
   "source": [
    "import torch.optim as optim\n",
    "\n",
    "model_new_optimizer = ClassificationNet(input_units=30, hidden_units=64, output_units=2)\n",
    "optimizer = optim.SGD(params=model_new_optimizer.parameters(), lr=0.01, momentum=0.1, weight_decay=0.0001, dampening=0)\n",
    "\n",
    "# Define the loss function and optimizer\n",
    "criterion = nn.CrossEntropyLoss()\n",
    "# optimizer = optim.Adam(model_new_optimizer.parameters(), lr=0.001) # Here, change the optimizer to SGD\n",
    "\n",
    "epochs = 10\n",
    "train_losses = []\n",
    "test_losses = []\n",
    "\n",
    "for epoch in range(epochs):\n",
    "    # Training phase\n",
    "    model_new_optimizer.train()\n",
    "    running_loss = 0.0\n",
    "    for X_batch, y_batch in train_loader:\n",
    "        optimizer.zero_grad()\n",
    "        outputs = model_new_optimizer(X_batch)\n",
    "        loss = criterion(outputs, y_batch)\n",
    "        loss.backward()\n",
    "        optimizer.step()\n",
    "        running_loss += loss.item()\n",
    "\n",
    "    train_loss = running_loss / len(train_loader)\n",
    "    train_losses.append(train_loss)\n",
    "    \n",
    "    # Evaluation phase on test set\n",
    "    model_new_optimizer.eval()\n",
    "    test_loss = 0.0\n",
    "    with torch.no_grad():\n",
    "        for X_batch, y_batch in test_loader:\n",
    "            test_outputs = model_new_optimizer(X_batch)\n",
    "            loss = criterion(test_outputs, y_batch)\n",
    "            test_loss += loss.item()\n",
    "\n",
    "    test_loss /= len(test_loader)\n",
    "    test_losses.append(test_loss)\n",
    "    \n",
    "    print(f'Epoch [{epoch + 1}/{epochs}], Train Loss: {train_loss:.4f}, Test Loss: {test_loss:.4f}')\n",
    "\n",
    "import matplotlib.pyplot as plt\n",
    "\n",
    "# Plot the loss curves\n",
    "plt.figure(figsize=(10, 6))\n",
    "plt.plot(range(1, epochs + 1), train_losses, label='Training Loss')\n",
    "plt.plot(range(1, epochs + 1), test_losses, label='Test Loss', linestyle='--')\n",
    "plt.xlabel('Epoch')\n",
    "plt.ylabel('Loss')\n",
    "plt.title('Training and Test Loss Curve')\n",
    "plt.legend()\n",
    "plt.grid(True)\n",
    "plt.show()"
   ]
  },
  {
   "cell_type": "markdown",
   "id": "6a2c3b4d-b012-4f46-b424-db943d2fc043",
   "metadata": {},
   "source": [
    "<details>\n",
    "    <summary>Click here for Solution</summary>\n",
    "\n",
    "```python\n",
    "optimizer = optim.SGD(model_new_optimizer.parameters(), lr=0.001, momentum=0.9, weight_decay=0.0001) # Here, change the optimizer to SGD\n",
    "```\n",
    "\n",
    "</details>\n"
   ]
  },
  {
   "cell_type": "markdown",
   "id": "a2acaf7c-01e1-47c2-8a4c-06ea14c429d5",
   "metadata": {},
   "source": [
    "### <a id='toc1_8_2_'></a>[Exercise 2 - Change the number of neurons](#toc0_)\n",
    "\n",
    "Define a new neural network architecture with different neurons and see how it affects the model's performance.\n"
   ]
  },
  {
   "cell_type": "code",
   "execution_count": 19,
   "id": "bcfe78cc-807d-4834-97d6-2702c2c2fd2d",
   "metadata": {},
   "outputs": [
    {
     "name": "stdout",
     "output_type": "stream",
     "text": [
      "Epoch [1/10], Train Loss: 0.4183, Test Loss: 0.2942\n",
      "Epoch [2/10], Train Loss: 0.1861, Test Loss: 0.1986\n",
      "Epoch [3/10], Train Loss: 0.1293, Test Loss: 0.1464\n",
      "Epoch [4/10], Train Loss: 0.1063, Test Loss: 0.1322\n",
      "Epoch [5/10], Train Loss: 0.0923, Test Loss: 0.1217\n",
      "Epoch [6/10], Train Loss: 0.0857, Test Loss: 0.1143\n",
      "Epoch [7/10], Train Loss: 0.0801, Test Loss: 0.1109\n",
      "Epoch [8/10], Train Loss: 0.0757, Test Loss: 0.1088\n",
      "Epoch [9/10], Train Loss: 0.0715, Test Loss: 0.1066\n",
      "Epoch [10/10], Train Loss: 0.0686, Test Loss: 0.1042\n"
     ]
    },
    {
     "data": {
      "image/png": "[encoded data removed]",
      "text/plain": [
       "<Figure size 1000x600 with 1 Axes>"
      ]
     },
     "metadata": {},
     "output_type": "display_data"
    }
   ],
   "source": [
    "# Change the number of hidden units, e.g. 16.\n",
    "model_new = ClassificationNet(input_units=30, hidden_units=16, output_units=2)\n",
    "\n",
    "# Define the loss function and optimizer\n",
    "criterion = nn.CrossEntropyLoss()\n",
    "optimizer = optim.Adam(model_new.parameters(), lr=0.001)\n",
    "\n",
    "epochs = 10\n",
    "train_losses = []\n",
    "test_losses = []\n",
    "\n",
    "for epoch in range(epochs):\n",
    "    # Training phase\n",
    "    model_new.train()\n",
    "    running_loss = 0.0\n",
    "    for X_batch, y_batch in train_loader:\n",
    "        optimizer.zero_grad()\n",
    "        outputs = model_new(X_batch)\n",
    "        loss = criterion(outputs, y_batch)\n",
    "        loss.backward()\n",
    "        optimizer.step()\n",
    "        running_loss += loss.item()\n",
    "\n",
    "    train_loss = running_loss / len(train_loader)\n",
    "    train_losses.append(train_loss)\n",
    "    \n",
    "    # Evaluation phase on test set\n",
    "    model_new.eval()\n",
    "    test_loss = 0.0\n",
    "    with torch.no_grad():\n",
    "        for X_batch, y_batch in test_loader:\n",
    "            test_outputs = model_new(X_batch)\n",
    "            loss = criterion(test_outputs, y_batch)\n",
    "            test_loss += loss.item()\n",
    "\n",
    "    test_loss /= len(test_loader)\n",
    "    test_losses.append(test_loss)\n",
    "    \n",
    "    print(f'Epoch [{epoch + 1}/{epochs}], Train Loss: {train_loss:.4f}, Test Loss: {test_loss:.4f}')\n",
    "\n",
    "import matplotlib.pyplot as plt\n",
    "\n",
    "# Plot the loss curves\n",
    "plt.figure(figsize=(10, 6))\n",
    "plt.plot(range(1, epochs + 1), train_losses, label='Training Loss')\n",
    "plt.plot(range(1, epochs + 1), test_losses, label='Test Loss', linestyle='--')\n",
    "plt.xlabel('Epoch')\n",
    "plt.ylabel('Loss')\n",
    "plt.title('Training and Test Loss Curve')\n",
    "plt.legend()\n",
    "plt.grid(True)\n",
    "plt.show()"
   ]
  },
  {
   "cell_type": "markdown",
   "id": "6e853108-1ffc-4acb-98a6-7b67c8369b65",
   "metadata": {},
   "source": [
    "<details>\n",
    "    <summary>Click here for Solution</summary>\n",
    "\n",
    "```python\n",
    "model_new = ClassificationNet(input_units=30, hidden_units=16, output_units=2)\n",
    "```\n",
    "\n",
    "</details>\n"
   ]
  },
  {
   "cell_type": "markdown",
   "id": "dab4724f-ddce-4a4d-ad7a-c8ff81effdec",
   "metadata": {},
   "source": [
    "### <a id='toc1_8_3_'></a>[Exercise 3 - Try different dataset - Iris Dataset](#toc0_)\n",
    "\n",
    "Try using the [Iris dataset](https://archive.ics.uci.edu/dataset/53/iris) for classification. The Iris dataset is a classic dataset used for classification tasks. It contains 150 samples of iris flowers, each with 4 features. The dataset is divided into three classes, with each class representing a different species of iris flower. The goal is to classify the iris flowers into one of the three classes.\n",
    "\n",
    "This dataset is free to use and is licensed under a Creative Commons Attribution 4.0 International (CC BY 4.0) license.\n",
    "\n",
    "You can load the Iris dataset using the following code:\n",
    "\n",
    "```python\n",
    "from sklearn.datasets import load_iris\n",
    "\n",
    "# Load the Iris dataset\n",
    "iris = load_iris()\n",
    "\n",
    "# Extract the features and target variable\n",
    "X_iris = iris.data\n",
    "y_iris = iris.target\n",
    "```\n",
    "\n",
    "You can then preprocess the data, build and train the neural network model, and evaluate its performance on the test set.\n"
   ]
  },
  {
   "cell_type": "code",
   "execution_count": 22,
   "id": "c12a20f1-7ee0-458d-8e5d-33f3a42df7ad",
   "metadata": {},
   "outputs": [
    {
     "name": "stdout",
     "output_type": "stream",
     "text": [
      "[[5.1 3.5 1.4 0.2]\n",
      " [4.9 3.  1.4 0.2]\n",
      " [4.7 3.2 1.3 0.2]\n",
      " [4.6 3.1 1.5 0.2]\n",
      " [5.  3.6 1.4 0.2]\n",
      " [5.4 3.9 1.7 0.4]\n",
      " [4.6 3.4 1.4 0.3]\n",
      " [5.  3.4 1.5 0.2]\n",
      " [4.4 2.9 1.4 0.2]\n",
      " [4.9 3.1 1.5 0.1]]\n",
      "[0 0 0 0 0 0 0 0 0 0]\n"
     ]
    }
   ],
   "source": [
    "from sklearn.datasets import load_iris \n",
    "iris = load_iris()\n",
    "X_iris = iris.data \n",
    "y_iris = iris.target \n",
    "\n",
    "print(X_iris[:10])\n",
    "print(y_iris[:10])\n"
   ]
  },
  {
   "cell_type": "code",
   "execution_count": 24,
   "metadata": {},
   "outputs": [
    {
     "name": "stdout",
     "output_type": "stream",
     "text": [
      "(150, 4)\n",
      "(150,)\n"
     ]
    }
   ],
   "source": [
    "\n",
    "print(X_iris.shape)\n",
    "print(y_iris.shape)"
   ]
  },
  {
   "cell_type": "code",
   "execution_count": null,
   "metadata": {},
   "outputs": [
    {
     "name": "stdout",
     "output_type": "stream",
     "text": [
      "[0 1 2]\n",
      "[50 50 50]\n"
     ]
    }
   ],
   "source": [
    "import numpy as np\n",
    "classes, counts = np.unique(y_iris, return_counts=True)\n",
    "print(classes)\n",
    "print(counts) # already balance (50/50/50)"
   ]
  },
  {
   "cell_type": "code",
   "execution_count": 29,
   "metadata": {},
   "outputs": [
    {
     "name": "stdout",
     "output_type": "stream",
     "text": [
      "ClassificationNet(\n",
      "  (fc1): Linear(in_features=4, out_features=16, bias=True)\n",
      "  (fc2): Linear(in_features=16, out_features=3, bias=True)\n",
      ")\n"
     ]
    }
   ],
   "source": [
    "model = ClassificationNet(input_units=4, hidden_units=16, output_units=3)\n",
    "print(model)"
   ]
  },
  {
   "cell_type": "code",
   "execution_count": null,
   "metadata": {},
   "outputs": [],
   "source": [
    "criterion = nn.CrossEntropyLoss()\n",
    "optimizer = optim.Adam(model.parameters(), lr=0.001)\n"
   ]
  },
  {
   "cell_type": "code",
   "execution_count": 41,
   "metadata": {},
   "outputs": [
    {
     "data": {
      "text/plain": [
       "(150, 4)"
      ]
     },
     "execution_count": 41,
     "metadata": {},
     "output_type": "execute_result"
    }
   ],
   "source": [
    "X_iris.shape"
   ]
  },
  {
   "cell_type": "code",
   "execution_count": 42,
   "metadata": {},
   "outputs": [
    {
     "data": {
      "text/plain": [
       "(150,)"
      ]
     },
     "execution_count": 42,
     "metadata": {},
     "output_type": "execute_result"
    }
   ],
   "source": [
    "y_iris.shape"
   ]
  },
  {
   "cell_type": "code",
   "execution_count": 43,
   "metadata": {},
   "outputs": [
    {
     "name": "stdout",
     "output_type": "stream",
     "text": [
      "Train x and y shapes:  (120, 4) (120,)\n",
      "Test x and y shapes:  (30, 4) (30,)\n"
     ]
    }
   ],
   "source": [
    "X_train, X_test, y_train, y_test = train_test_split(X_iris, y_iris, test_size=0.2, random_state=42, stratify=y_iris)\n",
    "\n",
    "print(\"Train x and y shapes: \", X_train.shape, y_train.shape)\n",
    "print(\"Test x and y shapes: \", X_test.shape, y_test.shape)"
   ]
  },
  {
   "cell_type": "code",
   "execution_count": 44,
   "metadata": {},
   "outputs": [],
   "source": [
    "scaler = StandardScaler()\n",
    "X_train = scaler.fit_transform(X_train)\n",
    "X_test = scaler.fit_transform(X_test)\n",
    "\n",
    "# Convert to PyTorch tensors\n",
    "X_train = torch.tensor(X_train, dtype=torch.float32)\n",
    "X_test = torch.tensor(X_test, dtype=torch.float32)\n",
    "y_train = torch.tensor(y_train, dtype=torch.long)\n",
    "y_test = torch.tensor(y_test, dtype=torch.long)\n",
    "\n",
    "train_ds = TensorDataset(X_train, y_train)\n",
    "test_ds = TensorDataset(X_test, y_test)\n",
    "\n",
    "train_loader = DataLoader(train_ds, batch_size = 4, shuffle=True)\n",
    "test_loader = DataLoader(test_ds, batch_size=4, shuffle=False)"
   ]
  },
  {
   "cell_type": "code",
   "execution_count": 45,
   "metadata": {},
   "outputs": [
    {
     "name": "stdout",
     "output_type": "stream",
     "text": [
      "Epoch [1/10], Train Loss: 0.4831, Test Loss: 0.4467\n",
      "Epoch [2/10], Train Loss: 0.4170, Test Loss: 0.4030\n",
      "Epoch [3/10], Train Loss: 0.3784, Test Loss: 0.3762\n",
      "Epoch [4/10], Train Loss: 0.3518, Test Loss: 0.3587\n",
      "Epoch [5/10], Train Loss: 0.3334, Test Loss: 0.3441\n",
      "Epoch [6/10], Train Loss: 0.3183, Test Loss: 0.3321\n",
      "Epoch [7/10], Train Loss: 0.3031, Test Loss: 0.3192\n",
      "Epoch [8/10], Train Loss: 0.2894, Test Loss: 0.3105\n",
      "Epoch [9/10], Train Loss: 0.2775, Test Loss: 0.2997\n",
      "Epoch [10/10], Train Loss: 0.2661, Test Loss: 0.2901\n"
     ]
    }
   ],
   "source": [
    "epochs = 10\n",
    "train_losses = []\n",
    "test_losses = []\n",
    "\n",
    "for epoch in range(epochs):\n",
    "    # Training phase\n",
    "    model.train()\n",
    "    running_loss = 0.0\n",
    "    for X_batch, y_batch in train_loader:\n",
    "        optimizer.zero_grad()\n",
    "        outputs = model(X_batch)\n",
    "        loss = criterion(outputs, y_batch)\n",
    "        loss.backward()\n",
    "        optimizer.step()\n",
    "        running_loss += loss.item()\n",
    "\n",
    "    train_loss = running_loss / len(train_loader)\n",
    "    train_losses.append(train_loss)\n",
    "    \n",
    "    # Evaluation phase on test set\n",
    "    model.eval()\n",
    "    test_loss = 0.0\n",
    "    with torch.no_grad():\n",
    "        for X_batch, y_batch in test_loader:\n",
    "            test_outputs = model(X_batch)\n",
    "            loss = criterion(test_outputs, y_batch)\n",
    "            test_loss += loss.item()\n",
    "\n",
    "    test_loss /= len(test_loader)\n",
    "    test_losses.append(test_loss)\n",
    "    \n",
    "    print(f'Epoch [{epoch + 1}/{epochs}], Train Loss: {train_loss:.4f}, Test Loss: {test_loss:.4f}')"
   ]
  },
  {
   "cell_type": "markdown",
   "id": "c0edad10-3aa3-42e7-a05e-932619cc5e1c",
   "metadata": {},
   "source": [
    "<details>\n",
    "    <summary>Click here for Solution</summary>\n",
    "\n",
    "```python\n",
    "import torch\n",
    "import torch.nn as nn\n",
    "import torch.optim as optim\n",
    "from torch.utils.data import DataLoader, TensorDataset\n",
    "from sklearn.datasets import load_iris\n",
    "from sklearn.model_selection import train_test_split\n",
    "from sklearn.preprocessing import StandardScaler\n",
    "import matplotlib.pyplot as plt\n",
    "\n",
    "# Load the Iris dataset\n",
    "iris = load_iris()\n",
    "\n",
    "# Extract the features and target variable\n",
    "X_iris = iris.data\n",
    "y_iris = iris.target\n",
    "\n",
    "# Split the data into training and test sets\n",
    "X_train, X_test, y_train, y_test = train_test_split(X_iris, y_iris, test_size=0.2, random_state=42, stratify=y_iris)\n",
    "\n",
    "# Standardize the data\n",
    "scaler = StandardScaler()\n",
    "X_train = scaler.fit_transform(X_train)\n",
    "X_test = scaler.transform(X_test)\n",
    "\n",
    "# Convert to PyTorch tensors\n",
    "X_train = torch.tensor(X_train, dtype=torch.float32)\n",
    "X_test = torch.tensor(X_test, dtype=torch.float32)\n",
    "y_train = torch.tensor(y_train, dtype=torch.long)\n",
    "y_test = torch.tensor(y_test, dtype=torch.long)\n",
    "\n",
    "# Create DataLoader for training and test sets\n",
    "train_dataset = TensorDataset(X_train, y_train)\n",
    "test_dataset = TensorDataset(X_test, y_test)\n",
    "\n",
    "train_loader = DataLoader(train_dataset, batch_size=32, shuffle=True)\n",
    "test_loader = DataLoader(test_dataset, batch_size=32, shuffle=False)\n",
    "\n",
    "class IrisNet(nn.Module):\n",
    "    def __init__(self, hidden_units=8):\n",
    "        super(IrisNet, self).__init__()\n",
    "        self.fc1 = nn.Linear(4, hidden_units)  # 4 input features for Iris dataset\n",
    "        self.fc2 = nn.Linear(hidden_units, 3)  # 3 output classes for Iris dataset\n",
    "\n",
    "    def forward(self, x):\n",
    "        x = torch.relu(self.fc1(x))\n",
    "        x = self.fc2(x)\n",
    "        return x\n",
    "\n",
    "model = IrisNet(hidden_units=8)\n",
    "\n",
    "# Define the loss function and optimizer\n",
    "criterion = nn.CrossEntropyLoss()\n",
    "optimizer = optim.Adam(model.parameters(), lr=0.01)\n",
    "\n",
    "epochs = 10\n",
    "train_losses = []\n",
    "test_losses = []\n",
    "\n",
    "for epoch in range(epochs):\n",
    "    # Training phase\n",
    "    model.train()\n",
    "    running_loss = 0.0\n",
    "    for X_batch, y_batch in train_loader:\n",
    "        optimizer.zero_grad()\n",
    "        outputs = model(X_batch)\n",
    "        loss = criterion(outputs, y_batch)\n",
    "        loss.backward()\n",
    "        optimizer.step()\n",
    "        running_loss += loss.item()\n",
    "    \n",
    "    avg_train_loss = running_loss / len(train_loader)\n",
    "    train_losses.append(avg_train_loss)\n",
    "    \n",
    "    # Evaluation phase on test set\n",
    "    model.eval()\n",
    "    test_loss = 0.0\n",
    "    with torch.no_grad():\n",
    "        for X_batch, y_batch in test_loader:\n",
    "            test_outputs = model(X_batch)\n",
    "            loss = criterion(test_outputs, y_batch)\n",
    "            test_loss += loss.item()\n",
    "    \n",
    "    avg_test_loss = test_loss / len(test_loader)\n",
    "    test_losses.append(avg_test_loss)\n",
    "\n",
    "    print(f'Epoch [{epoch + 1}/{epochs}], Train Loss: {avg_train_loss:.4f}, Test Loss: {avg_test_loss:.4f}')\n",
    "\n",
    "# Plot the loss curves\n",
    "plt.figure(figsize=(10, 6))\n",
    "plt.plot(range(1, epochs + 1), train_losses, label='Training Loss')\n",
    "plt.plot(range(1, epochs + 1), test_losses, label='Test Loss', linestyle='--')\n",
    "plt.xlabel('Epoch')\n",
    "plt.ylabel('Loss')\n",
    "plt.title('Training and Test Loss Curve')\n",
    "plt.legend()\n",
    "plt.grid(True)\n",
    "plt.show()\n",
    "```\n",
    "\n",
    "</details>\n"
   ]
  },
  {
   "cell_type": "markdown",
   "id": "a594b6ce-7a93-477f-8506-602bd7d88f41",
   "metadata": {},
   "source": [
    "## <a id='toc1_9_'></a>[Authors](#toc0_)\n"
   ]
  },
  {
   "cell_type": "markdown",
   "id": "66f98f46-fe7d-4735-8273-1d62b65991c3",
   "metadata": {},
   "source": [
    "[Ricky Shi](https://www.linkedin.com/in/ricky-shi-ca/)\n"
   ]
  },
  {
   "cell_type": "markdown",
   "id": "efd361d7-b9f8-4f19-bf0a-c3ae14679f85",
   "metadata": {},
   "source": [
    "## <a id='toc1_10_'></a>[Contributors](#toc0_)\n"
   ]
  },
  {
   "cell_type": "markdown",
   "id": "77252b82-3b12-43cf-8741-edc0d9f0d20a",
   "metadata": {},
   "source": [
    "[Wojciech \"Victor\" Fulmyk](https://www.linkedin.com/in/wfulmyk)\n"
   ]
  },
  {
   "cell_type": "markdown",
   "id": "bc1aaffb-c160-4ef3-b35c-b4c3725ed195",
   "metadata": {},
   "source": [
    "© Copyright IBM Corporation. All rights reserved.\n"
   ]
  }
 ],
 "metadata": {
  "kernelspec": {
   "display_name": "pytorch",
   "language": "python",
   "name": "python3"
  },
  "language_info": {
   "codemirror_mode": {
    "name": "ipython",
    "version": 3
   },
   "file_extension": ".py",
   "mimetype": "text/x-python",
   "name": "python",
   "nbconvert_exporter": "python",
   "pygments_lexer": "ipython3",
   "version": "3.10.18"
  },
  "prev_pub_hash": "67792b7f280bc83a121263f37dc2a55f0e24b9c523254c8503674708ac6a3d64"
 },
 "nbformat": 4,
 "nbformat_minor": 4
}
