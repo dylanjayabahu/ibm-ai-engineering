{
 "cells": [
  {
   "cell_type": "markdown",
   "id": "a74b8efc-0deb-4383-abf8-37eebc5fa7fc",
   "metadata": {},
   "source": [
    "<img src=\"https://cf-courses-data.s3.us.cloud-object-storage.appdomain.cloud/assets/logos/SN_web_lightmode.png\" height=300 width=300 />\n"
   ]
  },
  {
   "cell_type": "markdown",
   "id": "f719b59e-dc36-4efd-8da3-20447366d445",
   "metadata": {},
   "source": [
    "# Final Project: League of Legends Match Predictor \n"
   ]
  },
  {
   "cell_type": "markdown",
   "id": "b59d9087-f2a7-4691-8dd9-318b72e25499",
   "metadata": {},
   "source": [
    "### Introduction  \n",
    "\n",
    "League of Legends, a popular multiplayer online battle arena (MOBA) game, generates extensive data from matches, providing an excellent opportunity to apply machine learning techniques to real-world scenarios. Perform the following steps to build a logistic regression model aimed at predicting the outcomes of League of Legends matches.  \n",
    "\n",
    "Use the [league_of_legends_data_large.csv](https://cf-courses-data.s3.us.cloud-object-storage.appdomain.cloud/rk7VDaPjMp1h5VXS-cUyMg/league-of-legends-data-large.csv) file to perform the tasks.  \n",
    "\n",
    "### Step 1: Data Loading and Preprocessing  \n",
    "\n",
    "#### Task 1: Load the League of Legends dataset and preprocess it for training.  \n",
    "\n",
    "Loading and preprocessing the dataset involves reading the data, splitting it into training and testing sets, and standardizing the features. You will utilize `pandas` for data manipulation, `train_test_split` from `sklearn` for data splitting, and `StandardScaler` for feature scaling.  \n",
    "\n",
    "Note: Please ensure all the required libraries are installed and imported.\n",
    "\n",
    "1 .Load the dataset:\n",
    "Use `pd.read_csv()` to load the dataset into a pandas DataFrame.</br>\n",
    "2. Split data into features and target: Separate win (target) and the remaining columns (features).</br>\n",
    "   X = data.drop('win', axis=1)</br>\n",
    "   y = data['win'] </br>\n",
    "3 .Split the Data into Training and Testing Sets:\n",
    "Use `train_test_split()` from `sklearn.model_selection` to divide the data. Set `test_size`=0.2 to allocate 20% for testing and 80% for training, and use `random_state`=42 to ensure reproducibility of the split.</br>\n",
    "4. Standardize the features:\n",
    "Use `StandardScaler()` from sklearn.preprocessing to scale the features.</br>\n",
    "5. Convert to PyTorch tensors:\n",
    "Use `torch.tensor()` to convert the data to PyTorch tensors.\n",
    "\n",
    "#### Exercise 1:  \n",
    "\n",
    "Write a code to load the dataset, split it into training and testing sets, standardize the features, and convert the data into PyTorch tensors for use in training a PyTorch model.  \n"
   ]
  },
  {
   "cell_type": "markdown",
   "id": "72e68c37-7a0e-45c2-a5fd-5d8191ce117c",
   "metadata": {},
   "source": [
    "### Setup\n",
    "Installing required libraries:\n",
    "\n",
    "The following required libraries are not pre-installed in the Skills Network Labs environment. You will need to run the following cell to install them:\n"
   ]
  },
  {
   "cell_type": "code",
   "execution_count": 1,
   "id": "de11b888-4436-4bfa-8a93-a0c3de1a4012",
   "metadata": {},
   "outputs": [],
   "source": [
    "# !pip install pandas\n",
    "# !pip install scikit-learn\n",
    "# !pip install torch\n",
    "# !pip install matplotlib\n"
   ]
  },
  {
   "cell_type": "code",
   "execution_count": 2,
   "id": "eee00d93-8dba-4fee-ab0f-1e672959b7e5",
   "metadata": {},
   "outputs": [],
   "source": [
    "import pandas as pd \n",
    "data = pd.read_csv('league_of_legends_data_large.csv')\n"
   ]
  },
  {
   "cell_type": "code",
   "execution_count": 3,
   "metadata": {},
   "outputs": [
    {
     "data": {
      "text/plain": [
       "'X_train shape: (800, 8)'"
      ]
     },
     "metadata": {},
     "output_type": "display_data"
    },
    {
     "data": {
      "text/plain": [
       "'y_train shape: (800,)'"
      ]
     },
     "metadata": {},
     "output_type": "display_data"
    },
    {
     "data": {
      "text/plain": [
       "'X_test shape: (200, 8)'"
      ]
     },
     "metadata": {},
     "output_type": "display_data"
    },
    {
     "data": {
      "text/plain": [
       "'y_test shape: (200,)'"
      ]
     },
     "metadata": {},
     "output_type": "display_data"
    }
   ],
   "source": [
    "from sklearn.model_selection import train_test_split\n",
    "\n",
    "\n",
    "X = data.drop('win', axis=1)\n",
    "y = data['win']\n",
    "X_train, X_test, y_train, y_test = train_test_split(X, y, test_size=0.2, random_state=42, stratify=y)\n",
    "\n",
    "display(f'X_train shape: {X_train.shape}')\n",
    "display(f'y_train shape: {y_train.shape}')\n",
    "display(f'X_test shape: {X_test.shape}')\n",
    "display(f'y_test shape: {y_test.shape}')"
   ]
  },
  {
   "cell_type": "code",
   "execution_count": 4,
   "metadata": {},
   "outputs": [],
   "source": [
    "from sklearn.preprocessing import StandardScaler\n",
    "\n",
    "scaler = StandardScaler()\n",
    "X_train = scaler.fit_transform(X_train)\n",
    "X_test = scaler.transform(X_test)"
   ]
  },
  {
   "cell_type": "code",
   "execution_count": null,
   "metadata": {},
   "outputs": [],
   "source": [
    "import torch\n",
    "\n",
    "X_train = torch.tensor(X_train, dtype=torch.float32)\n",
    "X_test = torch.tensor(X_test, dtype=torch.float32)\n",
    "y_train = torch.tensor(y_train.values, dtype=torch.long)\n",
    "y_test = torch.tensor(y_test.values, dtype=torch.long)\n"
   ]
  },
  {
   "cell_type": "code",
   "execution_count": 27,
   "metadata": {},
   "outputs": [
    {
     "data": {
      "text/plain": [
       "torch.Size([800, 8])"
      ]
     },
     "execution_count": 27,
     "metadata": {},
     "output_type": "execute_result"
    }
   ],
   "source": [
    "X_train.shape"
   ]
  },
  {
   "cell_type": "markdown",
   "id": "fb489ba7-ed44-4fde-bf4a-fa65c7ccccb4",
   "metadata": {},
   "source": [
    "### Step 2: Logistic Regression Model  \n",
    "\n",
    "#### Task 2: Implement a logistic regression model using PyTorch.  \n",
    "\n",
    "Defining the logistic regression model involves specifying the input dimensions, the forward pass using the sigmoid activation function, and initializing the model, loss function, and optimizer.  \n",
    "\n",
    "1 .Define the Logistic Regression Model:</br>\n",
    "  Create a class LogisticRegressionModel that inherits from torch.nn.Module.</br>\n",
    " - In the `__init__()` method, define a linear layer (nn.Linear) to implement the logistic regression model.</br>\n",
    "- The `forward()` method should apply the sigmoid activation function to the output of the linear layer.</br>\n",
    "\n",
    "2.Initialize the Model, Loss Function, and Optimizer:</br>\n",
    "- Set input_dim: Use `X_train.shape[1]` to get the number of features from the training data (X_train).</br>\n",
    "- Initialize the model: Create an instance of the LogisticRegressionModel class  (e.g., `model = LogisticRegressionModel()`)while passing input_dim as a parameter</br>\n",
    "- Loss Function: Use `BCELoss()` from torch.nn (Binary Cross-Entropy Loss).</br>\n",
    "- Optimizer: Initialize the optimizer using `optim.SGD()` with a learning rate of 0.01</br>\n",
    "\n",
    "#### Exercise 2:  \n",
    "\n",
    "Define the logistic regression model using PyTorch, specifying the input dimensions and the forward pass. Initialize the model, loss function, and optimizer.  \n"
   ]
  },
  {
   "cell_type": "code",
   "execution_count": 20,
   "id": "a1c9448f-c088-424f-aad9-7aee38f7bc14",
   "metadata": {},
   "outputs": [],
   "source": [
    "import torch.nn as nn \n",
    "class LogisticRegressionModel(nn.Module):  \n",
    "    def __init__(self, input_units):\n",
    "        super(LogisticRegressionModel, self).__init__()\n",
    "        self.linear = nn.Linear(input_units,1)\n",
    "    \n",
    "    def forward(self, x):\n",
    "        return torch.sigmoid(self.linear(x))"
   ]
  },
  {
   "cell_type": "code",
   "execution_count": 21,
   "metadata": {},
   "outputs": [],
   "source": [
    "from torch import optim \n",
    "\n",
    "model = LogisticRegressionModel(input_units=X_train.shape[1])\n",
    "\n",
    "criterion = nn.BCELoss()\n",
    "optimizer=optim.SGD(model.parameters(), lr=0.01)"
   ]
  },
  {
   "cell_type": "markdown",
   "id": "23b68219-e2a2-406c-a63f-b1e1977e75d7",
   "metadata": {},
   "source": [
    "### Step 3: Model Training  \n",
    "\n",
    "#### Task 3: Train the logistic regression model on the dataset.  \n",
    "\n",
    "The training loop will run for a specified number of epochs. In each epoch, the model makes predictions, calculates the loss, performs backpropagation, and updates the model parameters.\n",
    "\n",
    "1. Set Number of Epochs:  \n",
    "   - Define the number of epochs for training to 1000.\n",
    "\n",
    "2. Training Loop:  \n",
    "   For each epoch:\n",
    "   - Set the model to training mode using `model.train()`.\n",
    "   - Zero the gradients using `optimizer.zero_grad()`.\n",
    "   - Pass the training data (`X_train`) through the model to get the predictions (`outputs`).\n",
    "   - Calculate the loss using the defined loss function (`criterion`).\n",
    "   - Perform backpropagation with `loss.backward()`.\n",
    "   - Update the model's weights using `optimizer.step()`.\n",
    "\n",
    "3. Print Loss Every 100 Epochs:  \n",
    "   - After every 100 epochs, print the current epoch number and the loss value.\n",
    "\n",
    "4. Model Evaluation:  \n",
    "   - Set the model to evaluation mode using `model.eval()`.\n",
    "   - Use `torch.no_grad()` to ensure no gradients are calculated during evaluation.\n",
    "   - Get predictions on both the training set (`X_train`) and the test set (`X_test`).\n",
    "\n",
    "5. Calculate Accuracy:  \n",
    "   - For both the training and test datasets, compute the accuracy by comparing the predicted values with the true values (`y_train`, `y_test`).\n",
    "   - Use a threshold of 0.5 for classification\n",
    "   \n",
    "6. Print Accuracy:  \n",
    "   - Print the training and test accuracies after the evaluation is complete.\n",
    "\n",
    "#### Exercise 3:  \n",
    "\n",
    "Write the code to train the logistic regression model on the dataset. Implement the training loop, making predictions, calculating the loss, performing backpropagation, and updating model parameters. Evaluate the model's accuracy on training and testing sets.  \n"
   ]
  },
  {
   "cell_type": "code",
   "execution_count": 22,
   "id": "d27de934-738d-4256-b7bc-9c9139a47af0",
   "metadata": {},
   "outputs": [
    {
     "name": "stdout",
     "output_type": "stream",
     "text": [
      "Epoch: 0, loss: 0.7237999439239502\n",
      "Epoch: 100, loss: 0.7113065123558044\n",
      "Epoch: 200, loss: 0.7033584713935852\n",
      "Epoch: 300, loss: 0.698378324508667\n",
      "Epoch: 400, loss: 0.6952865123748779\n",
      "Epoch: 500, loss: 0.6933765411376953\n",
      "Epoch: 600, loss: 0.6921994686126709\n",
      "Epoch: 700, loss: 0.6914743781089783\n",
      "Epoch: 800, loss: 0.6910277009010315\n",
      "Epoch: 900, loss: 0.6907520294189453\n",
      "train acc: 0.5012249946594238, test_acc: 0.5012000203132629\n"
     ]
    }
   ],
   "source": [
    "num_epochs = 1000\n",
    "threshold=0.5\n",
    "\n",
    "for epoch in range(num_epochs):\n",
    "    model.train()\n",
    "    optimizer.zero_grad()\n",
    "    outputs = model(X_train)\n",
    "    loss = criterion(outputs, y_train.float().view(-1, 1))\n",
    "    loss.backward()\n",
    "    optimizer.step()\n",
    "\n",
    "    if epoch%100==0:\n",
    "        print(f\"Epoch: {epoch}, loss: {loss}\")\n",
    "\n",
    "model.eval()\n",
    "with torch.no_grad():\n",
    "    # Train predictions\n",
    "    yhat_train_prob = model(X_train)\n",
    "    yhat_train = (yhat_train_prob > 0.5).float()\n",
    "\n",
    "    # Test predictions\n",
    "    yhat_test_prob = model(X_test)\n",
    "    yhat_test = (yhat_test_prob > 0.5).float()\n",
    "    \n",
    "    train_acc = (yhat_train == y_train.view(-1)).float().mean().item()\n",
    "    test_acc  = (yhat_test == y_test.view(-1)).float().mean().item()\n",
    "\n",
    "print(f\"train acc: {train_acc}, test_acc: {test_acc}\")"
   ]
  },
  {
   "cell_type": "markdown",
   "id": "bed998e3-ee78-4156-8505-5ee583b30039",
   "metadata": {},
   "source": [
    "### Step 4: Model Optimization and Evaluation  \n",
    "\n",
    "#### Task 4: Implement optimization techniques and evaluate the model's performance.  \n",
    "\n",
    "Optimization techniques such as L2 regularization (Ridge Regression) help in preventing overfitting. The model is retrained with these optimizations, and its performance is evaluated on both training and testing sets. \n",
    "\n",
    "**Weight Decay** :In the context of machine learning and specifically in optimization algorithms, weight_decay is a parameter used to apply L2 regularization to the model's parameters (weights). It helps prevent the model from overfitting by penalizing large weight values, thereby encouraging the model to find simpler solutions.To use L2 regularization, you need to modify the optimizer by setting the weight_decay parameter. The weight_decay parameter in the optimizer adds the L2 regularization term during training.\n",
    "For example, when you initialize the optimizer with optim.SGD(model.parameters(), lr=0.01, weight_decay=0.01), the weight_decay=0.01 term applies L2 regularization with a strength of 0.01.\n",
    "\n",
    "1. Set Up the Optimizer with L2 Regularization:\n",
    "   - Modify the optimizer to include `weight_decay` for L2 regularization.\n",
    "   - Example:\n",
    "     ```python\n",
    "     optimizer = optim.SGD(model.parameters(), lr=0.01, weight_decay=0.01)\n",
    "     ```\n",
    "2. Train the Model with L2 Regularization:\n",
    "    - Follow the same steps as before but use the updated optimizer with regularization during training.\n",
    "    - Use epochs=1000\n",
    "   \n",
    "3. Evaluate the Optimized Model:\n",
    "   - After training, evaluate the model on both the training and test datasets.\n",
    "   - Compute the accuracy for both sets by comparing the model's predictions to the true labels (`y_train` and `y_test`).\n",
    "\n",
    "4. Calculate and Print the Accuracy:\n",
    "   - Use a threshold of 0.5 to determine whether the model's predictions are class 0 or class 1.\n",
    "   - Print the training accuracy and test accuracy  after evaluation.\n",
    "\n",
    "\n",
    "#### Exercise 4:  \n",
    "\n",
    "Implement optimization techniques like L2 regularization and retrain the model. Evaluate the performance of the optimized model on both training and testing sets.  \n"
   ]
  },
  {
   "cell_type": "code",
   "execution_count": 23,
   "id": "6619c7fd-4ec5-4d9c-9b08-690d403c0589",
   "metadata": {},
   "outputs": [
    {
     "name": "stdout",
     "output_type": "stream",
     "text": [
      "Epoch: 0, loss: 0.7399829030036926\n",
      "Epoch: 100, loss: 0.7197282910346985\n",
      "Epoch: 200, loss: 0.7075567841529846\n",
      "Epoch: 300, loss: 0.7003847360610962\n",
      "Epoch: 400, loss: 0.6961991190910339\n",
      "Epoch: 500, loss: 0.6937640309333801\n",
      "Epoch: 600, loss: 0.6923466324806213\n",
      "Epoch: 700, loss: 0.6915188431739807\n",
      "Epoch: 800, loss: 0.691033124923706\n",
      "Epoch: 900, loss: 0.6907464861869812\n",
      "train acc: 0.5016000270843506, test_acc: 0.5012000203132629\n"
     ]
    }
   ],
   "source": [
    "model = LogisticRegressionModel(input_units=X_train.shape[1])\n",
    "\n",
    "criterion = nn.BCELoss()\n",
    "optimizer=optim.SGD(model.parameters(), lr=0.01, weight_decay=0.01)\n",
    "\n",
    "num_epochs = 1000\n",
    "threshold=0.5\n",
    "\n",
    "for epoch in range(num_epochs):\n",
    "    model.train()\n",
    "    optimizer.zero_grad()\n",
    "    outputs = model(X_train)\n",
    "    loss = criterion(outputs, y_train.float().view(-1, 1))\n",
    "    loss.backward()\n",
    "    optimizer.step()\n",
    "\n",
    "    if epoch%100==0:\n",
    "        print(f\"Epoch: {epoch}, loss: {loss}\")\n",
    "\n",
    "model.eval()\n",
    "with torch.no_grad():\n",
    "    # Train predictions\n",
    "    yhat_train_prob = model(X_train)\n",
    "    yhat_train = (yhat_train_prob > 0.5).float()\n",
    "\n",
    "    # Test predictions\n",
    "    yhat_test_prob = model(X_test)\n",
    "    yhat_test = (yhat_test_prob > 0.5).float()\n",
    "    \n",
    "    train_acc = (yhat_train == y_train.view(-1)).float().mean().item()\n",
    "    test_acc  = (yhat_test == y_test.view(-1)).float().mean().item()\n",
    "\n",
    "print(f\"train acc: {train_acc}, test_acc: {test_acc}\")"
   ]
  },
  {
   "cell_type": "markdown",
   "id": "24751f9a-b8ea-4034-b887-c44ee649bec2",
   "metadata": {},
   "source": [
    "### Step 5: Visualization and Interpretation  \n",
    "\n",
    "Visualization tools like confusion matrices and ROC curves provide insights into the model's performance. The confusion matrix helps in understanding the classification accuracy, while the ROC curve illustrates the trade-off between sensitivity and specificity.\n",
    "\n",
    "Confusion Matrix : A Confusion Matrix is a fundamental tool used in classification problems to evaluate the performance of a model. It provides a matrix showing the number of correct and incorrect predictions made by the model, categorized by the actual and predicted classes.\n",
    "Where \n",
    "-  True Positive (TP): Correctly predicted positive class (class 1).\n",
    "- True Negative (TN): Correctly predicted negative class (class 0).\n",
    "- False Positive (FP): Incorrectly predicted as positive (class 1), but the actual class is negative (class 0). This is also called a Type I error.\n",
    "- False Negative (FN): Incorrectly predicted as negative (class 0), but the actual class is positive (class 1). This is also called a Type II error. \n",
    "\n",
    "ROC Curve (Receiver Operating Characteristic Curve):\n",
    "The ROC Curve is a graphical representation used to evaluate the performance of a binary classification model across all classification thresholds. It plots two metrics:\n",
    "- True Positive Rate (TPR) or Recall (Sensitivity)-It is the proportion of actual positive instances (class 1) that were correctly classified as positive by the model.\n",
    "- False Positive Rate (FPR)-It is the proportion of actual negative instances (class 0) that were incorrectly classified as positive by the model.\n",
    "  \n",
    "AUC: \n",
    "AUC stands for Area Under the Curve and is a performance metric used to evaluate the quality of a binary classification model. Specifically, it refers to the area under the ROC curve (Receiver Operating Characteristic curve), which plots the True Positive Rate (TPR) versus the False Positive Rate (FPR) for different threshold values.\n",
    "\n",
    "Classification Report:\n",
    "A Classification Report is a summary of various classification metrics, which are useful for evaluating the performance of a classifier on the given dataset.\n",
    "\n",
    "#### Exercise 5:  \n",
    "\n",
    "Write code to visualize the model's performance using confusion matrices and ROC curves. Generate classification reports to evaluate precision, recall, and F1-score. Retrain the model with L2 regularization and evaluate the performance.\n"
   ]
  },
  {
   "cell_type": "code",
   "execution_count": 24,
   "id": "3b4539c5-65f0-4f6a-b452-037cc765fd75",
   "metadata": {},
   "outputs": [
    {
     "data": {
      "image/png": "[encoded data removed]",
      "text/plain": [
       "<Figure size 600x600 with 2 Axes>"
      ]
     },
     "metadata": {},
     "output_type": "display_data"
    },
    {
     "name": "stdout",
     "output_type": "stream",
     "text": [
      "Classification Report:\n",
      "               precision    recall  f1-score   support\n",
      "\n",
      "        Loss       0.55      0.49      0.52        98\n",
      "         Win       0.55      0.61      0.58       102\n",
      "\n",
      "    accuracy                           0.55       200\n",
      "   macro avg       0.55      0.55      0.55       200\n",
      "weighted avg       0.55      0.55      0.55       200\n",
      "\n"
     ]
    },
    {
     "data": {
      "image/png": "[encoded data removed]",
      "text/plain": [
       "<Figure size 640x480 with 1 Axes>"
      ]
     },
     "metadata": {},
     "output_type": "display_data"
    }
   ],
   "source": [
    "#Change the name of variables as per your code\n",
    "import matplotlib.pyplot as plt\n",
    "from sklearn.metrics import confusion_matrix, classification_report, roc_curve, auc\n",
    "import itertools\n",
    "\n",
    "# Visualize the confusion matrix\n",
    "#Change the variable names as used in your code\n",
    "cm = confusion_matrix(y_test, yhat_test)\n",
    "\n",
    "plt.figure(figsize=(6, 6))\n",
    "plt.imshow(cm, interpolation='nearest', cmap=plt.cm.Blues)\n",
    "plt.title('Confusion Matrix')\n",
    "plt.colorbar()\n",
    "tick_marks = range(2)\n",
    "plt.xticks(tick_marks, ['Loss', 'Win'], rotation=45)\n",
    "plt.yticks(tick_marks, ['Loss', 'Win'])\n",
    "\n",
    "thresh = cm.max() / 2\n",
    "for i, j in itertools.product(range(cm.shape[0]), range(cm.shape[1])):\n",
    "    plt.text(j, i, cm[i, j], horizontalalignment=\"center\", color=\"white\" if cm[i, j] > thresh else \"black\")\n",
    "\n",
    "plt.tight_layout()\n",
    "plt.ylabel('True label')\n",
    "plt.xlabel('Predicted label')\n",
    "plt.show()\n",
    "\n",
    "# Print classification report\n",
    "print(\"Classification Report:\\n\", classification_report(y_test, yhat_test, target_names=['Loss', 'Win']))\n",
    "\n",
    "# Plot ROC curve\n",
    "fpr, tpr, thresholds = roc_curve(y_test, yhat_test)\n",
    "roc_auc = auc(fpr, tpr)\n",
    "\n",
    "plt.figure()\n",
    "plt.plot(fpr, tpr, color='darkorange', lw=2, label=f'ROC curve (area = {roc_auc:.2f})')\n",
    "plt.plot([0, 1], [0, 1], color='navy', lw=2, linestyle='--')\n",
    "plt.xlim([0.0, 1.0])\n",
    "plt.ylim([0.0, 1.05])\n",
    "plt.xlabel('False Positive Rate')\n",
    "plt.ylabel('True Positive Rate')\n",
    "plt.title('Receiver Operating Characteristic (ROC)')\n",
    "plt.legend(loc=\"lower right\")\n",
    "plt.show()"
   ]
  },
  {
   "cell_type": "markdown",
   "id": "672e4174-126d-45b5-a70d-289ee18cf0a2",
   "metadata": {},
   "source": [
    "Double-click <b>here</b> for the Hint.\n",
    "<!-- \n",
    "\n",
    "#Change the name of variables as per your code\n",
    "import matplotlib.pyplot as plt\n",
    "from sklearn.metrics import confusion_matrix, classification_report, roc_curve, auc\n",
    "import itertools\n",
    "\n",
    "# Visualize the confusion matrix\n",
    "#Change the variable names as used in your code\n",
    "y_pred_test_labels = (y_pred_test > 0.5).float()\n",
    "cm = confusion_matrix(y_test, y_pred_test_labels)\n",
    "\n",
    "plt.figure(figsize=(6, 6))\n",
    "plt.imshow(cm, interpolation='nearest', cmap=plt.cm.Blues)\n",
    "plt.title('Confusion Matrix')\n",
    "plt.colorbar()\n",
    "tick_marks = range(2)\n",
    "plt.xticks(tick_marks, ['Loss', 'Win'], rotation=45)\n",
    "plt.yticks(tick_marks, ['Loss', 'Win'])\n",
    "\n",
    "thresh = cm.max() / 2\n",
    "for i, j in itertools.product(range(cm.shape[0]), range(cm.shape[1])):\n",
    "    plt.text(j, i, cm[i, j], horizontalalignment=\"center\", color=\"white\" if cm[i, j] > thresh else \"black\")\n",
    "\n",
    "plt.tight_layout()\n",
    "plt.ylabel('True label')\n",
    "plt.xlabel('Predicted label')\n",
    "plt.show()\n",
    "\n",
    "# Print classification report\n",
    "print(\"Classification Report:\\n\", classification_report(y_test, y_pred_test_labels, target_names=['Loss', 'Win']))\n",
    "\n",
    "# Plot ROC curve\n",
    "fpr, tpr, thresholds = roc_curve(y_test, y_pred_test)\n",
    "roc_auc = auc(fpr, tpr)\n",
    "\n",
    "plt.figure()\n",
    "plt.plot(fpr, tpr, color='darkorange', lw=2, label=f'ROC curve (area = {roc_auc:.2f})')\n",
    "plt.plot([0, 1], [0, 1], color='navy', lw=2, linestyle='--')\n",
    "plt.xlim([0.0, 1.0])\n",
    "plt.ylim([0.0, 1.05])\n",
    "plt.xlabel('False Positive Rate')\n",
    "plt.ylabel('True Positive Rate')\n",
    "plt.title('Receiver Operating Characteristic (ROC)')\n",
    "plt.legend(loc=\"lower right\")\n",
    "plt.show()\n",
    "-->\n"
   ]
  },
  {
   "cell_type": "markdown",
   "id": "4b983787-2b9b-4d09-bfd8-95b8f783c83a",
   "metadata": {},
   "source": [
    "### Step 6: Model Saving and Loading  \n",
    "\n",
    "#### Task 6: Save and load the trained model.  \n",
    "\n",
    "This task demonstrates the techniques to persist a trained model using `torch.save` and reload it using `torch.load`. Evaluating the loaded model ensures that it retains its performance, making it practical for deployment in real-world applications.  \n",
    "\n",
    "1. Saving the Model:\n",
    "- Save the model's learned weights and biases using torch.save().( e.g. , torch.save(model.state_dict(), 'your_model_name.pth'))\n",
    "- Saving only the state dictionary (model parameters) is preferred because it’s more flexible and efficient than saving the entire model object.\n",
    "\n",
    "2. Loading the Model:\n",
    "- Create a new model instance (e.g., `model = LogisticRegressionModel()`) and load the saved parameters. ( e.g. , `model.load_state_dict(torch.load('your_model_name.pth'))`)`.\n",
    "\n",
    "3. Evaluating the Loaded Model:\n",
    "   - After loading, set the model to evaluation mode by calling `model.eval()\n",
    "   - After loading the model, evaluate it again on the test dataset to make sure it performs similarly to when it was first trained..Now evaluate it on the test data.\n",
    "   - Use `torch.no_grad()` to ensure that no gradients are computed.\n",
    "\n",
    "#### Exercise 6:  \n",
    "\n",
    "Write code to save the trained model and reload it. Ensure the loaded model performs consistently by evaluating it on the test dataset.  \n"
   ]
  },
  {
   "cell_type": "code",
   "execution_count": 26,
   "id": "a1cdb5c1-9b4f-4f1b-9d23-ad8ed4cdebd2",
   "metadata": {},
   "outputs": [
    {
     "name": "stdout",
     "output_type": "stream",
     "text": [
      "train acc: 0.5016000270843506, test_acc: 0.5012000203132629\n"
     ]
    },
    {
     "name": "stderr",
     "output_type": "stream",
     "text": [
      "/var/folders/j2/z3mq_6z50d78_3slwvxxjn2w0000gn/T/ipykernel_91055/2752555997.py:7: FutureWarning: You are using `torch.load` with `weights_only=False` (the current default value), which uses the default pickle module implicitly. It is possible to construct malicious pickle data which will execute arbitrary code during unpickling (See https://github.com/pytorch/pytorch/blob/main/SECURITY.md#untrusted-models for more details). In a future release, the default value for `weights_only` will be flipped to `True`. This limits the functions that could be executed during unpickling. Arbitrary objects will no longer be allowed to be loaded via this mode unless they are explicitly allowlisted by the user via `torch.serialization.add_safe_globals`. We recommend you start setting `weights_only=True` for any use case where you don't have full control of the loaded file. Please open an issue on GitHub for any issues related to this experimental feature.\n",
      "  model.load_state_dict(torch.load(\"saved_model.pth\"))\n"
     ]
    }
   ],
   "source": [
    "## Write your code here\n",
    "# Save the model\n",
    "torch.save(model.state_dict(), \"saved_model.pth\")\n",
    "\n",
    "# Load the model\n",
    "loaded_model = LogisticRegressionModel(X_train.shape[1])\n",
    "model.load_state_dict(torch.load(\"saved_model.pth\"))\n",
    "\n",
    "# Ensure the loaded model is in evaluation mode\n",
    "model.eval()\n",
    "\n",
    "\n",
    "# Evaluate the loaded model\n",
    "with torch.no_grad():\n",
    "    # Train predictions\n",
    "    yhat_train_prob = model(X_train)\n",
    "    yhat_train = (yhat_train_prob > 0.5).float()\n",
    "\n",
    "    # Test predictions\n",
    "    yhat_test_prob = model(X_test)\n",
    "    yhat_test = (yhat_test_prob > 0.5).float()\n",
    "    \n",
    "    train_acc = (yhat_train == y_train.view(-1)).float().mean().item()\n",
    "    test_acc  = (yhat_test == y_test.view(-1)).float().mean().item()\n",
    "\n",
    "print(f\"train acc: {train_acc}, test_acc: {test_acc}\")\n",
    "\n",
    "\n"
   ]
  },
  {
   "cell_type": "markdown",
   "id": "edd4d603-e38f-43eb-bd67-d30ce00d757b",
   "metadata": {},
   "source": [
    "### Step 7: Hyperparameter Tuning  \n",
    "\n",
    "#### Task 7: Perform hyperparameter tuning to find the best learning rate.  \n",
    "\n",
    "By testing different learning rates, you will identify the optimal rate that provides the best test accuracy. This fine-tuning is crucial for enhancing model performance . \n",
    "1. Define Learning Rates:\n",
    "   - Choose these learning rates to test ,[0.01, 0.05, 0.1]\n",
    "\n",
    "2. Reinitialize the Model for Each Learning Rate:\n",
    "  - For each learning rate, you’ll need to reinitialize the model and optimizer e.g.(`torch.optim.SGD(model.parameters(), lr=lr)`).\n",
    "   - Each new learning rate requires reinitializing the model since the optimizer and its parameters are linked to the learning rate.\n",
    "\n",
    "3. Train the Model for Each Learning Rate:\n",
    "  - Train the model for a fixed number of epochs (e.g., 50 or 100 epochs) for each learning rate, and compute the accuracy on the test set.\n",
    "  - Track the test accuracy for each learning rate and identify which one yields the best performance.\n",
    "\n",
    "4. Evaluate and Compare:\n",
    "  - After training with each learning rate, compare the test accuracy for each configuration.\n",
    "   - Report the learning rate that gives the highest test accuracy\n",
    "\n",
    "#### Exercise 7:  \n",
    "\n",
    "Perform hyperparameter tuning to find the best learning rate. Retrain the model for each learning rate and evaluate its performance to identify the optimal rate.  \n"
   ]
  },
  {
   "cell_type": "code",
   "execution_count": 30,
   "id": "cb97fb79-7161-4fba-907a-894843d5a969",
   "metadata": {},
   "outputs": [
    {
     "name": "stdout",
     "output_type": "stream",
     "text": [
      "train acc: 0.5006250143051147, test_acc: 0.5004000067710876\n",
      "train acc: 0.49915000796318054, test_acc: 0.4999000132083893\n",
      "train acc: 0.5015249848365784, test_acc: 0.5016999840736389\n",
      "0.1\n"
     ]
    }
   ],
   "source": [
    "## Write your code here\n",
    "lrs = [0.01, 0.05, 0.1]\n",
    "test_accs = []\n",
    "train_accs = []\n",
    "\n",
    "num_epochs = 100\n",
    "\n",
    "for lr in lrs:\n",
    "\n",
    "    model = LogisticRegressionModel(input_units=X_train.size()[1])\n",
    "\n",
    "    optimizer = optim.SGD(model.parameters(), lr=lr)\n",
    "\n",
    "    for epoch in range(num_epochs):\n",
    "        model.train()\n",
    "        optimizer.zero_grad()\n",
    "        outputs = model(X_train)\n",
    "        loss = criterion(outputs, y_train.float().view(-1, 1))\n",
    "        loss.backward()\n",
    "        optimizer.step()\n",
    "\n",
    "        # if epoch%100==0:\n",
    "        #     print(f\"Epoch: {epoch}, loss: {loss}\")\n",
    "    \n",
    "    model.eval()\n",
    "    with torch.no_grad():\n",
    "        yhat_train_prob = model(X_train)\n",
    "        yhat_train = (yhat_train_prob > 0.5).float()\n",
    "\n",
    "        yhat_test_prob = model(X_test)\n",
    "        yhat_test = (yhat_test_prob > 0.5).float()\n",
    "        \n",
    "        train_acc = (yhat_train == y_train.view(-1)).float().mean().item()\n",
    "        test_acc  = (yhat_test == y_test.view(-1)).float().mean().item()\n",
    "\n",
    "    print(f\"train acc: {train_acc}, test_acc: {test_acc}\")\n",
    "    train_accs.append(train_acc)\n",
    "    test_accs.append(test_acc)\n",
    "\n",
    "print(lrs[test_accs.index(max(test_accs))])"
   ]
  },
  {
   "cell_type": "markdown",
   "id": "f7ae60c9-6d8e-4917-aa63-5f063f4f1cdc",
   "metadata": {},
   "source": [
    "### Step 8: Feature Importance  \n",
    "\n",
    "#### Task 8: Evaluate feature importance to understand the impact of each feature on the prediction.  \n",
    "\n",
    "The code to evaluate feature importance to understand the impact of each feature on the prediction.\n",
    "\n",
    " 1.Extracting Model Weights:\n",
    "  - The weights of the logistic regression model represent the importance of each feature in making predictions. These weights are stored in the model's linear layer (`model.linear.weight`).\n",
    " - You can extract the weights using `model.linear.weight.data.numpy()` and flatten the resulting tensor to get a 1D array of feature importances.\n",
    "\n",
    "2.Creating a DataFrame:\n",
    " - Create a pandas DataFrame with two columns: one for the feature names and the other for their corresponding importance values (i.e., the learned weights).\n",
    " - Ensure the features are aligned with their names in your dataset (e.g., `X_train.columns).\n",
    "\n",
    "3. Sorting and Plotting Feature Importance:\n",
    "  - Sort the features based on the absolute value of their importance (weights) to identify the most impactful features.\n",
    "  - Use a bar plot (via `matplotlib`) to visualize the sorted feature importances, with the feature names on the y-axis and importance values on the x-axis.\n",
    "\n",
    "4. Interpreting the Results:\n",
    "  - Larger absolute weights indicate more influential features. Positive weights suggest a positive correlation with the outcome (likely to predict the positive class), while negative weights suggest the opposite.\n",
    "\n",
    "#### Exercise 8:  \n",
    "\n",
    "Evaluate feature importance by extracting the weights of the linear layer and creating a DataFrame to display the importance of each feature. Visualize the feature importance using a bar plot.  \n"
   ]
  },
  {
   "cell_type": "code",
   "execution_count": 31,
   "id": "db47abab-fb7b-42af-8151-04ae529b532a",
   "metadata": {},
   "outputs": [
    {
     "name": "stdout",
     "output_type": "stream",
     "text": [
      "        Feature  Importance\n",
      "5  wards_placed    0.061119\n",
      "3   gold_earned    0.059134\n",
      "0         kills    0.033296\n",
      "2       assists    0.012367\n",
      "4            cs   -0.002968\n",
      "1        deaths   -0.011397\n",
      "6  wards_killed   -0.015692\n",
      "7  damage_dealt   -0.085368\n"
     ]
    },
    {
     "data": {
      "image/png": "[encoded data removed]",
      "text/plain": [
       "<Figure size 640x480 with 1 Axes>"
      ]
     },
     "metadata": {},
     "output_type": "display_data"
    }
   ],
   "source": [
    "## Write your code here\n",
    "\n",
    "import pandas as pd\n",
    "import matplotlib.pyplot as plt\n",
    "\n",
    "weights = model.linear.weight.data.numpy().flatten()\n",
    "features = X.columns\n",
    "feature_importance = pd.DataFrame({'Feature': features, 'Importance': weights})\n",
    "feature_importance = feature_importance.sort_values(by='Importance', ascending=False)\n",
    "print(feature_importance)\n",
    "\n",
    "\n",
    "plt.bar(feature_importance['Feature'], feature_importance['Importance'])\n",
    "plt.xlabel('Features')\n",
    "plt.ylabel('Importance')\n",
    "plt.title('Feature Importance')\n",
    "plt.xticks(rotation=45)\n",
    "plt.show()\n",
    "\n",
    "\n"
   ]
  },
  {
   "cell_type": "markdown",
   "id": "165673c2-89be-45cf-8239-1fc4544ae853",
   "metadata": {},
   "source": [
    "Double-click <b>here</b> for the Hint\n",
    "<!-- \n",
    "#Use the following code to extract the weight and create dataframe\n",
    "#Change the name of variables per your code\n",
    "\n",
    "Extract the weights of the linear layer:\n",
    "weights = model.linear.weight.data.numpy().flatten()\n",
    "features = X.columns\n",
    "Create a DataFrame for feature importance:\n",
    "feature_importance = pd.DataFrame({'Feature': features, 'Importance': weights})\n",
    "feature_importance = feature_importance.sort_values(by='Importance', ascending=False)\n",
    "print(feature_importance)\n",
    "Plot feature importance plt.figure(figsize=(10, 6))\n",
    "plt.bar(feature_importance['Feature'], feature_importance['Importance'])\n",
    "plt.xlabel('Features')\n",
    "plt.ylabel('Importance')\n",
    "plt.title('Feature Importance')\n",
    "plt.xticks(rotation=45)\n",
    "plt.show()\n",
    "-->\n"
   ]
  },
  {
   "cell_type": "markdown",
   "id": "04b85e8a-9c1b-49f8-befc-f8b3b5799a14",
   "metadata": {},
   "source": [
    "#### Conclusion:  \n",
    "\n",
    "Congratulations on completing the project! In this final project, you built a logistic regression model to predict the outcomes of League of Legends matches based on various in-game statistics. This comprehensive project involved several key steps, including data loading and preprocessing, model implementation, training, optimization, evaluation, visualization, model saving and loading, hyperparameter tuning, and feature importance analysis. This project provided hands-on experience with the complete workflow of developing a machine learning model for binary classification tasks using PyTorch.\n",
    "\n",
    "© Copyright IBM Corporation. All rights reserved.\n"
   ]
  },
  {
   "cell_type": "code",
   "execution_count": null,
   "id": "bb47ab38-c71b-4684-b444-04d353b3961b",
   "metadata": {},
   "outputs": [],
   "source": []
  }
 ],
 "metadata": {
  "kernelspec": {
   "display_name": "pytorch",
   "language": "python",
   "name": "python3"
  },
  "language_info": {
   "codemirror_mode": {
    "name": "ipython",
    "version": 3
   },
   "file_extension": ".py",
   "mimetype": "text/x-python",
   "name": "python",
   "nbconvert_exporter": "python",
   "pygments_lexer": "ipython3",
   "version": "3.10.18"
  },
  "prev_pub_hash": "3954a6768947e1337f1fbb623d47144c102fda57b5eb30076fea611e015e66ea"
 },
 "nbformat": 4,
 "nbformat_minor": 4
}
