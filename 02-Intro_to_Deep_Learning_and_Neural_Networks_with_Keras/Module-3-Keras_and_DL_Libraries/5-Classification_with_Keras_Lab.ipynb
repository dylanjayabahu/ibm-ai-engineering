{
 "cells": [
  {
   "cell_type": "markdown",
   "id": "c7aa2c85-4e2d-4cbf-bdb2-b8758e146341",
   "metadata": {},
   "source": [
    "<a href=\"https://cognitiveclass.ai\"><img src=\"https://cf-courses-data.s3.us.cloud-object-storage.appdomain.cloud/IBMDeveloperSkillsNetwork-DL0101EN-SkillsNetwork/images/IDSN-logo.png\" width=\"400\"> </a>\n",
    "\n",
    "# Classification Models with Keras\n",
    "\n",
    "Estimated time needed: **30** mins\n"
   ]
  },
  {
   "cell_type": "markdown",
   "id": "d60e2240-e5ce-4f7b-b436-b1126bbc6593",
   "metadata": {},
   "source": [
    "## Introduction\n"
   ]
  },
  {
   "cell_type": "markdown",
   "id": "8557d517-d46f-4aa0-9eaf-be6f58b1a79d",
   "metadata": {},
   "source": [
    "In this lab, we will learn how to use the Keras library to build models for classificaiton problems. We will use the popular MNIST dataset, a dataset of images, for a change. \n",
    "\n",
    "The <strong>MNIST database</strong>, short for Modified National Institute of Standards and Technology database, is a large database of handwritten digits that is commonly used for training various image processing systems. The database is also widely used for training and testing in the field of machine learning.\n",
    "    \n",
    "The MNIST database contains 60,000 training images and 10,000 testing images of digits written by high school students and employees of the United States Census Bureau.\n",
    "\n",
    "Also, this way, you will get to compare how conventional neural networks compare to convolutional neural networks, that we will build in the next module.\n"
   ]
  },
  {
   "cell_type": "markdown",
   "id": "43b909ae-4a8f-4bde-a66b-090afd8151eb",
   "metadata": {},
   "source": [
    "## Objectives for this Notebook    \n",
    "* Use the MNIST database for training various image processing systems\n",
    "* Build a neural network\n",
    "* Train and test the network\n"
   ]
  },
  {
   "cell_type": "markdown",
   "id": "549f5fe3-653b-4e2f-b5fa-0933d7d0b5f0",
   "metadata": {},
   "source": [
    "## Table of Contents\n",
    "\n",
    "<div class=\"alert alert-block alert-info\" style=\"margin-top: 20px\">\n",
    "\n",
    "<font size = 3>\n",
    "\n",
    "1. <a href=\"#Import-Keras-and-Packages\">Import Keras and Packages</a>      \n",
    "2. <a href=\"#Build-a-Neural-Network\">Build a Neural Network</a>     \n",
    "3. <a href=\"#Train-and-Test-the-Network\">Train and Test the Network</a>     \n",
    "\n",
    "</font>\n",
    "</div>\n"
   ]
  },
  {
   "cell_type": "markdown",
   "id": "99aebb57-a565-45b5-9470-803d2f5eefd2",
   "metadata": {},
   "source": [
    "Let's start by installing Keras and other necessary libraries.\n"
   ]
  },
  {
   "cell_type": "markdown",
   "id": "cad2aba1-3b72-4200-b30a-0a0e4f6c191f",
   "metadata": {},
   "source": [
    "The following required libraries are __not__ pre-installed in the Skills Network Labs environment. __You will need to run the following cell__ to install them:\n"
   ]
  },
  {
   "cell_type": "code",
   "execution_count": 29,
   "id": "03bee01a-08f2-448a-9c9a-ad111912c44c",
   "metadata": {},
   "outputs": [],
   "source": [
    "# !pip install tensorflow_cpu==2.18.0\n",
    "# !pip install matplotlib==3.9.2\n",
    "\n",
    "# print(\"==== All required libraries are installed =====\")"
   ]
  },
  {
   "cell_type": "markdown",
   "id": "e34069b6-a5a9-463b-8d90-a77b16901f15",
   "metadata": {},
   "source": [
    "#### Suppress the tensorflow warning messages\n",
    "We use the following code to  suppress the warning messages due to use of CPU architechture for tensoflow.\n",
    "\n",
    "You may want to **comment out** these lines if you are using the GPU architechture\n"
   ]
  },
  {
   "cell_type": "code",
   "execution_count": 30,
   "id": "4e0382f2-f135-4870-9d71-212e59c9f988",
   "metadata": {},
   "outputs": [],
   "source": [
    "import os\n",
    "os.environ['TF_ENABLE_ONEDNN_OPTS'] = '0'\n",
    "os.environ['TF_CPP_MIN_LOG_LEVEL'] = '2'"
   ]
  },
  {
   "cell_type": "markdown",
   "id": "8b413e7b-7155-4227-8c72-9b22fc7ffd49",
   "metadata": {},
   "source": [
    "## Import Keras and Packages\n"
   ]
  },
  {
   "cell_type": "markdown",
   "id": "e4895aa9-8bcb-46e6-a79c-a7a881c670ba",
   "metadata": {},
   "source": [
    "### Import the libraries. \n",
    "There might be some warning messages related to floating point round off errors and lack of GPU and other compiler related options. You can ignore these warnings and proceed.\n"
   ]
  },
  {
   "cell_type": "code",
   "execution_count": 31,
   "id": "19c0174a-5eef-4c5f-8a9c-54c150f90ce2",
   "metadata": {},
   "outputs": [],
   "source": [
    "import keras\n",
    "\n",
    "from keras.models import Sequential\n",
    "from keras.layers import Dense\n",
    "from keras.layers import Input\n",
    "from keras.utils import to_categorical"
   ]
  },
  {
   "cell_type": "markdown",
   "id": "6cf5d38c-7c50-4d4f-a0e3-c6be5a0c9afa",
   "metadata": {},
   "source": [
    "Since we are dealing we images, let's also import the Matplotlib scripting layer in order to view the images.\n"
   ]
  },
  {
   "cell_type": "code",
   "execution_count": 32,
   "id": "958bff1a-07f8-4968-bd16-06ea5897a19b",
   "metadata": {},
   "outputs": [],
   "source": [
    "import matplotlib.pyplot as plt"
   ]
  },
  {
   "cell_type": "markdown",
   "id": "a7fe0e17-5d41-4dfb-8c57-b86293309403",
   "metadata": {},
   "source": [
    "The Keras library conveniently includes the MNIST dataset as part of its API. You can check other datasets within the Keras library [here](https://keras.io/datasets/). \n",
    "\n",
    "So, let's load the MNIST dataset from the Keras library. The dataset is readily divided into a training set and a test set.\n"
   ]
  },
  {
   "cell_type": "code",
   "execution_count": 33,
   "id": "1fb035b3-f6b0-455c-9c43-e7445d3a42d4",
   "metadata": {},
   "outputs": [],
   "source": [
    "# import the data\n",
    "from keras.datasets import mnist\n",
    "\n",
    "# read the data\n",
    "(X_train, y_train), (X_test, y_test) = mnist.load_data()"
   ]
  },
  {
   "cell_type": "markdown",
   "id": "9cca734f-7ccb-4ec6-9dcc-47462d8db865",
   "metadata": {},
   "source": [
    "Let's confirm the number of images in each set. According to the dataset's documentation, we should have 60000 images in X_train and 10000 images in the X_test.\n"
   ]
  },
  {
   "cell_type": "code",
   "execution_count": 34,
   "id": "85c93f66-dac7-4937-ae8f-2f346e6dd258",
   "metadata": {},
   "outputs": [
    {
     "data": {
      "text/plain": [
       "(60000, 28, 28)"
      ]
     },
     "execution_count": 34,
     "metadata": {},
     "output_type": "execute_result"
    }
   ],
   "source": [
    "X_train.shape"
   ]
  },
  {
   "cell_type": "markdown",
   "id": "61c9c1ec-94a1-4545-9205-133bd8476ee0",
   "metadata": {},
   "source": [
    "The first number in the output tuple is the number of images, and the other two numbers are the size of the images in datset. So, each image is 28 pixels by 28 pixels.\n"
   ]
  },
  {
   "cell_type": "markdown",
   "id": "7c0b2825-42a0-4052-b0d5-5ae02dc5e859",
   "metadata": {},
   "source": [
    "Let's visualize the first image in the training set using Matplotlib's scripting layer.\n"
   ]
  },
  {
   "cell_type": "code",
   "execution_count": 35,
   "id": "755619b2-64e3-416d-922b-8e6b8526d05b",
   "metadata": {},
   "outputs": [
    {
     "data": {
      "text/plain": [
       "<matplotlib.image.AxesImage at 0x369d47880>"
      ]
     },
     "execution_count": 35,
     "metadata": {},
     "output_type": "execute_result"
    },
    {
     "data": {
      "image/png": "[encoded data removed]",
      "text/plain": [
       "<Figure size 640x480 with 1 Axes>"
      ]
     },
     "metadata": {},
     "output_type": "display_data"
    }
   ],
   "source": [
    "plt.imshow(X_train[0])"
   ]
  },
  {
   "cell_type": "markdown",
   "id": "b9f703ea-874d-47dd-9d7a-20c78cc13b36",
   "metadata": {},
   "source": [
    "With conventional neural networks, we cannot feed in the image as input as is. So we need to flatten the images into one-dimensional vectors, each of size 1 x (28 x 28) = 1 x 784.\n"
   ]
  },
  {
   "cell_type": "code",
   "execution_count": 36,
   "id": "f9a137c1-3554-4027-86f0-b1409ba810f4",
   "metadata": {},
   "outputs": [],
   "source": [
    "# flatten images into one-dimensional vector\n",
    "\n",
    "num_pixels = X_train.shape[1] * X_train.shape[2] # find size of one-dimensional vector\n",
    "\n",
    "X_train = X_train.reshape(X_train.shape[0], num_pixels).astype('float32') # flatten training images\n",
    "X_test = X_test.reshape(X_test.shape[0], num_pixels).astype('float32') # flatten test images"
   ]
  },
  {
   "cell_type": "markdown",
   "id": "da865046-1d25-4855-bb8d-3b6bfb15343a",
   "metadata": {},
   "source": [
    "Since pixel values can range from 0 to 255, let's normalize the vectors to be between 0 and 1.\n"
   ]
  },
  {
   "cell_type": "code",
   "execution_count": 37,
   "id": "b2b71bef-dd01-4e76-914e-f97e280b3be1",
   "metadata": {},
   "outputs": [],
   "source": [
    "# normalize inputs from 0-255 to 0-1\n",
    "X_train = X_train / 255\n",
    "X_test = X_test / 255"
   ]
  },
  {
   "cell_type": "markdown",
   "id": "8dba8319-79d1-4079-9afd-047692d9f3e4",
   "metadata": {},
   "source": [
    "Finally, before we start building our model, remember that for classification we need to divide our target variable into categories. We use the to_categorical function from the Keras Utilities package.\n"
   ]
  },
  {
   "cell_type": "code",
   "execution_count": 38,
   "id": "416635d1-1051-4b66-9acb-8dd5b8e68290",
   "metadata": {},
   "outputs": [
    {
     "name": "stdout",
     "output_type": "stream",
     "text": [
      "10\n"
     ]
    }
   ],
   "source": [
    "# one hot encode outputs\n",
    "y_train = to_categorical(y_train)\n",
    "y_test = to_categorical(y_test)\n",
    "\n",
    "num_classes = y_test.shape[1]\n",
    "print(num_classes)"
   ]
  },
  {
   "cell_type": "markdown",
   "id": "b11ce88d-0157-43f2-b64f-5b09fd916c78",
   "metadata": {},
   "source": [
    "## Build a Neural Network\n"
   ]
  },
  {
   "cell_type": "code",
   "execution_count": 39,
   "id": "22f4c784-d600-4b17-b494-3e98ee07af75",
   "metadata": {},
   "outputs": [],
   "source": [
    "# define classification model\n",
    "def classification_model():\n",
    "    # create model\n",
    "    \n",
    "    model = Sequential()\n",
    "    model.add(Input(shape=(num_pixels,)))\n",
    "    model.add(Dense(num_pixels, activation='relu'))\n",
    "    model.add(Dense(100, activation='relu'))\n",
    "    model.add(Dense(num_classes, activation='softmax'))\n",
    "    \n",
    "    \n",
    "    # compile model\n",
    "    model.compile(optimizer='adam', loss='categorical_crossentropy', metrics=['accuracy'])\n",
    "    return model"
   ]
  },
  {
   "cell_type": "markdown",
   "id": "aa0d7bc7-1344-4d0d-857b-4a91c685c232",
   "metadata": {},
   "source": [
    "## Train and Test the Network\n"
   ]
  },
  {
   "cell_type": "code",
   "execution_count": 40,
   "id": "711b258f-73fe-4ace-ae96-e72c71d6af67",
   "metadata": {},
   "outputs": [
    {
     "name": "stdout",
     "output_type": "stream",
     "text": [
      "Epoch 1/10\n",
      "1875/1875 - 55s - 29ms/step - accuracy: 0.8009 - loss: 4.5469 - val_accuracy: 0.7841 - val_loss: 12.2634\n",
      "Epoch 2/10\n",
      "1875/1875 - 55s - 29ms/step - accuracy: 0.7825 - loss: 22.3486 - val_accuracy: 0.7111 - val_loss: 51.7289\n",
      "Epoch 3/10\n",
      "1875/1875 - 36s - 19ms/step - accuracy: 0.7880 - loss: 43.1223 - val_accuracy: 0.8456 - val_loss: 32.8401\n",
      "Epoch 4/10\n",
      "1875/1875 - 36s - 19ms/step - accuracy: 0.7881 - loss: 70.5958 - val_accuracy: 0.7721 - val_loss: 109.5181\n",
      "Epoch 5/10\n",
      "1875/1875 - 35s - 19ms/step - accuracy: 0.7884 - loss: 107.1488 - val_accuracy: 0.7708 - val_loss: 151.1157\n",
      "Epoch 6/10\n",
      "1875/1875 - 35s - 19ms/step - accuracy: 0.7980 - loss: 135.0995 - val_accuracy: 0.7912 - val_loss: 167.6042\n",
      "Epoch 7/10\n",
      "1875/1875 - 37s - 19ms/step - accuracy: 0.7964 - loss: 173.5661 - val_accuracy: 0.8364 - val_loss: 133.4150\n",
      "Epoch 8/10\n",
      "1875/1875 - 45s - 24ms/step - accuracy: 0.7973 - loss: 221.1133 - val_accuracy: 0.8391 - val_loss: 159.8126\n",
      "Epoch 9/10\n",
      "1875/1875 - 49s - 26ms/step - accuracy: 0.7977 - loss: 268.4792 - val_accuracy: 0.8561 - val_loss: 163.8205\n",
      "Epoch 10/10\n",
      "1875/1875 - 25s - 13ms/step - accuracy: 0.8028 - loss: 301.6077 - val_accuracy: 0.8408 - val_loss: 215.2656\n"
     ]
    }
   ],
   "source": [
    "# build the model\n",
    "model = classification_model()\n",
    "\n",
    "# fit the model\n",
    "model.fit(X_train, y_train, validation_data=(X_test, y_test), epochs=10, verbose=2)\n",
    "\n",
    "# evaluate the model\n",
    "scores = model.evaluate(X_test, y_test, verbose=0)"
   ]
  },
  {
   "cell_type": "markdown",
   "id": "d8668581-4e3e-4cae-a0ba-1932c560aa01",
   "metadata": {},
   "source": [
    "Let's print the accuracy and the corresponding error.\n"
   ]
  },
  {
   "cell_type": "code",
   "execution_count": 41,
   "id": "c62635ba-7b96-44d8-85e5-b93101313e45",
   "metadata": {},
   "outputs": [
    {
     "name": "stdout",
     "output_type": "stream",
     "text": [
      "Accuracy: 0.8407999873161316% \n",
      " Error: 0.1592000126838684\n"
     ]
    }
   ],
   "source": [
    "print('Accuracy: {}% \\n Error: {}'.format(scores[1], 1 - scores[1]))        "
   ]
  },
  {
   "cell_type": "markdown",
   "id": "8cb896d9-ac23-49e1-a08d-3e95a12f3baa",
   "metadata": {},
   "source": [
    "Just running 10 epochs could actually take over 20 minutes. But enjoy the results as they are getting generated.\n"
   ]
  },
  {
   "cell_type": "markdown",
   "id": "738fbd92-dfb1-49c5-b8d4-a1c0a60a4b06",
   "metadata": {},
   "source": [
    "Sometimes, you cannot afford to retrain your model everytime you want to use it, especially if you are limited on computational resources and training your model can take a long time. Therefore, with the Keras library, you can save your model after training. To do that, we use the save method.\n"
   ]
  },
  {
   "cell_type": "code",
   "execution_count": 42,
   "id": "26f2fd96-8a5e-4323-9fa2-0102ad9cabab",
   "metadata": {},
   "outputs": [],
   "source": [
    "model.save('classification_model.keras')"
   ]
  },
  {
   "cell_type": "markdown",
   "id": "b3f9a939-77b2-47df-ab3c-fb98d5951f3d",
   "metadata": {},
   "source": [
    "Since our model contains multidimensional arrays of data, then models are usually saved as .keras files.\n"
   ]
  },
  {
   "cell_type": "markdown",
   "id": "87d23cda-d3df-451f-bb71-087284ef482d",
   "metadata": {},
   "source": [
    "When you are ready to use your model again, you use the load_model function from <strong>keras.saving</strong>.\n"
   ]
  },
  {
   "cell_type": "code",
   "execution_count": 43,
   "id": "30487ebb-692c-4cdc-b3ea-ac0df17cfcff",
   "metadata": {},
   "outputs": [],
   "source": [
    "pretrained_model = keras.saving.load_model('classification_model.keras')"
   ]
  },
  {
   "cell_type": "markdown",
   "id": "59a77d59-6abd-4025-ac75-2e890c84a72b",
   "metadata": {},
   "source": [
    "<h3>Practice Exercise 1</h3>\n"
   ]
  },
  {
   "cell_type": "markdown",
   "id": "9b4499a9-fdaa-4c5e-8a44-1332791440a0",
   "metadata": {},
   "source": [
    "Create a neural network model with 6 dense layers and compare its accuracy\n"
   ]
  },
  {
   "cell_type": "code",
   "execution_count": 44,
   "id": "3c920a54-1d95-4f5a-8f3a-95f1f933a775",
   "metadata": {},
   "outputs": [
    {
     "name": "stdout",
     "output_type": "stream",
     "text": [
      "Epoch 1/10\n",
      "1875/1875 - 33s - 18ms/step - accuracy: 0.3485 - loss: 2534689.7500 - val_accuracy: 0.1193 - val_loss: 16597934.0000\n",
      "Epoch 2/10\n",
      "1875/1875 - 29s - 15ms/step - accuracy: 0.1734 - loss: 140554784.0000 - val_accuracy: 0.1756 - val_loss: 490230784.0000\n",
      "Epoch 3/10\n",
      "1875/1875 - 27s - 15ms/step - accuracy: 0.1709 - loss: 988392768.0000 - val_accuracy: 0.1140 - val_loss: 2028264320.0000\n",
      "Epoch 4/10\n",
      "1875/1875 - 27s - 15ms/step - accuracy: 0.1634 - loss: 3297515008.0000 - val_accuracy: 0.2145 - val_loss: 5773996032.0000\n",
      "Epoch 5/10\n",
      "1875/1875 - 29s - 16ms/step - accuracy: 0.1644 - loss: 8657226752.0000 - val_accuracy: 0.2052 - val_loss: 7709465600.0000\n",
      "Epoch 6/10\n",
      "1875/1875 - 32s - 17ms/step - accuracy: 0.1611 - loss: 19482693632.0000 - val_accuracy: 0.1676 - val_loss: 20812357632.0000\n",
      "Epoch 7/10\n",
      "1875/1875 - 35s - 19ms/step - accuracy: 0.1611 - loss: 35871948800.0000 - val_accuracy: 0.1280 - val_loss: 58847690752.0000\n",
      "Epoch 8/10\n",
      "1875/1875 - 35s - 19ms/step - accuracy: 0.1593 - loss: 61534027776.0000 - val_accuracy: 0.1295 - val_loss: 85954748416.0000\n",
      "Epoch 9/10\n",
      "1875/1875 - 35s - 18ms/step - accuracy: 0.1616 - loss: 102172065792.0000 - val_accuracy: 0.1699 - val_loss: 124095913984.0000\n",
      "Epoch 10/10\n",
      "1875/1875 - 33s - 18ms/step - accuracy: 0.1576 - loss: 160265551872.0000 - val_accuracy: 0.1547 - val_loss: 161990279168.0000\n"
     ]
    },
    {
     "data": {
      "text/plain": [
       "<keras.src.callbacks.history.History at 0x380fd21d0>"
      ]
     },
     "execution_count": 44,
     "metadata": {},
     "output_type": "execute_result"
    }
   ],
   "source": [
    "# define classification model\n",
    "def classification_model():\n",
    "    # create model\n",
    "    \n",
    "    model = Sequential()\n",
    "    model.add(Input(shape=(num_pixels,)))\n",
    "    model.add(Dense(num_pixels, activation='relu'))\n",
    "    model.add(Dense(100, activation='relu'))\n",
    "    model.add(Dense(100, activation='relu'))\n",
    "    model.add(Dense(100, activation='relu'))\n",
    "    model.add(Dense(100, activation='relu'))\n",
    "    model.add(Dense(num_classes, activation='softmax'))\n",
    "    \n",
    "    \n",
    "    # compile model\n",
    "    model.compile(optimizer='adam', loss='categorical_crossentropy', metrics=['accuracy'])\n",
    "    return model\n",
    "\n",
    "# build the model\n",
    "model = classification_model()\n",
    "\n",
    "# fit the model\n",
    "model.fit(X_train, y_train, validation_data=(X_test, y_test), epochs=10, verbose=2)\n"
   ]
  },
  {
   "cell_type": "code",
   "execution_count": 45,
   "metadata": {},
   "outputs": [
    {
     "data": {
      "text/plain": [
       "[161990279168.0, 0.15469999611377716]"
      ]
     },
     "execution_count": 45,
     "metadata": {},
     "output_type": "execute_result"
    }
   ],
   "source": [
    "\n",
    "# evaluate the model\n",
    "scores = model.evaluate(X_test, y_test, verbose=0)\n",
    "scores"
   ]
  },
  {
   "cell_type": "markdown",
   "id": "5ea8cf34-bed0-4c53-84ff-9c5f180c1ca7",
   "metadata": {},
   "source": [
    "Double-click <b>here</b> for the solution.\n",
    "\n",
    "<!-- Your answer is below:\n",
    "def classification_model_6layers():\n",
    "    # create model\n",
    "    \n",
    "    model = Sequential()\n",
    "    model.add(Input(shape=(num_pixels,)))\n",
    "    model.add(Dense(num_pixels, activation='relu'))\n",
    "    model.add(Dense(100, activation='relu'))\n",
    "    model.add(Dense(100, activation='relu'))\n",
    "    model.add(Dense(100, activation='relu'))\n",
    "    model.add(Dense(100, activation='relu'))\n",
    "    model.add(Dense(num_classes, activation='softmax'))\n",
    "    \n",
    "    \n",
    "    # compile model\n",
    "    model.compile(optimizer='adam', loss='categorical_crossentropy', metrics=['accuracy'])\n",
    "    return model\n",
    "\n",
    "# build the model\n",
    "model_6layers = classification_model_6layers()\n",
    "\n",
    "# fit the model\n",
    "model_6layers.fit(X_train, y_train, validation_data=(X_test, y_test), epochs=10, verbose=2)\n",
    "\n",
    "# evaluate the model\n",
    "scores_6layers = model_6layers.evaluate(X_test, y_test, verbose=0)\n",
    "\n",
    "print('Accuracy_3_layers: {}% \\n Accuracy_6_layers: {}'.format(scores[1], scores_6layers[1]))   \n",
    "\n",
    "-->\n"
   ]
  },
  {
   "cell_type": "markdown",
   "id": "06868e1f-5543-4536-8ed3-ebbf3715663f",
   "metadata": {},
   "source": [
    "<h3>Practice Exercise 2</h3>\n"
   ]
  },
  {
   "cell_type": "markdown",
   "id": "c26cca9e-a280-4083-9399-536639edcc00",
   "metadata": {},
   "source": [
    "Now, load the the earlier saved model, train it further for 10 more epochs and check the accuracy\n"
   ]
  },
  {
   "cell_type": "code",
   "execution_count": 48,
   "id": "02fdd930-699f-4483-842e-38f66775fd36",
   "metadata": {},
   "outputs": [
    {
     "name": "stdout",
     "output_type": "stream",
     "text": [
      "Epoch 1/10\n",
      "1875/1875 - 36s - 19ms/step - accuracy: 0.7958 - loss: 385.3818 - val_accuracy: 0.8147 - val_loss: 451.4189\n",
      "Epoch 2/10\n",
      "1875/1875 - 37s - 20ms/step - accuracy: 0.8008 - loss: 432.3582 - val_accuracy: 0.7964 - val_loss: 486.5971\n",
      "Epoch 3/10\n",
      "1875/1875 - 38s - 20ms/step - accuracy: 0.8027 - loss: 476.7915 - val_accuracy: 0.7667 - val_loss: 490.5805\n",
      "Epoch 4/10\n",
      "1875/1875 - 39s - 21ms/step - accuracy: 0.8042 - loss: 550.3602 - val_accuracy: 0.7782 - val_loss: 729.1696\n",
      "Epoch 5/10\n",
      "1875/1875 - 48s - 26ms/step - accuracy: 0.8068 - loss: 610.1752 - val_accuracy: 0.8115 - val_loss: 641.1108\n",
      "Epoch 6/10\n",
      "1875/1875 - 49s - 26ms/step - accuracy: 0.8040 - loss: 698.1955 - val_accuracy: 0.8245 - val_loss: 723.1681\n",
      "Epoch 7/10\n",
      "1875/1875 - 37s - 20ms/step - accuracy: 0.8044 - loss: 781.5552 - val_accuracy: 0.8110 - val_loss: 849.5106\n",
      "Epoch 8/10\n",
      "1875/1875 - 38s - 20ms/step - accuracy: 0.8013 - loss: 884.7484 - val_accuracy: 0.8143 - val_loss: 880.8869\n",
      "Epoch 9/10\n",
      "1875/1875 - 60s - 32ms/step - accuracy: 0.8059 - loss: 945.8929 - val_accuracy: 0.8208 - val_loss: 887.6719\n",
      "Epoch 10/10\n",
      "1875/1875 - 49s - 26ms/step - accuracy: 0.8074 - loss: 1021.6047 - val_accuracy: 0.8370 - val_loss: 749.7766\n"
     ]
    },
    {
     "data": {
      "text/plain": [
       "<keras.src.callbacks.history.History at 0x347fd0100>"
      ]
     },
     "execution_count": 48,
     "metadata": {},
     "output_type": "execute_result"
    }
   ],
   "source": [
    "og_model = keras.saving.load_model('classification_model.keras')\n",
    "\n",
    "og_model.fit(X_train, y_train, validation_data=(X_test, y_test), epochs=10, verbose=2)\n",
    "\n"
   ]
  },
  {
   "cell_type": "code",
   "execution_count": 50,
   "metadata": {},
   "outputs": [
    {
     "data": {
      "text/plain": [
       "[749.7765502929688, 0.8370000123977661]"
      ]
     },
     "execution_count": 50,
     "metadata": {},
     "output_type": "execute_result"
    }
   ],
   "source": [
    "scores = og_model.evaluate(X_test, y_test, verbose=0)\n",
    "scores"
   ]
  },
  {
   "cell_type": "markdown",
   "id": "669c6dda-3892-4a90-a700-772e7e690942",
   "metadata": {},
   "source": [
    "Double-click <b>here</b> for the solution.\n",
    "\n",
    "<!-- Your answer is below:\n",
    "\n",
    "#load the saved model\n",
    "pretrained_model = keras.saving.load_model('classification_model.keras')\n",
    "\n",
    "print(\"Pre-trained model loaded successufully\")\n",
    "\n",
    "# Further train the loaded model\n",
    "pretrained_model.fit(X_train, y_train, validation_data=(X_test, y_test), epochs=10, verbose=2)\n",
    "\n",
    "# evaluate the model\n",
    "scores_20_epochs = pretrained_model.evaluate(X_test, y_test, verbose=0)\n",
    "print('Accuracy_10_epochs: {}% \\n Accuracy_20_epochs: {}'.format(scores[1], scores_20_epochs[1]))   \n",
    "\n",
    "-->\n"
   ]
  },
  {
   "cell_type": "markdown",
   "id": "aba414e9-b546-4a17-a341-c43163da57fb",
   "metadata": {},
   "source": [
    "### Thank you for completing this lab!\n",
    "\n",
    "This notebook was created by [Alex Aklson](https://www.linkedin.com/in/aklson/). I hope you found this lab interesting and educational. Feel free to contact me if you have any questions!\n"
   ]
  },
  {
   "cell_type": "markdown",
   "id": "22a30a27-69bc-40b0-9227-7a2cb40dc5ea",
   "metadata": {},
   "source": [
    "<!--\n",
    "## Change Log\n",
    "\n",
    "|  Date (YYYY-MM-DD) |  Version | Changed By  |  Change Description |\n",
    "|---|---|---|---|\n",
    "| 2024-11-20  | 3.0  |   Aman   |  Updated the library versions to current |\n",
    "| 2020-09-21  | 2.0  | Srishti  |  Migrated Lab to Markdown and added to course repo in GitLab |\n",
    "\n",
    "\n",
    "\n",
    "<hr>\n",
    "\n",
    "## <h3 align=\"center\"> © IBM Corporation. All rights reserved. <h3/>\n"
   ]
  },
  {
   "cell_type": "markdown",
   "id": "d1b83917-d21c-453d-8f41-4721aee322ce",
   "metadata": {},
   "source": [
    "## <h3 align=\"center\"> &#169; IBM Corporation. All rights reserved. <h3/>\n",
    "\n"
   ]
  }
 ],
 "metadata": {
  "kernelspec": {
   "display_name": "tensorflow",
   "language": "python",
   "name": "python3"
  },
  "language_info": {
   "codemirror_mode": {
    "name": "ipython",
    "version": 3
   },
   "file_extension": ".py",
   "mimetype": "text/x-python",
   "name": "python",
   "nbconvert_exporter": "python",
   "pygments_lexer": "ipython3",
   "version": "3.10.14"
  },
  "prev_pub_hash": "c850b639d611b84ea2eecf5ddb84ea433849e20b6766a84b43a9df0c51e4e9ee"
 },
 "nbformat": 4,
 "nbformat_minor": 4
}
