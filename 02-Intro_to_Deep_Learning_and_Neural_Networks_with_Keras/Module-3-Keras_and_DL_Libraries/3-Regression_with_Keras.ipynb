{
 "cells": [
  {
   "cell_type": "markdown",
   "id": "07a31f8f-cfb8-4389-997e-89232cf3995f",
   "metadata": {},
   "source": [
    "<a href=\"https://cognitiveclass.ai\"><img src=\"https://cf-courses-data.s3.us.cloud-object-storage.appdomain.cloud/IBMDeveloperSkillsNetwork-DL0101EN-SkillsNetwork/images/IDSN-logo.png\" width=\"400\"> </a>\n",
    "\n",
    "# Regression Models with Keras\n",
    "\n",
    "Estimated time needed: **45** mins\n"
   ]
  },
  {
   "cell_type": "markdown",
   "id": "916511b8-2427-49d8-8a98-b3c893097b62",
   "metadata": {},
   "source": [
    "## Introduction\n"
   ]
  },
  {
   "cell_type": "markdown",
   "id": "5c52fe3b-01e8-40b7-84d6-560d27d02614",
   "metadata": {},
   "source": [
    "As we discussed in the videos, despite the popularity of more powerful libraries such as PyToch and TensorFlow, they are not easy to use and have a steep learning curve. So, for people who are just starting to learn deep learning, there is no better library to use other than the Keras library. \n",
    "\n",
    "Keras is a high-level API for building deep learning models. It has gained favor for its ease of use and syntactic simplicity facilitating fast development. As you will see in this lab and the other labs in this course, building a very complex deep learning network can be achieved with Keras with only few lines of code. You will appreciate Keras even more, once you learn how to build deep models using PyTorch and TensorFlow in the other courses.\n",
    "\n",
    "So, in this lab, you will learn how to use the Keras library to build a regression model.\n"
   ]
  },
  {
   "cell_type": "markdown",
   "id": "d3aca2f1-217f-4ac3-a45a-9f40a0c01e4c",
   "metadata": {},
   "source": [
    "## Objectives for this Notebook    \n",
    "* How to use the Keras library to build a regression model\n",
    "* Download and clean the data set\n",
    "* Build a neural network\n",
    "* Train and test the network     \n",
    "\n"
   ]
  },
  {
   "cell_type": "markdown",
   "id": "ebfb6e7a-258e-4e96-aef7-08ac143dafef",
   "metadata": {},
   "source": [
    "<h2>Table of Contents</h2>\n",
    "\n",
    "\n",
    "<div class=\"alert alert-block alert-info\" style=\"margin-top: 20px\">\n",
    "\n",
    "<font size = 4>\n",
    "1. <a href=\"#Download-and-Clean-the-Data-Set\">Download and Clean the Data Set</a><br>\n",
    "2. <a href=\"#Import-Keras-Packages\">Import Keras Packages</a><br>\n",
    "3. <a href=\"#Build-a-Neural-Network\">Build a Neural Network</a><br>\n",
    "4. <a href=\"#Train-and-Test-the-Network\">Train and Test the Network</a><br>  \n",
    "\n",
    "</font>\n",
    "</div>\n"
   ]
  },
  {
   "cell_type": "markdown",
   "id": "d7b3c48c-4b3a-46c0-9f27-14ed5ef7fb58",
   "metadata": {},
   "source": [
    "Let's start by importing the <em>pandas</em> and the Numpy libraries.\n"
   ]
  },
  {
   "cell_type": "code",
   "execution_count": null,
   "id": "ceb790a0-6569-4b4f-9ab1-8ef932ba071f",
   "metadata": {},
   "outputs": [],
   "source": [
    "# All Libraries required for this lab are listed below. \n",
    "\n",
    "!pip install numpy==2.0.2\n",
    "!pip install pandas==2.2.2\n",
    "!pip install tensorflow_cpu==2.18.0\n"
   ]
  },
  {
   "cell_type": "markdown",
   "id": "5b1724d3-f1dd-486a-8969-8078d505dc29",
   "metadata": {},
   "source": [
    "#### To use Keras, you will also need to install a backend framework – such as TensorFlow.\n",
    "\n",
    "If you install TensorFlow 2.16 or above, it will install Keras by default.\n",
    "\n",
    "We are using the CPU version of tensorflow since we are dealing with smaller datasets. \n",
    "You may install the GPU version of tensorflow on your machine to accelarate the processing of larger datasets\n"
   ]
  },
  {
   "cell_type": "markdown",
   "id": "78f7bf97-4486-4e10-b809-4b2b2a0ef05d",
   "metadata": {},
   "source": [
    "#### Suppress the tensorflow warning messages\n",
    "We use the following code to  suppress the warning messages due to use of CPU architechture for tensoflow.\n",
    "\n",
    "You may want to **comment out** these lines if you are using the GPU architechture\n"
   ]
  },
  {
   "cell_type": "code",
   "execution_count": 1,
   "id": "3b6e295a-24a1-4a7b-8fdb-cdb622e18376",
   "metadata": {},
   "outputs": [],
   "source": [
    "import os\n",
    "os.environ['TF_ENABLE_ONEDNN_OPTS'] = '0'\n",
    "os.environ['TF_CPP_MIN_LOG_LEVEL'] = '2'"
   ]
  },
  {
   "cell_type": "code",
   "execution_count": 2,
   "id": "ba21014f-efa8-4b57-9e2e-0870dc406a5a",
   "metadata": {},
   "outputs": [],
   "source": [
    "import pandas as pd\n",
    "import numpy as np\n",
    "import keras\n",
    "\n",
    "import warnings\n",
    "warnings.simplefilter('ignore', FutureWarning)"
   ]
  },
  {
   "cell_type": "markdown",
   "id": "e7f17ae7-cb9c-44c2-a3b2-db0d08c6b6c6",
   "metadata": {},
   "source": [
    "We will be playing around with the same dataset that we used in the videos.\n",
    "\n",
    "<strong>The dataset is about the compressive strength of different samples of concrete based on the volumes of the different ingredients that were used to make them. Ingredients include:</strong>\n",
    "\n",
    "* Cement\n",
    "* Blast furnace slag\n",
    "* Fly ash\n",
    "* Water\n",
    "* Superplasticizer\n",
    "* Coarse aggregate\n",
    "* Fine aggregate\n"
   ]
  },
  {
   "cell_type": "markdown",
   "id": "3be98e02-3e04-4ec2-9ad2-8458430a1fd0",
   "metadata": {},
   "source": [
    "## Download and Clean the Data Set\n"
   ]
  },
  {
   "cell_type": "markdown",
   "id": "9bd98611-b263-4e77-b210-c660136f08d8",
   "metadata": {},
   "source": [
    "Let's download the data and read it into a <em>pandas</em> dataframe.\n"
   ]
  },
  {
   "cell_type": "code",
   "execution_count": 3,
   "id": "9851227c-8759-4c04-9044-181c9e45ef1d",
   "metadata": {},
   "outputs": [
    {
     "data": {
      "text/html": [
       "<div>\n",
       "<style scoped>\n",
       "    .dataframe tbody tr th:only-of-type {\n",
       "        vertical-align: middle;\n",
       "    }\n",
       "\n",
       "    .dataframe tbody tr th {\n",
       "        vertical-align: top;\n",
       "    }\n",
       "\n",
       "    .dataframe thead th {\n",
       "        text-align: right;\n",
       "    }\n",
       "</style>\n",
       "<table border=\"1\" class=\"dataframe\">\n",
       "  <thead>\n",
       "    <tr style=\"text-align: right;\">\n",
       "      <th></th>\n",
       "      <th>Cement</th>\n",
       "      <th>Blast Furnace Slag</th>\n",
       "      <th>Fly Ash</th>\n",
       "      <th>Water</th>\n",
       "      <th>Superplasticizer</th>\n",
       "      <th>Coarse Aggregate</th>\n",
       "      <th>Fine Aggregate</th>\n",
       "      <th>Age</th>\n",
       "      <th>Strength</th>\n",
       "    </tr>\n",
       "  </thead>\n",
       "  <tbody>\n",
       "    <tr>\n",
       "      <th>0</th>\n",
       "      <td>540.0</td>\n",
       "      <td>0.0</td>\n",
       "      <td>0.0</td>\n",
       "      <td>162.0</td>\n",
       "      <td>2.5</td>\n",
       "      <td>1040.0</td>\n",
       "      <td>676.0</td>\n",
       "      <td>28</td>\n",
       "      <td>79.99</td>\n",
       "    </tr>\n",
       "    <tr>\n",
       "      <th>1</th>\n",
       "      <td>540.0</td>\n",
       "      <td>0.0</td>\n",
       "      <td>0.0</td>\n",
       "      <td>162.0</td>\n",
       "      <td>2.5</td>\n",
       "      <td>1055.0</td>\n",
       "      <td>676.0</td>\n",
       "      <td>28</td>\n",
       "      <td>61.89</td>\n",
       "    </tr>\n",
       "    <tr>\n",
       "      <th>2</th>\n",
       "      <td>332.5</td>\n",
       "      <td>142.5</td>\n",
       "      <td>0.0</td>\n",
       "      <td>228.0</td>\n",
       "      <td>0.0</td>\n",
       "      <td>932.0</td>\n",
       "      <td>594.0</td>\n",
       "      <td>270</td>\n",
       "      <td>40.27</td>\n",
       "    </tr>\n",
       "    <tr>\n",
       "      <th>3</th>\n",
       "      <td>332.5</td>\n",
       "      <td>142.5</td>\n",
       "      <td>0.0</td>\n",
       "      <td>228.0</td>\n",
       "      <td>0.0</td>\n",
       "      <td>932.0</td>\n",
       "      <td>594.0</td>\n",
       "      <td>365</td>\n",
       "      <td>41.05</td>\n",
       "    </tr>\n",
       "    <tr>\n",
       "      <th>4</th>\n",
       "      <td>198.6</td>\n",
       "      <td>132.4</td>\n",
       "      <td>0.0</td>\n",
       "      <td>192.0</td>\n",
       "      <td>0.0</td>\n",
       "      <td>978.4</td>\n",
       "      <td>825.5</td>\n",
       "      <td>360</td>\n",
       "      <td>44.30</td>\n",
       "    </tr>\n",
       "  </tbody>\n",
       "</table>\n",
       "</div>"
      ],
      "text/plain": [
       "   Cement  Blast Furnace Slag  Fly Ash  Water  Superplasticizer  \\\n",
       "0   540.0                 0.0      0.0  162.0               2.5   \n",
       "1   540.0                 0.0      0.0  162.0               2.5   \n",
       "2   332.5               142.5      0.0  228.0               0.0   \n",
       "3   332.5               142.5      0.0  228.0               0.0   \n",
       "4   198.6               132.4      0.0  192.0               0.0   \n",
       "\n",
       "   Coarse Aggregate  Fine Aggregate  Age  Strength  \n",
       "0            1040.0           676.0   28     79.99  \n",
       "1            1055.0           676.0   28     61.89  \n",
       "2             932.0           594.0  270     40.27  \n",
       "3             932.0           594.0  365     41.05  \n",
       "4             978.4           825.5  360     44.30  "
      ]
     },
     "execution_count": 3,
     "metadata": {},
     "output_type": "execute_result"
    }
   ],
   "source": [
    "filepath='https://s3-api.us-geo.objectstorage.softlayer.net/cf-courses-data/CognitiveClass/DL0101EN/labs/data/concrete_data.csv'\n",
    "concrete_data = pd.read_csv(filepath)\n",
    "\n",
    "concrete_data.head()"
   ]
  },
  {
   "cell_type": "markdown",
   "id": "8b461817-03b1-4e4d-9973-3be1de56e5e5",
   "metadata": {},
   "source": [
    "So the first concrete sample has 540 cubic meter of cement, 0 cubic meter of blast furnace slag, 0 cubic meter of fly ash, 162 cubic meter of water, 2.5 cubic meter of superplaticizer, 1040 cubic meter of coarse aggregate, 676 cubic meter of fine aggregate. Such a concrete mix which is 28 days old, has a compressive strength of 79.99 MPa. \n"
   ]
  },
  {
   "cell_type": "markdown",
   "id": "fc7c545e-82ae-4f9d-b277-6b1803a05dc7",
   "metadata": {},
   "source": [
    "#### Let's check how many data points we have\n"
   ]
  },
  {
   "cell_type": "code",
   "execution_count": 4,
   "id": "7afe75c0-1245-4f8b-95dc-fbf525838a3f",
   "metadata": {},
   "outputs": [
    {
     "data": {
      "text/plain": [
       "(1030, 9)"
      ]
     },
     "execution_count": 4,
     "metadata": {},
     "output_type": "execute_result"
    }
   ],
   "source": [
    "concrete_data.shape"
   ]
  },
  {
   "cell_type": "markdown",
   "id": "347d1a37-7634-4fe5-af5a-c4eee4a20075",
   "metadata": {},
   "source": [
    "So, there are approximately 1000 samples to train our model on. Because of the few samples, we have to be careful not to overfit the training data.\n"
   ]
  },
  {
   "cell_type": "markdown",
   "id": "f249b92f-35c2-4817-b239-956dfb59fb63",
   "metadata": {},
   "source": [
    "Let's check the dataset for any missing values.\n"
   ]
  },
  {
   "cell_type": "code",
   "execution_count": 5,
   "id": "ba2728ce-019f-4f9b-9ce6-5ee4f21f3517",
   "metadata": {},
   "outputs": [
    {
     "data": {
      "text/html": [
       "<div>\n",
       "<style scoped>\n",
       "    .dataframe tbody tr th:only-of-type {\n",
       "        vertical-align: middle;\n",
       "    }\n",
       "\n",
       "    .dataframe tbody tr th {\n",
       "        vertical-align: top;\n",
       "    }\n",
       "\n",
       "    .dataframe thead th {\n",
       "        text-align: right;\n",
       "    }\n",
       "</style>\n",
       "<table border=\"1\" class=\"dataframe\">\n",
       "  <thead>\n",
       "    <tr style=\"text-align: right;\">\n",
       "      <th></th>\n",
       "      <th>Cement</th>\n",
       "      <th>Blast Furnace Slag</th>\n",
       "      <th>Fly Ash</th>\n",
       "      <th>Water</th>\n",
       "      <th>Superplasticizer</th>\n",
       "      <th>Coarse Aggregate</th>\n",
       "      <th>Fine Aggregate</th>\n",
       "      <th>Age</th>\n",
       "      <th>Strength</th>\n",
       "    </tr>\n",
       "  </thead>\n",
       "  <tbody>\n",
       "    <tr>\n",
       "      <th>count</th>\n",
       "      <td>1030.000000</td>\n",
       "      <td>1030.000000</td>\n",
       "      <td>1030.000000</td>\n",
       "      <td>1030.000000</td>\n",
       "      <td>1030.000000</td>\n",
       "      <td>1030.000000</td>\n",
       "      <td>1030.000000</td>\n",
       "      <td>1030.000000</td>\n",
       "      <td>1030.000000</td>\n",
       "    </tr>\n",
       "    <tr>\n",
       "      <th>mean</th>\n",
       "      <td>281.167864</td>\n",
       "      <td>73.895825</td>\n",
       "      <td>54.188350</td>\n",
       "      <td>181.567282</td>\n",
       "      <td>6.204660</td>\n",
       "      <td>972.918932</td>\n",
       "      <td>773.580485</td>\n",
       "      <td>45.662136</td>\n",
       "      <td>35.817961</td>\n",
       "    </tr>\n",
       "    <tr>\n",
       "      <th>std</th>\n",
       "      <td>104.506364</td>\n",
       "      <td>86.279342</td>\n",
       "      <td>63.997004</td>\n",
       "      <td>21.354219</td>\n",
       "      <td>5.973841</td>\n",
       "      <td>77.753954</td>\n",
       "      <td>80.175980</td>\n",
       "      <td>63.169912</td>\n",
       "      <td>16.705742</td>\n",
       "    </tr>\n",
       "    <tr>\n",
       "      <th>min</th>\n",
       "      <td>102.000000</td>\n",
       "      <td>0.000000</td>\n",
       "      <td>0.000000</td>\n",
       "      <td>121.800000</td>\n",
       "      <td>0.000000</td>\n",
       "      <td>801.000000</td>\n",
       "      <td>594.000000</td>\n",
       "      <td>1.000000</td>\n",
       "      <td>2.330000</td>\n",
       "    </tr>\n",
       "    <tr>\n",
       "      <th>25%</th>\n",
       "      <td>192.375000</td>\n",
       "      <td>0.000000</td>\n",
       "      <td>0.000000</td>\n",
       "      <td>164.900000</td>\n",
       "      <td>0.000000</td>\n",
       "      <td>932.000000</td>\n",
       "      <td>730.950000</td>\n",
       "      <td>7.000000</td>\n",
       "      <td>23.710000</td>\n",
       "    </tr>\n",
       "    <tr>\n",
       "      <th>50%</th>\n",
       "      <td>272.900000</td>\n",
       "      <td>22.000000</td>\n",
       "      <td>0.000000</td>\n",
       "      <td>185.000000</td>\n",
       "      <td>6.400000</td>\n",
       "      <td>968.000000</td>\n",
       "      <td>779.500000</td>\n",
       "      <td>28.000000</td>\n",
       "      <td>34.445000</td>\n",
       "    </tr>\n",
       "    <tr>\n",
       "      <th>75%</th>\n",
       "      <td>350.000000</td>\n",
       "      <td>142.950000</td>\n",
       "      <td>118.300000</td>\n",
       "      <td>192.000000</td>\n",
       "      <td>10.200000</td>\n",
       "      <td>1029.400000</td>\n",
       "      <td>824.000000</td>\n",
       "      <td>56.000000</td>\n",
       "      <td>46.135000</td>\n",
       "    </tr>\n",
       "    <tr>\n",
       "      <th>max</th>\n",
       "      <td>540.000000</td>\n",
       "      <td>359.400000</td>\n",
       "      <td>200.100000</td>\n",
       "      <td>247.000000</td>\n",
       "      <td>32.200000</td>\n",
       "      <td>1145.000000</td>\n",
       "      <td>992.600000</td>\n",
       "      <td>365.000000</td>\n",
       "      <td>82.600000</td>\n",
       "    </tr>\n",
       "  </tbody>\n",
       "</table>\n",
       "</div>"
      ],
      "text/plain": [
       "            Cement  Blast Furnace Slag      Fly Ash        Water  \\\n",
       "count  1030.000000         1030.000000  1030.000000  1030.000000   \n",
       "mean    281.167864           73.895825    54.188350   181.567282   \n",
       "std     104.506364           86.279342    63.997004    21.354219   \n",
       "min     102.000000            0.000000     0.000000   121.800000   \n",
       "25%     192.375000            0.000000     0.000000   164.900000   \n",
       "50%     272.900000           22.000000     0.000000   185.000000   \n",
       "75%     350.000000          142.950000   118.300000   192.000000   \n",
       "max     540.000000          359.400000   200.100000   247.000000   \n",
       "\n",
       "       Superplasticizer  Coarse Aggregate  Fine Aggregate          Age  \\\n",
       "count       1030.000000       1030.000000     1030.000000  1030.000000   \n",
       "mean           6.204660        972.918932      773.580485    45.662136   \n",
       "std            5.973841         77.753954       80.175980    63.169912   \n",
       "min            0.000000        801.000000      594.000000     1.000000   \n",
       "25%            0.000000        932.000000      730.950000     7.000000   \n",
       "50%            6.400000        968.000000      779.500000    28.000000   \n",
       "75%           10.200000       1029.400000      824.000000    56.000000   \n",
       "max           32.200000       1145.000000      992.600000   365.000000   \n",
       "\n",
       "          Strength  \n",
       "count  1030.000000  \n",
       "mean     35.817961  \n",
       "std      16.705742  \n",
       "min       2.330000  \n",
       "25%      23.710000  \n",
       "50%      34.445000  \n",
       "75%      46.135000  \n",
       "max      82.600000  "
      ]
     },
     "execution_count": 5,
     "metadata": {},
     "output_type": "execute_result"
    }
   ],
   "source": [
    "concrete_data.describe()"
   ]
  },
  {
   "cell_type": "code",
   "execution_count": 6,
   "id": "a96e650f-253a-4c7e-b8a6-cf6656a79aa6",
   "metadata": {},
   "outputs": [
    {
     "data": {
      "text/plain": [
       "Cement                0\n",
       "Blast Furnace Slag    0\n",
       "Fly Ash               0\n",
       "Water                 0\n",
       "Superplasticizer      0\n",
       "Coarse Aggregate      0\n",
       "Fine Aggregate        0\n",
       "Age                   0\n",
       "Strength              0\n",
       "dtype: int64"
      ]
     },
     "execution_count": 6,
     "metadata": {},
     "output_type": "execute_result"
    }
   ],
   "source": [
    "concrete_data.isnull().sum()"
   ]
  },
  {
   "cell_type": "markdown",
   "id": "e00a5588-af5c-4b34-97e7-b415c8268d2e",
   "metadata": {},
   "source": [
    "The data looks very clean and is ready to be used to build our model.\n"
   ]
  },
  {
   "cell_type": "markdown",
   "id": "103be6a6-02ed-4150-9a00-89d54cd9f058",
   "metadata": {},
   "source": [
    "#### Split data into predictors and target\n"
   ]
  },
  {
   "cell_type": "markdown",
   "id": "64de6624-eb5f-4874-9661-c2f5abd5e3b8",
   "metadata": {},
   "source": [
    "The target variable in this problem is the concrete sample strength. Therefore, our predictors will be all the other columns.\n"
   ]
  },
  {
   "cell_type": "code",
   "execution_count": 7,
   "id": "7363c156-32c4-4540-8a74-5c347d5fec01",
   "metadata": {},
   "outputs": [],
   "source": [
    "concrete_data_columns = concrete_data.columns"
   ]
  },
  {
   "cell_type": "code",
   "execution_count": 9,
   "id": "faf69377-9274-4cc2-a4be-e9ce48550329",
   "metadata": {},
   "outputs": [],
   "source": [
    "predictors = concrete_data[concrete_data_columns[concrete_data_columns != 'Strength']] # all columns except Strength\n",
    "target = concrete_data['Strength'] # Strength column"
   ]
  },
  {
   "cell_type": "markdown",
   "id": "92652391-560e-49b9-9136-eb56ae7471d6",
   "metadata": {},
   "source": [
    "<a id=\"item2\"></a>\n"
   ]
  },
  {
   "cell_type": "markdown",
   "id": "ba1a5ea8-88dc-4cec-87ea-17dfbac6bb1b",
   "metadata": {},
   "source": [
    "Let's do a quick sanity check of the predictors and the target dataframes.\n"
   ]
  },
  {
   "cell_type": "code",
   "execution_count": 10,
   "id": "f06d5c71-4cdd-4e6e-b115-f6a3facb58d0",
   "metadata": {},
   "outputs": [
    {
     "data": {
      "text/html": [
       "<div>\n",
       "<style scoped>\n",
       "    .dataframe tbody tr th:only-of-type {\n",
       "        vertical-align: middle;\n",
       "    }\n",
       "\n",
       "    .dataframe tbody tr th {\n",
       "        vertical-align: top;\n",
       "    }\n",
       "\n",
       "    .dataframe thead th {\n",
       "        text-align: right;\n",
       "    }\n",
       "</style>\n",
       "<table border=\"1\" class=\"dataframe\">\n",
       "  <thead>\n",
       "    <tr style=\"text-align: right;\">\n",
       "      <th></th>\n",
       "      <th>Cement</th>\n",
       "      <th>Blast Furnace Slag</th>\n",
       "      <th>Fly Ash</th>\n",
       "      <th>Water</th>\n",
       "      <th>Superplasticizer</th>\n",
       "      <th>Coarse Aggregate</th>\n",
       "      <th>Fine Aggregate</th>\n",
       "      <th>Age</th>\n",
       "    </tr>\n",
       "  </thead>\n",
       "  <tbody>\n",
       "    <tr>\n",
       "      <th>0</th>\n",
       "      <td>540.0</td>\n",
       "      <td>0.0</td>\n",
       "      <td>0.0</td>\n",
       "      <td>162.0</td>\n",
       "      <td>2.5</td>\n",
       "      <td>1040.0</td>\n",
       "      <td>676.0</td>\n",
       "      <td>28</td>\n",
       "    </tr>\n",
       "    <tr>\n",
       "      <th>1</th>\n",
       "      <td>540.0</td>\n",
       "      <td>0.0</td>\n",
       "      <td>0.0</td>\n",
       "      <td>162.0</td>\n",
       "      <td>2.5</td>\n",
       "      <td>1055.0</td>\n",
       "      <td>676.0</td>\n",
       "      <td>28</td>\n",
       "    </tr>\n",
       "    <tr>\n",
       "      <th>2</th>\n",
       "      <td>332.5</td>\n",
       "      <td>142.5</td>\n",
       "      <td>0.0</td>\n",
       "      <td>228.0</td>\n",
       "      <td>0.0</td>\n",
       "      <td>932.0</td>\n",
       "      <td>594.0</td>\n",
       "      <td>270</td>\n",
       "    </tr>\n",
       "    <tr>\n",
       "      <th>3</th>\n",
       "      <td>332.5</td>\n",
       "      <td>142.5</td>\n",
       "      <td>0.0</td>\n",
       "      <td>228.0</td>\n",
       "      <td>0.0</td>\n",
       "      <td>932.0</td>\n",
       "      <td>594.0</td>\n",
       "      <td>365</td>\n",
       "    </tr>\n",
       "    <tr>\n",
       "      <th>4</th>\n",
       "      <td>198.6</td>\n",
       "      <td>132.4</td>\n",
       "      <td>0.0</td>\n",
       "      <td>192.0</td>\n",
       "      <td>0.0</td>\n",
       "      <td>978.4</td>\n",
       "      <td>825.5</td>\n",
       "      <td>360</td>\n",
       "    </tr>\n",
       "  </tbody>\n",
       "</table>\n",
       "</div>"
      ],
      "text/plain": [
       "   Cement  Blast Furnace Slag  Fly Ash  Water  Superplasticizer  \\\n",
       "0   540.0                 0.0      0.0  162.0               2.5   \n",
       "1   540.0                 0.0      0.0  162.0               2.5   \n",
       "2   332.5               142.5      0.0  228.0               0.0   \n",
       "3   332.5               142.5      0.0  228.0               0.0   \n",
       "4   198.6               132.4      0.0  192.0               0.0   \n",
       "\n",
       "   Coarse Aggregate  Fine Aggregate  Age  \n",
       "0            1040.0           676.0   28  \n",
       "1            1055.0           676.0   28  \n",
       "2             932.0           594.0  270  \n",
       "3             932.0           594.0  365  \n",
       "4             978.4           825.5  360  "
      ]
     },
     "execution_count": 10,
     "metadata": {},
     "output_type": "execute_result"
    }
   ],
   "source": [
    "predictors.head()"
   ]
  },
  {
   "cell_type": "code",
   "execution_count": 11,
   "id": "665d221d-180a-4e2d-ac2f-66cd3a37e416",
   "metadata": {},
   "outputs": [
    {
     "data": {
      "text/plain": [
       "0    79.99\n",
       "1    61.89\n",
       "2    40.27\n",
       "3    41.05\n",
       "4    44.30\n",
       "Name: Strength, dtype: float64"
      ]
     },
     "execution_count": 11,
     "metadata": {},
     "output_type": "execute_result"
    }
   ],
   "source": [
    "target.head()"
   ]
  },
  {
   "cell_type": "markdown",
   "id": "33964103-2865-493a-bf3b-405e97d9dc12",
   "metadata": {},
   "source": [
    "Finally, the last step is to normalize the data by substracting the mean and dividing by the standard deviation.\n"
   ]
  },
  {
   "cell_type": "code",
   "execution_count": 12,
   "id": "bbf80a67-6317-4f96-833d-bc2ec805528a",
   "metadata": {},
   "outputs": [
    {
     "data": {
      "text/html": [
       "<div>\n",
       "<style scoped>\n",
       "    .dataframe tbody tr th:only-of-type {\n",
       "        vertical-align: middle;\n",
       "    }\n",
       "\n",
       "    .dataframe tbody tr th {\n",
       "        vertical-align: top;\n",
       "    }\n",
       "\n",
       "    .dataframe thead th {\n",
       "        text-align: right;\n",
       "    }\n",
       "</style>\n",
       "<table border=\"1\" class=\"dataframe\">\n",
       "  <thead>\n",
       "    <tr style=\"text-align: right;\">\n",
       "      <th></th>\n",
       "      <th>Cement</th>\n",
       "      <th>Blast Furnace Slag</th>\n",
       "      <th>Fly Ash</th>\n",
       "      <th>Water</th>\n",
       "      <th>Superplasticizer</th>\n",
       "      <th>Coarse Aggregate</th>\n",
       "      <th>Fine Aggregate</th>\n",
       "      <th>Age</th>\n",
       "    </tr>\n",
       "  </thead>\n",
       "  <tbody>\n",
       "    <tr>\n",
       "      <th>0</th>\n",
       "      <td>2.476712</td>\n",
       "      <td>-0.856472</td>\n",
       "      <td>-0.846733</td>\n",
       "      <td>-0.916319</td>\n",
       "      <td>-0.620147</td>\n",
       "      <td>0.862735</td>\n",
       "      <td>-1.217079</td>\n",
       "      <td>-0.279597</td>\n",
       "    </tr>\n",
       "    <tr>\n",
       "      <th>1</th>\n",
       "      <td>2.476712</td>\n",
       "      <td>-0.856472</td>\n",
       "      <td>-0.846733</td>\n",
       "      <td>-0.916319</td>\n",
       "      <td>-0.620147</td>\n",
       "      <td>1.055651</td>\n",
       "      <td>-1.217079</td>\n",
       "      <td>-0.279597</td>\n",
       "    </tr>\n",
       "    <tr>\n",
       "      <th>2</th>\n",
       "      <td>0.491187</td>\n",
       "      <td>0.795140</td>\n",
       "      <td>-0.846733</td>\n",
       "      <td>2.174405</td>\n",
       "      <td>-1.038638</td>\n",
       "      <td>-0.526262</td>\n",
       "      <td>-2.239829</td>\n",
       "      <td>3.551340</td>\n",
       "    </tr>\n",
       "    <tr>\n",
       "      <th>3</th>\n",
       "      <td>0.491187</td>\n",
       "      <td>0.795140</td>\n",
       "      <td>-0.846733</td>\n",
       "      <td>2.174405</td>\n",
       "      <td>-1.038638</td>\n",
       "      <td>-0.526262</td>\n",
       "      <td>-2.239829</td>\n",
       "      <td>5.055221</td>\n",
       "    </tr>\n",
       "    <tr>\n",
       "      <th>4</th>\n",
       "      <td>-0.790075</td>\n",
       "      <td>0.678079</td>\n",
       "      <td>-0.846733</td>\n",
       "      <td>0.488555</td>\n",
       "      <td>-1.038638</td>\n",
       "      <td>0.070492</td>\n",
       "      <td>0.647569</td>\n",
       "      <td>4.976069</td>\n",
       "    </tr>\n",
       "  </tbody>\n",
       "</table>\n",
       "</div>"
      ],
      "text/plain": [
       "     Cement  Blast Furnace Slag   Fly Ash     Water  Superplasticizer  \\\n",
       "0  2.476712           -0.856472 -0.846733 -0.916319         -0.620147   \n",
       "1  2.476712           -0.856472 -0.846733 -0.916319         -0.620147   \n",
       "2  0.491187            0.795140 -0.846733  2.174405         -1.038638   \n",
       "3  0.491187            0.795140 -0.846733  2.174405         -1.038638   \n",
       "4 -0.790075            0.678079 -0.846733  0.488555         -1.038638   \n",
       "\n",
       "   Coarse Aggregate  Fine Aggregate       Age  \n",
       "0          0.862735       -1.217079 -0.279597  \n",
       "1          1.055651       -1.217079 -0.279597  \n",
       "2         -0.526262       -2.239829  3.551340  \n",
       "3         -0.526262       -2.239829  5.055221  \n",
       "4          0.070492        0.647569  4.976069  "
      ]
     },
     "execution_count": 12,
     "metadata": {},
     "output_type": "execute_result"
    }
   ],
   "source": [
    "predictors_norm = (predictors - predictors.mean()) / predictors.std()\n",
    "predictors_norm.head()"
   ]
  },
  {
   "cell_type": "markdown",
   "id": "0541a494-da55-4e16-bfe1-b2fcb0a775dd",
   "metadata": {},
   "source": [
    "Let's save the number of predictors to *n_cols* since we will need this number when building our network.\n"
   ]
  },
  {
   "cell_type": "code",
   "execution_count": 13,
   "id": "440c4cbf-57d9-47c3-af02-dc362e2a8246",
   "metadata": {},
   "outputs": [],
   "source": [
    "n_cols = predictors_norm.shape[1] # number of predictors"
   ]
  },
  {
   "cell_type": "markdown",
   "id": "41104b14-bd27-4648-be7d-75a034a29f61",
   "metadata": {},
   "source": [
    "<a id=\"item1\"></a>\n"
   ]
  },
  {
   "cell_type": "markdown",
   "id": "db429ac8-6224-4053-9678-0c8f7ed3a7a0",
   "metadata": {},
   "source": [
    "##  Import Keras Packages\n",
    "\n",
    "##### Let's import the rest of the packages from the Keras library that we will need to build our regression model.\n"
   ]
  },
  {
   "cell_type": "code",
   "execution_count": 14,
   "id": "f8b0eb75-c027-42e1-a311-d5ece6aa7bef",
   "metadata": {},
   "outputs": [],
   "source": [
    "from keras.models import Sequential\n",
    "from keras.layers import Dense\n",
    "from keras.layers import Input"
   ]
  },
  {
   "cell_type": "markdown",
   "id": "b383eb91-7ecb-4f30-8657-37b66e92e64b",
   "metadata": {},
   "source": [
    "## Build a Neural Network\n"
   ]
  },
  {
   "cell_type": "markdown",
   "id": "2669a012-ffb5-4080-aed7-17c42c1ce977",
   "metadata": {},
   "source": [
    "Let's define a function that defines our regression model for us so that we can conveniently call it to create our model.\n"
   ]
  },
  {
   "cell_type": "code",
   "execution_count": 15,
   "id": "2bdb51de-fe2b-4878-8ecd-16f3a68451e6",
   "metadata": {},
   "outputs": [],
   "source": [
    "# define regression model\n",
    "def regression_model():\n",
    "    # create model\n",
    "    model = Sequential()\n",
    "    model.add(Input(shape=(n_cols,)))\n",
    "    model.add(Dense(50, activation='relu'))\n",
    "    model.add(Dense(50, activation='relu'))\n",
    "    model.add(Dense(1))\n",
    "    \n",
    "    # compile model\n",
    "    model.compile(optimizer='adam', loss='mean_squared_error')\n",
    "    return model"
   ]
  },
  {
   "cell_type": "markdown",
   "id": "fc8e6672-bd29-4322-a1f7-6d81bf39d02c",
   "metadata": {},
   "source": [
    "The above function create a model that has two hidden layers, each of 50 hidden units.\n"
   ]
  },
  {
   "cell_type": "markdown",
   "id": "794097eb-846d-4a2b-925d-0ab04d55c900",
   "metadata": {},
   "source": [
    "## Train and Test the Network\n"
   ]
  },
  {
   "cell_type": "markdown",
   "id": "a029426e-deca-4ea2-8db6-69882812e046",
   "metadata": {},
   "source": [
    "Let's call the function now to create our model.\n"
   ]
  },
  {
   "cell_type": "code",
   "execution_count": 16,
   "id": "7e0b11a2-1e4e-41b1-b389-0142e68f2fe6",
   "metadata": {},
   "outputs": [],
   "source": [
    "# build the model\n",
    "model = regression_model()"
   ]
  },
  {
   "cell_type": "markdown",
   "id": "c6f29384-969e-4262-9495-488cdba8ae02",
   "metadata": {},
   "source": [
    "Next, we will train and test the model at the same time using the *fit* method. We will leave out 30% of the data for validation and we will train the model for 100 epochs.\n"
   ]
  },
  {
   "cell_type": "code",
   "execution_count": 17,
   "id": "fd78fa90-a0d0-45b4-8e7a-52296dc415ce",
   "metadata": {},
   "outputs": [
    {
     "name": "stdout",
     "output_type": "stream",
     "text": [
      "Epoch 1/100\n",
      "23/23 - 3s - 137ms/step - loss: 1694.6816 - val_loss: 1194.5695\n",
      "Epoch 2/100\n",
      "23/23 - 0s - 12ms/step - loss: 1642.2410 - val_loss: 1161.3918\n",
      "Epoch 3/100\n",
      "23/23 - 0s - 12ms/step - loss: 1583.6274 - val_loss: 1112.6289\n",
      "Epoch 4/100\n",
      "23/23 - 0s - 12ms/step - loss: 1504.6307 - val_loss: 1047.8593\n",
      "Epoch 5/100\n",
      "23/23 - 0s - 12ms/step - loss: 1403.7400 - val_loss: 958.9006\n",
      "Epoch 6/100\n",
      "23/23 - 0s - 12ms/step - loss: 1278.1329 - val_loss: 853.2348\n",
      "Epoch 7/100\n",
      "23/23 - 0s - 12ms/step - loss: 1128.3734 - val_loss: 746.2790\n",
      "Epoch 8/100\n",
      "23/23 - 0s - 12ms/step - loss: 974.0172 - val_loss: 635.1204\n",
      "Epoch 9/100\n",
      "23/23 - 0s - 16ms/step - loss: 824.4702 - val_loss: 540.2753\n",
      "Epoch 10/100\n",
      "23/23 - 0s - 12ms/step - loss: 684.1719 - val_loss: 438.4567\n",
      "Epoch 11/100\n",
      "23/23 - 0s - 12ms/step - loss: 564.3395 - val_loss: 362.9265\n",
      "Epoch 12/100\n",
      "23/23 - 0s - 12ms/step - loss: 463.2738 - val_loss: 304.8024\n",
      "Epoch 13/100\n",
      "23/23 - 0s - 12ms/step - loss: 381.1910 - val_loss: 240.9264\n",
      "Epoch 14/100\n",
      "23/23 - 0s - 12ms/step - loss: 311.3468 - val_loss: 202.8801\n",
      "Epoch 15/100\n",
      "23/23 - 0s - 12ms/step - loss: 257.0465 - val_loss: 164.5497\n",
      "Epoch 16/100\n",
      "23/23 - 0s - 12ms/step - loss: 211.1095 - val_loss: 147.4794\n",
      "Epoch 17/100\n",
      "23/23 - 0s - 12ms/step - loss: 185.0604 - val_loss: 133.7571\n",
      "Epoch 18/100\n",
      "23/23 - 0s - 12ms/step - loss: 166.2344 - val_loss: 128.7218\n",
      "Epoch 19/100\n",
      "23/23 - 0s - 12ms/step - loss: 156.0309 - val_loss: 113.8830\n",
      "Epoch 20/100\n",
      "23/23 - 0s - 12ms/step - loss: 147.3958 - val_loss: 94.5671\n",
      "Epoch 21/100\n",
      "23/23 - 0s - 12ms/step - loss: 146.2644 - val_loss: 98.9732\n",
      "Epoch 22/100\n",
      "23/23 - 0s - 12ms/step - loss: 144.2681 - val_loss: 128.5544\n",
      "Epoch 23/100\n",
      "23/23 - 0s - 12ms/step - loss: 149.1187 - val_loss: 107.0845\n",
      "Epoch 24/100\n",
      "23/23 - 0s - 12ms/step - loss: 148.6297 - val_loss: 95.2193\n",
      "Epoch 25/100\n",
      "23/23 - 0s - 12ms/step - loss: 149.4380 - val_loss: 99.6430\n",
      "Epoch 26/100\n",
      "23/23 - 0s - 12ms/step - loss: 149.6929 - val_loss: 96.1061\n",
      "Epoch 27/100\n",
      "23/23 - 0s - 12ms/step - loss: 152.1787 - val_loss: 113.9498\n",
      "Epoch 28/100\n",
      "23/23 - 0s - 12ms/step - loss: 152.4297 - val_loss: 112.0401\n",
      "Epoch 29/100\n",
      "23/23 - 0s - 12ms/step - loss: 154.8965 - val_loss: 95.4733\n",
      "Epoch 30/100\n",
      "23/23 - 0s - 12ms/step - loss: 147.2182 - val_loss: 98.1747\n",
      "Epoch 31/100\n",
      "23/23 - 0s - 15ms/step - loss: 144.8889 - val_loss: 104.1178\n",
      "Epoch 32/100\n",
      "23/23 - 0s - 16ms/step - loss: 146.2101 - val_loss: 95.0715\n",
      "Epoch 33/100\n",
      "23/23 - 0s - 12ms/step - loss: 140.1728 - val_loss: 76.8223\n",
      "Epoch 34/100\n",
      "23/23 - 0s - 16ms/step - loss: 138.0148 - val_loss: 89.5169\n",
      "Epoch 35/100\n",
      "23/23 - 0s - 14ms/step - loss: 139.6938 - val_loss: 97.5946\n",
      "Epoch 36/100\n",
      "23/23 - 0s - 17ms/step - loss: 135.2196 - val_loss: 92.7228\n",
      "Epoch 37/100\n",
      "23/23 - 0s - 19ms/step - loss: 136.0107 - val_loss: 91.3265\n",
      "Epoch 38/100\n",
      "23/23 - 0s - 17ms/step - loss: 136.0616 - val_loss: 94.5898\n",
      "Epoch 39/100\n",
      "23/23 - 0s - 17ms/step - loss: 132.8120 - val_loss: 83.6324\n",
      "Epoch 40/100\n",
      "23/23 - 0s - 16ms/step - loss: 134.1756 - val_loss: 86.4414\n",
      "Epoch 41/100\n",
      "23/23 - 0s - 16ms/step - loss: 130.9527 - val_loss: 89.7769\n",
      "Epoch 42/100\n",
      "23/23 - 0s - 12ms/step - loss: 133.2112 - val_loss: 90.1035\n",
      "Epoch 43/100\n",
      "23/23 - 0s - 12ms/step - loss: 133.6741 - val_loss: 91.0426\n",
      "Epoch 44/100\n",
      "23/23 - 0s - 12ms/step - loss: 129.7803 - val_loss: 83.8093\n",
      "Epoch 45/100\n",
      "23/23 - 0s - 12ms/step - loss: 131.3594 - val_loss: 91.2266\n",
      "Epoch 46/100\n",
      "23/23 - 0s - 11ms/step - loss: 131.7316 - val_loss: 105.1366\n",
      "Epoch 47/100\n",
      "23/23 - 0s - 12ms/step - loss: 135.1474 - val_loss: 75.7375\n",
      "Epoch 48/100\n",
      "23/23 - 0s - 11ms/step - loss: 131.4942 - val_loss: 86.0075\n",
      "Epoch 49/100\n",
      "23/23 - 0s - 11ms/step - loss: 130.8671 - val_loss: 91.1613\n",
      "Epoch 50/100\n",
      "23/23 - 0s - 11ms/step - loss: 130.7027 - val_loss: 74.7375\n",
      "Epoch 51/100\n",
      "23/23 - 0s - 11ms/step - loss: 130.5764 - val_loss: 84.6974\n",
      "Epoch 52/100\n",
      "23/23 - 0s - 12ms/step - loss: 130.9352 - val_loss: 66.9852\n",
      "Epoch 53/100\n",
      "23/23 - 1s - 23ms/step - loss: 129.7876 - val_loss: 79.2940\n",
      "Epoch 54/100\n",
      "23/23 - 0s - 12ms/step - loss: 129.8742 - val_loss: 72.4424\n",
      "Epoch 55/100\n",
      "23/23 - 0s - 12ms/step - loss: 131.9864 - val_loss: 85.8984\n",
      "Epoch 56/100\n",
      "23/23 - 0s - 12ms/step - loss: 131.4009 - val_loss: 102.0951\n",
      "Epoch 57/100\n",
      "23/23 - 0s - 12ms/step - loss: 128.5436 - val_loss: 80.8223\n",
      "Epoch 58/100\n",
      "23/23 - 0s - 12ms/step - loss: 127.2207 - val_loss: 96.5422\n",
      "Epoch 59/100\n",
      "23/23 - 0s - 14ms/step - loss: 132.9072 - val_loss: 91.8005\n",
      "Epoch 60/100\n",
      "23/23 - 0s - 13ms/step - loss: 129.5633 - val_loss: 79.2402\n",
      "Epoch 61/100\n",
      "23/23 - 0s - 12ms/step - loss: 131.8082 - val_loss: 68.9637\n",
      "Epoch 62/100\n",
      "23/23 - 0s - 12ms/step - loss: 127.3280 - val_loss: 84.8877\n",
      "Epoch 63/100\n",
      "23/23 - 0s - 12ms/step - loss: 132.5766 - val_loss: 93.3556\n",
      "Epoch 64/100\n",
      "23/23 - 0s - 12ms/step - loss: 134.2746 - val_loss: 92.1375\n",
      "Epoch 65/100\n",
      "23/23 - 0s - 13ms/step - loss: 133.3519 - val_loss: 99.6704\n",
      "Epoch 66/100\n",
      "23/23 - 0s - 12ms/step - loss: 130.6998 - val_loss: 80.1853\n",
      "Epoch 67/100\n",
      "23/23 - 0s - 12ms/step - loss: 130.5102 - val_loss: 79.1729\n",
      "Epoch 68/100\n",
      "23/23 - 0s - 12ms/step - loss: 127.7244 - val_loss: 89.3625\n",
      "Epoch 69/100\n",
      "23/23 - 0s - 12ms/step - loss: 129.2598 - val_loss: 84.6569\n",
      "Epoch 70/100\n",
      "23/23 - 0s - 12ms/step - loss: 128.7638 - val_loss: 92.5325\n",
      "Epoch 71/100\n",
      "23/23 - 0s - 12ms/step - loss: 127.9999 - val_loss: 72.9314\n",
      "Epoch 72/100\n",
      "23/23 - 0s - 12ms/step - loss: 129.3884 - val_loss: 69.4589\n",
      "Epoch 73/100\n",
      "23/23 - 0s - 12ms/step - loss: 130.8337 - val_loss: 78.4176\n",
      "Epoch 74/100\n",
      "23/23 - 0s - 12ms/step - loss: 132.5746 - val_loss: 67.6063\n",
      "Epoch 75/100\n",
      "23/23 - 0s - 12ms/step - loss: 129.3899 - val_loss: 63.7206\n",
      "Epoch 76/100\n",
      "23/23 - 0s - 11ms/step - loss: 138.5002 - val_loss: 112.3144\n",
      "Epoch 77/100\n",
      "23/23 - 0s - 11ms/step - loss: 136.7162 - val_loss: 76.4443\n",
      "Epoch 78/100\n",
      "23/23 - 0s - 12ms/step - loss: 136.6097 - val_loss: 64.1633\n",
      "Epoch 79/100\n",
      "23/23 - 0s - 12ms/step - loss: 135.9990 - val_loss: 89.1267\n",
      "Epoch 80/100\n",
      "23/23 - 0s - 12ms/step - loss: 129.4046 - val_loss: 79.3155\n",
      "Epoch 81/100\n",
      "23/23 - 0s - 12ms/step - loss: 136.7407 - val_loss: 100.3107\n",
      "Epoch 82/100\n",
      "23/23 - 0s - 12ms/step - loss: 132.8727 - val_loss: 68.8300\n",
      "Epoch 83/100\n",
      "23/23 - 0s - 12ms/step - loss: 128.2861 - val_loss: 75.0308\n",
      "Epoch 84/100\n",
      "23/23 - 0s - 12ms/step - loss: 131.2487 - val_loss: 87.7448\n",
      "Epoch 85/100\n",
      "23/23 - 0s - 12ms/step - loss: 134.3862 - val_loss: 100.9505\n",
      "Epoch 86/100\n",
      "23/23 - 0s - 12ms/step - loss: 136.1622 - val_loss: 67.5880\n",
      "Epoch 87/100\n",
      "23/23 - 0s - 14ms/step - loss: 135.3030 - val_loss: 63.9438\n",
      "Epoch 88/100\n",
      "23/23 - 0s - 12ms/step - loss: 133.4654 - val_loss: 80.8659\n",
      "Epoch 89/100\n",
      "23/23 - 0s - 18ms/step - loss: 141.0065 - val_loss: 96.4634\n",
      "Epoch 90/100\n",
      "23/23 - 0s - 12ms/step - loss: 130.9205 - val_loss: 90.1348\n",
      "Epoch 91/100\n",
      "23/23 - 0s - 11ms/step - loss: 128.2323 - val_loss: 94.6495\n",
      "Epoch 92/100\n",
      "23/23 - 0s - 12ms/step - loss: 128.9117 - val_loss: 84.5535\n",
      "Epoch 93/100\n",
      "23/23 - 0s - 13ms/step - loss: 133.0928 - val_loss: 108.2858\n",
      "Epoch 94/100\n",
      "23/23 - 0s - 12ms/step - loss: 137.1214 - val_loss: 90.3411\n",
      "Epoch 95/100\n",
      "23/23 - 0s - 12ms/step - loss: 134.8193 - val_loss: 69.7164\n",
      "Epoch 96/100\n",
      "23/23 - 0s - 12ms/step - loss: 139.1944 - val_loss: 71.1710\n",
      "Epoch 97/100\n",
      "23/23 - 0s - 12ms/step - loss: 134.8486 - val_loss: 73.0487\n",
      "Epoch 98/100\n",
      "23/23 - 0s - 12ms/step - loss: 133.9614 - val_loss: 82.0309\n",
      "Epoch 99/100\n",
      "23/23 - 0s - 15ms/step - loss: 128.8181 - val_loss: 82.9963\n",
      "Epoch 100/100\n",
      "23/23 - 0s - 13ms/step - loss: 131.4952 - val_loss: 100.2617\n"
     ]
    },
    {
     "data": {
      "text/plain": [
       "<keras.src.callbacks.history.History at 0x30ffd5c60>"
      ]
     },
     "execution_count": 17,
     "metadata": {},
     "output_type": "execute_result"
    }
   ],
   "source": [
    "# fit the model\n",
    "model.fit(predictors_norm, target, validation_split=0.3, epochs=100, verbose=2)"
   ]
  },
  {
   "cell_type": "markdown",
   "id": "18c893fe-218c-4f44-b608-4a6533e2fecf",
   "metadata": {},
   "source": [
    "<strong>You can refer to this [link](https://keras.io/models/sequential/) to learn about other functions that you can use for prediction or evaluation.</strong>\n"
   ]
  },
  {
   "cell_type": "markdown",
   "id": "b771c799-de05-4da0-95ad-953fc2cd6dc2",
   "metadata": {},
   "source": [
    "Feel free to vary the following and note what impact each change has on the model's performance:\n",
    "\n",
    "1. Increase or decreate number of neurons in hidden layers\n",
    "2. Add more hidden layers\n",
    "3. Increase number of epochs\n"
   ]
  },
  {
   "cell_type": "markdown",
   "id": "ba155908-a6d0-454d-a844-8845c1e1bfa1",
   "metadata": {},
   "source": [
    "<h3>Practice Exercise 1</h3>\n"
   ]
  },
  {
   "cell_type": "markdown",
   "id": "088389e3-f534-47a8-8d5c-7e1869a3d3e7",
   "metadata": {},
   "source": [
    "Now using the same dateset,try to recreate regression model featuring five hidden layers, each with 50 nodes and ReLU activation functions, a single output layer, optimized using the Adam optimizer.\n"
   ]
  },
  {
   "cell_type": "code",
   "execution_count": 18,
   "id": "3038bbd3-5a66-4acd-a165-75f120597b5d",
   "metadata": {},
   "outputs": [],
   "source": [
    "# define regression model\n",
    "def regression_model():\n",
    "    # create model\n",
    "    model = Sequential()\n",
    "    model.add(Input(shape=(n_cols,)))\n",
    "    model.add(Dense(50, activation='relu'))\n",
    "    model.add(Dense(50, activation='relu'))\n",
    "    model.add(Dense(50, activation='relu'))\n",
    "    model.add(Dense(50, activation='relu'))\n",
    "    model.add(Dense(50, activation='relu'))\n",
    "    model.add(Dense(1))\n",
    "    \n",
    "    # compile model\n",
    "    model.compile(optimizer='adam', loss='mean_squared_error')\n",
    "    return model"
   ]
  },
  {
   "cell_type": "markdown",
   "id": "77411c52-a2fc-48c7-8673-ed35041f9e1b",
   "metadata": {},
   "source": [
    "Double-click <b>here</b> for the solution.\n",
    "\n",
    "<!-- Your answer is below:\n",
    "def regression_model():\n",
    "    input_colm = predictors_norm.shape[1] # Number of input features\n",
    "    # create model\n",
    "    model = Sequential()\n",
    "    model.add(Input(shape=(input_colm,)))  # Set the number of input features \n",
    "    model.add(Dense(50, activation='relu'))  \n",
    "    model.add(Dense(50, activation='relu'))\n",
    "    model.add(Dense(50, activation='relu')) \n",
    "    model.add(Dense(50, activation='relu'))\n",
    "    model.add(Dense(50, activation='relu'))  \n",
    "    model.add(Dense(1))  # Output layer\n",
    "    \n",
    "    # compile model\n",
    "    model.compile(optimizer='adam', loss='mean_squared_error')\n",
    "    return model\n",
    "\n",
    "-->\n"
   ]
  },
  {
   "cell_type": "markdown",
   "id": "b9a640d9-acba-4ee4-9c9b-bb31ce9e73da",
   "metadata": {},
   "source": [
    "<h3>Practice Exercise 2</h3>\n"
   ]
  },
  {
   "cell_type": "markdown",
   "id": "899a5490-c672-4e2c-b3aa-8a03185a8c74",
   "metadata": {},
   "source": [
    " Train and evaluate the model simultaneously using the fit() method by reserving 10% of the data for validation and training the model for 100 epochs\n"
   ]
  },
  {
   "cell_type": "code",
   "execution_count": 19,
   "id": "cc2b4527-7b2e-43c6-bc59-ed177324e788",
   "metadata": {},
   "outputs": [
    {
     "name": "stdout",
     "output_type": "stream",
     "text": [
      "Epoch 1/100\n",
      "29/29 - 3s - 92ms/step - loss: 1558.0002 - val_loss: 1169.5342\n",
      "Epoch 2/100\n",
      "29/29 - 0s - 16ms/step - loss: 1428.0409 - val_loss: 1487.7150\n",
      "Epoch 3/100\n",
      "29/29 - 0s - 16ms/step - loss: 1283.3345 - val_loss: 944.5131\n",
      "Epoch 4/100\n",
      "29/29 - 0s - 17ms/step - loss: 1063.8728 - val_loss: 1148.7061\n",
      "Epoch 5/100\n",
      "29/29 - 0s - 16ms/step - loss: 1914.2238 - val_loss: 6850.0405\n",
      "Epoch 6/100\n",
      "29/29 - 0s - 16ms/step - loss: 2658.7493 - val_loss: 391.0768\n",
      "Epoch 7/100\n",
      "29/29 - 0s - 16ms/step - loss: 7151.8721 - val_loss: 15900.5020\n",
      "Epoch 8/100\n",
      "29/29 - 1s - 17ms/step - loss: 13044.8838 - val_loss: 416.1418\n",
      "Epoch 9/100\n",
      "29/29 - 1s - 18ms/step - loss: 2666.0696 - val_loss: 302.8316\n",
      "Epoch 10/100\n",
      "29/29 - 0s - 16ms/step - loss: 615.4915 - val_loss: 684.1419\n",
      "Epoch 11/100\n",
      "29/29 - 0s - 16ms/step - loss: 1001.4921 - val_loss: 223.0941\n",
      "Epoch 12/100\n",
      "29/29 - 1s - 22ms/step - loss: 486.3267 - val_loss: 201.2046\n",
      "Epoch 13/100\n",
      "29/29 - 0s - 16ms/step - loss: 415.5277 - val_loss: 391.6523\n",
      "Epoch 14/100\n",
      "29/29 - 0s - 16ms/step - loss: 30235.0430 - val_loss: 103082.8828\n",
      "Epoch 15/100\n",
      "29/29 - 0s - 16ms/step - loss: 17557.6289 - val_loss: 4908.9028\n",
      "Epoch 16/100\n",
      "29/29 - 1s - 18ms/step - loss: 3311.8953 - val_loss: 1925.7357\n",
      "Epoch 17/100\n",
      "29/29 - 0s - 17ms/step - loss: 2364.6633 - val_loss: 1566.7677\n",
      "Epoch 18/100\n",
      "29/29 - 0s - 16ms/step - loss: 3287.1736 - val_loss: 6645.5483\n",
      "Epoch 19/100\n",
      "29/29 - 0s - 16ms/step - loss: 51824.4648 - val_loss: 88579.7109\n",
      "Epoch 20/100\n",
      "29/29 - 0s - 16ms/step - loss: 258930.2188 - val_loss: 164416.9375\n",
      "Epoch 21/100\n",
      "29/29 - 0s - 16ms/step - loss: 173766.6719 - val_loss: 54202.1523\n",
      "Epoch 22/100\n",
      "29/29 - 0s - 17ms/step - loss: 16121.0117 - val_loss: 277.5536\n",
      "Epoch 23/100\n",
      "29/29 - 1s - 18ms/step - loss: 757.9808 - val_loss: 229.1315\n",
      "Epoch 24/100\n",
      "29/29 - 0s - 17ms/step - loss: 182.0860 - val_loss: 145.2792\n",
      "Epoch 25/100\n",
      "29/29 - 0s - 17ms/step - loss: 159.6070 - val_loss: 153.8638\n",
      "Epoch 26/100\n",
      "29/29 - 1s - 17ms/step - loss: 174.2923 - val_loss: 133.8440\n",
      "Epoch 27/100\n",
      "29/29 - 0s - 16ms/step - loss: 205.2441 - val_loss: 251.1057\n",
      "Epoch 28/100\n",
      "29/29 - 1s - 28ms/step - loss: 215.2104 - val_loss: 218.9886\n",
      "Epoch 29/100\n",
      "29/29 - 1s - 34ms/step - loss: 222.7891 - val_loss: 163.1817\n",
      "Epoch 30/100\n",
      "29/29 - 1s - 29ms/step - loss: 180.8290 - val_loss: 120.5249\n",
      "Epoch 31/100\n",
      "29/29 - 1s - 18ms/step - loss: 166.1377 - val_loss: 116.2074\n",
      "Epoch 32/100\n",
      "29/29 - 1s - 22ms/step - loss: 162.6481 - val_loss: 121.5015\n",
      "Epoch 33/100\n",
      "29/29 - 0s - 15ms/step - loss: 172.6371 - val_loss: 127.6168\n",
      "Epoch 34/100\n",
      "29/29 - 0s - 15ms/step - loss: 244.6198 - val_loss: 306.7512\n",
      "Epoch 35/100\n",
      "29/29 - 0s - 15ms/step - loss: 250.0533 - val_loss: 187.5009\n",
      "Epoch 36/100\n",
      "29/29 - 0s - 15ms/step - loss: 213.6351 - val_loss: 192.8017\n",
      "Epoch 37/100\n",
      "29/29 - 0s - 15ms/step - loss: 175.4356 - val_loss: 222.9467\n",
      "Epoch 38/100\n",
      "29/29 - 0s - 15ms/step - loss: 220.8738 - val_loss: 592.8274\n",
      "Epoch 39/100\n",
      "29/29 - 0s - 15ms/step - loss: 211.0680 - val_loss: 105.9316\n",
      "Epoch 40/100\n",
      "29/29 - 0s - 17ms/step - loss: 160.9938 - val_loss: 95.1602\n",
      "Epoch 41/100\n",
      "29/29 - 0s - 17ms/step - loss: 251.7741 - val_loss: 91.0864\n",
      "Epoch 42/100\n",
      "29/29 - 1s - 25ms/step - loss: 227.8089 - val_loss: 98.5662\n",
      "Epoch 43/100\n",
      "29/29 - 0s - 16ms/step - loss: 185.6716 - val_loss: 103.5339\n",
      "Epoch 44/100\n",
      "29/29 - 1s - 19ms/step - loss: 178.5034 - val_loss: 92.5127\n",
      "Epoch 45/100\n",
      "29/29 - 1s - 22ms/step - loss: 164.3477 - val_loss: 90.5533\n",
      "Epoch 46/100\n",
      "29/29 - 0s - 16ms/step - loss: 178.2901 - val_loss: 96.4395\n",
      "Epoch 47/100\n",
      "29/29 - 1s - 18ms/step - loss: 436.7097 - val_loss: 160.9737\n",
      "Epoch 48/100\n",
      "29/29 - 0s - 16ms/step - loss: 330.1640 - val_loss: 244.2968\n",
      "Epoch 49/100\n",
      "29/29 - 1s - 18ms/step - loss: 354.9208 - val_loss: 222.4102\n",
      "Epoch 50/100\n",
      "29/29 - 0s - 17ms/step - loss: 770.6266 - val_loss: 423.6078\n",
      "Epoch 51/100\n",
      "29/29 - 1s - 18ms/step - loss: 458.4551 - val_loss: 507.8250\n",
      "Epoch 52/100\n",
      "29/29 - 1s - 17ms/step - loss: 504.2253 - val_loss: 544.7181\n",
      "Epoch 53/100\n",
      "29/29 - 1s - 19ms/step - loss: 818.8627 - val_loss: 76.7068\n",
      "Epoch 54/100\n",
      "29/29 - 1s - 17ms/step - loss: 212.0481 - val_loss: 158.5370\n",
      "Epoch 55/100\n",
      "29/29 - 1s - 18ms/step - loss: 427.1290 - val_loss: 77.9951\n",
      "Epoch 56/100\n",
      "29/29 - 0s - 16ms/step - loss: 221.6849 - val_loss: 152.6772\n",
      "Epoch 57/100\n",
      "29/29 - 0s - 15ms/step - loss: 392.3640 - val_loss: 277.2534\n",
      "Epoch 58/100\n",
      "29/29 - 1s - 22ms/step - loss: 411.4760 - val_loss: 313.8281\n",
      "Epoch 59/100\n",
      "29/29 - 1s - 24ms/step - loss: 739.4113 - val_loss: 2116.4160\n",
      "Epoch 60/100\n",
      "29/29 - 1s - 19ms/step - loss: 676.7531 - val_loss: 66.9564\n",
      "Epoch 61/100\n",
      "29/29 - 1s - 19ms/step - loss: 540.8713 - val_loss: 722.3585\n",
      "Epoch 62/100\n",
      "29/29 - 1s - 25ms/step - loss: 646.3414 - val_loss: 148.9606\n",
      "Epoch 63/100\n",
      "29/29 - 1s - 24ms/step - loss: 884.5319 - val_loss: 1422.9210\n",
      "Epoch 64/100\n",
      "29/29 - 0s - 16ms/step - loss: 2248.2083 - val_loss: 892.0350\n",
      "Epoch 65/100\n",
      "29/29 - 0s - 16ms/step - loss: 986.8247 - val_loss: 171.5956\n",
      "Epoch 66/100\n",
      "29/29 - 0s - 17ms/step - loss: 55051.8398 - val_loss: 389885.2812\n",
      "Epoch 67/100\n",
      "29/29 - 1s - 18ms/step - loss: 233423.2969 - val_loss: 58020.0742\n",
      "Epoch 68/100\n",
      "29/29 - 1s - 18ms/step - loss: 14984.4648 - val_loss: 1335.8470\n",
      "Epoch 69/100\n",
      "29/29 - 1s - 28ms/step - loss: 428.7749 - val_loss: 185.0702\n",
      "Epoch 70/100\n",
      "29/29 - 1s - 37ms/step - loss: 727.9954 - val_loss: 470.3466\n",
      "Epoch 71/100\n",
      "29/29 - 1s - 18ms/step - loss: 929.2495 - val_loss: 87.2717\n",
      "Epoch 72/100\n",
      "29/29 - 1s - 20ms/step - loss: 242.5477 - val_loss: 125.8785\n",
      "Epoch 73/100\n",
      "29/29 - 0s - 16ms/step - loss: 201.7450 - val_loss: 488.9707\n",
      "Epoch 74/100\n",
      "29/29 - 0s - 16ms/step - loss: 408.7299 - val_loss: 333.2980\n",
      "Epoch 75/100\n",
      "29/29 - 0s - 16ms/step - loss: 214.9027 - val_loss: 335.7830\n",
      "Epoch 76/100\n",
      "29/29 - 0s - 16ms/step - loss: 271.1656 - val_loss: 293.8963\n",
      "Epoch 77/100\n",
      "29/29 - 0s - 16ms/step - loss: 187.9722 - val_loss: 68.9825\n",
      "Epoch 78/100\n",
      "29/29 - 0s - 16ms/step - loss: 185.3397 - val_loss: 64.1448\n",
      "Epoch 79/100\n",
      "29/29 - 0s - 16ms/step - loss: 147.2437 - val_loss: 130.1310\n",
      "Epoch 80/100\n",
      "29/29 - 0s - 16ms/step - loss: 389.0828 - val_loss: 116.4038\n",
      "Epoch 81/100\n",
      "29/29 - 0s - 16ms/step - loss: 182.3425 - val_loss: 182.4854\n",
      "Epoch 82/100\n",
      "29/29 - 0s - 16ms/step - loss: 226.9440 - val_loss: 104.2706\n",
      "Epoch 83/100\n",
      "29/29 - 0s - 17ms/step - loss: 212.2418 - val_loss: 296.9561\n",
      "Epoch 84/100\n",
      "29/29 - 0s - 15ms/step - loss: 337.2214 - val_loss: 63.0746\n",
      "Epoch 85/100\n",
      "29/29 - 0s - 15ms/step - loss: 265.3999 - val_loss: 351.2553\n",
      "Epoch 86/100\n",
      "29/29 - 1s - 43ms/step - loss: 1009.3142 - val_loss: 9084.7168\n",
      "Epoch 87/100\n",
      "29/29 - 1s - 35ms/step - loss: 4893.5688 - val_loss: 4811.8833\n",
      "Epoch 88/100\n",
      "29/29 - 1s - 33ms/step - loss: 2731.1960 - val_loss: 3532.9690\n",
      "Epoch 89/100\n",
      "29/29 - 1s - 32ms/step - loss: 4124.9380 - val_loss: 95.0722\n",
      "Epoch 90/100\n",
      "29/29 - 3s - 90ms/step - loss: 1189.5596 - val_loss: 1053.3611\n",
      "Epoch 91/100\n",
      "29/29 - 0s - 16ms/step - loss: 6435.3809 - val_loss: 37863.5312\n",
      "Epoch 92/100\n",
      "29/29 - 0s - 16ms/step - loss: 6803.0278 - val_loss: 792.9537\n",
      "Epoch 93/100\n",
      "29/29 - 0s - 16ms/step - loss: 2181.9053 - val_loss: 29418.4102\n",
      "Epoch 94/100\n",
      "29/29 - 0s - 16ms/step - loss: 13194.2812 - val_loss: 7429.2822\n",
      "Epoch 95/100\n",
      "29/29 - 0s - 17ms/step - loss: 3386.9690 - val_loss: 68.6421\n",
      "Epoch 96/100\n",
      "29/29 - 0s - 16ms/step - loss: 3283.7886 - val_loss: 3866.6716\n",
      "Epoch 97/100\n",
      "29/29 - 0s - 16ms/step - loss: 58379.6523 - val_loss: 8874.7705\n",
      "Epoch 98/100\n",
      "29/29 - 0s - 16ms/step - loss: 32229.2520 - val_loss: 602.6241\n",
      "Epoch 99/100\n",
      "29/29 - 0s - 15ms/step - loss: 12931.0459 - val_loss: 13194.7764\n",
      "Epoch 100/100\n",
      "29/29 - 0s - 16ms/step - loss: 3737.6011 - val_loss: 65.0386\n"
     ]
    },
    {
     "data": {
      "text/plain": [
       "<keras.src.callbacks.history.History at 0x313596770>"
      ]
     },
     "execution_count": 19,
     "metadata": {},
     "output_type": "execute_result"
    }
   ],
   "source": [
    "model = regression_model()\n",
    "model.fit(predictors_norm, target, validation_split=0.1, epochs=100, verbose=2)"
   ]
  },
  {
   "cell_type": "markdown",
   "id": "93ded2fc-4983-4e8f-bd65-21922459992f",
   "metadata": {},
   "source": [
    "Double-click <b>here</b> for the solution.\n",
    "\n",
    "<!-- Your answer is below:\n",
    "# build the model\n",
    "model = regression_model()\n",
    "model.fit(predictors_norm, target, validation_split=0.1, epochs=100, verbose=2)\n",
    "\n",
    "-->\n"
   ]
  },
  {
   "cell_type": "markdown",
   "id": "79d03eed-4585-427c-98c5-3ba12c1fbc83",
   "metadata": {},
   "source": [
    "Based on the results, we notice that:\n",
    "\n",
    "- Adding more hidden layers to the model increases its capacity to learn and represent complex relationships within the data. This allows the model to better identify, as a result, the model becomes more effective at fitting the training data and potentially improving its predictions.\n",
    "- By reducing the proportion of data set aside for validation and using a larger portion for training, the model has access to more examples to learn from. This additional training data helps the model improve its understanding of the underlying trends, which can lead to better overall performance.  \n"
   ]
  },
  {
   "cell_type": "markdown",
   "id": "c12af6c9-dde2-4cdb-8706-e17f7f212b4f",
   "metadata": {},
   "source": [
    "### Thank you for completing this lab!\n",
    "\n",
    "This notebook was created by [Alex Aklson](https://www.linkedin.com/in/aklson/). I hope you found this lab interesting and educational. Feel free to contact me if you have any questions!\n"
   ]
  },
  {
   "cell_type": "markdown",
   "id": "564eb396-1e02-4b86-bdfb-0a34c6d4503e",
   "metadata": {},
   "source": [
    "<!--\n",
    "## Change Log\n",
    "\n",
    "|  Date (YYYY-MM-DD) |  Version | Changed By  |  Change Description |\n",
    "|---|---|---|---|\n",
    "| 2024-11-20  | 3.0  | Aman  |  Updated the library versions to current |\n",
    "| 2020-09-21  | 2.0  | Srishti  |  Migrated Lab to Markdown and added to course repo in GitLab |\n",
    "\n",
    "\n",
    "\n",
    "<hr>\n",
    "\n",
    "## <h3 align=\"center\"> © IBM Corporation. All rights reserved. <h3/>\n"
   ]
  },
  {
   "cell_type": "markdown",
   "id": "f01cf1a2-d02a-4d19-9ada-19dd47feb517",
   "metadata": {},
   "source": [
    "## <h3 align=\"center\"> &#169; IBM Corporation. All rights reserved. <h3/>\n",
    "\n"
   ]
  }
 ],
 "metadata": {
  "kernelspec": {
   "display_name": "tensorflow",
   "language": "python",
   "name": "python3"
  },
  "language_info": {
   "codemirror_mode": {
    "name": "ipython",
    "version": 3
   },
   "file_extension": ".py",
   "mimetype": "text/x-python",
   "name": "python",
   "nbconvert_exporter": "python",
   "pygments_lexer": "ipython3",
   "version": "3.10.14"
  },
  "prev_pub_hash": "1318243f5c57a871ada11a63a887b187b71b9e224c59cc45cb9fac7ca19844fc"
 },
 "nbformat": 4,
 "nbformat_minor": 4
}
